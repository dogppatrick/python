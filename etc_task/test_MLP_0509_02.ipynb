{
 "cells": [
  {
   "cell_type": "code",
   "execution_count": 1,
   "metadata": {},
   "outputs": [
    {
     "name": "stderr",
     "output_type": "stream",
     "text": [
      "Using TensorFlow backend.\n"
     ]
    }
   ],
   "source": [
    "import keras\n",
    "from keras.datasets import mnist\n",
    "from keras.models import Sequential\n",
    "from keras.layers import Dense,Dropout\n",
    "import matplotlib.pyplot as plt\n",
    "import numpy as np\n",
    "import pandas as pd\n",
    "from keras.utils import np_utils\n",
    "pd.set_option('display.max_rows', 15)\n",
    "pd.set_option('display.max_columns', 10)"
   ]
  },
  {
   "cell_type": "code",
   "execution_count": 2,
   "metadata": {},
   "outputs": [],
   "source": [
    "(x_train, y_train),(x_test, y_test) = mnist.load_data()\n",
    "# 60000張圖 28X28 pixel的圖片\n",
    "# 將數值標準化\n",
    "# reshape 讓他從 32 * 32 變成 784 * 1 的一維陣列\n",
    "# 除以 255 讓我們標準化到 0-1 區間\n",
    "x_train_shaped = x_train.reshape(60000, 784).astype(\"float32\") / 255\n",
    "x_test_shaped = x_test.reshape(10000, 784).astype(\"float32\") / 255\n",
    "# keras 要求你的分類輸出必須換成 One-hot 模式\n",
    "y_train_cat = np_utils.to_categorical(y_train)\n",
    "y_test_cat = np_utils.to_categorical(y_test)\n",
    "# print(\"One-hot 前:\", y_train[0])\n",
    "# print(\"One-hot 後:\", y_train_cat[0])"
   ]
  },
  {
   "cell_type": "code",
   "execution_count": 3,
   "metadata": {},
   "outputs": [],
   "source": [
    "# # display result\n",
    "# a = int(input(\"請輸入你想可視化的圖片 [0-59999]:\"))\n",
    "# print(\"你想可視化的圖片號碼是\", a)\n",
    "# print(\"圖片答案是\", y_train[a])\n",
    "# plt.imshow(x_train[a],cmap='gray')"
   ]
  },
  {
   "cell_type": "code",
   "execution_count": 4,
   "metadata": {},
   "outputs": [
    {
     "name": "stdout",
     "output_type": "stream",
     "text": [
      "_________________________________________________________________\n",
      "Layer (type)                 Output Shape              Param #   \n",
      "=================================================================\n",
      "dense_1 (Dense)              (None, 256)               200960    \n",
      "_________________________________________________________________\n",
      "dense_2 (Dense)              (None, 10)                2570      \n",
      "=================================================================\n",
      "Total params: 203,530\n",
      "Trainable params: 203,530\n",
      "Non-trainable params: 0\n",
      "_________________________________________________________________\n"
     ]
    }
   ],
   "source": [
    "from keras.models import Sequential\n",
    "from keras.layers import Dense\n",
    "model = Sequential()\n",
    "# 中間層\n",
    "h_layer = Dense(units = 256,input_dim = 784,kernel_initializer = \"random_normal\",activation = \"relu\")\n",
    "model.add(h_layer)\n",
    "# 輸出數字為 0~9\n",
    "o_layer = Dense(units = 10,kernel_initializer = \"random_normal\",activation = \"softmax\")\n",
    "model.add(o_layer)\n",
    "model.summary()"
   ]
  },
  {
   "cell_type": "code",
   "execution_count": 5,
   "metadata": {},
   "outputs": [
    {
     "name": "stdout",
     "output_type": "stream",
     "text": [
      "Train on 54000 samples, validate on 6000 samples\n",
      "Epoch 1/10\n",
      " - 1s - loss: 0.5349 - acc: 0.8629 - val_loss: 0.2217 - val_acc: 0.9377\n",
      "Epoch 2/10\n",
      " - 1s - loss: 0.2318 - acc: 0.9348 - val_loss: 0.1637 - val_acc: 0.9568\n",
      "Epoch 3/10\n",
      " - 1s - loss: 0.1724 - acc: 0.9511 - val_loss: 0.1303 - val_acc: 0.9647\n",
      "Epoch 4/10\n",
      " - 1s - loss: 0.1369 - acc: 0.9616 - val_loss: 0.1112 - val_acc: 0.9692\n",
      "Epoch 5/10\n",
      " - 1s - loss: 0.1111 - acc: 0.9684 - val_loss: 0.1010 - val_acc: 0.9732\n",
      "Epoch 6/10\n",
      " - 1s - loss: 0.0919 - acc: 0.9744 - val_loss: 0.0924 - val_acc: 0.9737\n",
      "Epoch 7/10\n",
      " - 1s - loss: 0.0783 - acc: 0.9784 - val_loss: 0.0841 - val_acc: 0.9747\n",
      "Epoch 8/10\n",
      " - 1s - loss: 0.0676 - acc: 0.9814 - val_loss: 0.0823 - val_acc: 0.9762\n",
      "Epoch 9/10\n",
      " - 1s - loss: 0.0581 - acc: 0.9842 - val_loss: 0.0784 - val_acc: 0.9765\n",
      "Epoch 10/10\n",
      " - 1s - loss: 0.0503 - acc: 0.9869 - val_loss: 0.0765 - val_acc: 0.9782\n"
     ]
    }
   ],
   "source": [
    "#  optimizer 先選 adam\n",
    "model.compile(loss=\"categorical_crossentropy\",optimizer = \"adam\", metrics = ['accuracy'])\n",
    "train_history = model.fit(x = x_train_shaped, y = y_train_cat, \n",
    "                          validation_split = 0.1, epochs = 10, \n",
    "                          batch_size = 400,verbose = 2)\n"
   ]
  },
  {
   "cell_type": "code",
   "execution_count": 6,
   "metadata": {},
   "outputs": [
    {
     "name": "stdout",
     "output_type": "stream",
     "text": [
      "預測標籤: [7, 2, 1, 0, 4]\n",
      "正確標籤: [7, 2, 1, 0, 4]\n",
      "10000/10000 [==============================] - 0s 14us/step\n",
      "衡量係數: [0.07698322105710395, 0.9766]\n",
      "正確率: 97.66 %\n"
     ]
    },
    {
     "data": {
      "text/html": [
       "<div>\n",
       "<style scoped>\n",
       "    .dataframe tbody tr th:only-of-type {\n",
       "        vertical-align: middle;\n",
       "    }\n",
       "\n",
       "    .dataframe tbody tr th {\n",
       "        vertical-align: top;\n",
       "    }\n",
       "\n",
       "    .dataframe thead th {\n",
       "        text-align: right;\n",
       "    }\n",
       "</style>\n",
       "<table border=\"1\" class=\"dataframe\">\n",
       "  <thead>\n",
       "    <tr style=\"text-align: right;\">\n",
       "      <th></th>\n",
       "      <th>0</th>\n",
       "      <th>1</th>\n",
       "      <th>2</th>\n",
       "      <th>3</th>\n",
       "      <th>4</th>\n",
       "      <th>5</th>\n",
       "      <th>6</th>\n",
       "      <th>7</th>\n",
       "      <th>8</th>\n",
       "      <th>9</th>\n",
       "    </tr>\n",
       "  </thead>\n",
       "  <tbody>\n",
       "    <tr>\n",
       "      <th>0</th>\n",
       "      <td>970</td>\n",
       "      <td>0</td>\n",
       "      <td>1</td>\n",
       "      <td>1</td>\n",
       "      <td>1</td>\n",
       "      <td>0</td>\n",
       "      <td>4</td>\n",
       "      <td>1</td>\n",
       "      <td>2</td>\n",
       "      <td>0</td>\n",
       "    </tr>\n",
       "    <tr>\n",
       "      <th>1</th>\n",
       "      <td>0</td>\n",
       "      <td>1124</td>\n",
       "      <td>3</td>\n",
       "      <td>1</td>\n",
       "      <td>0</td>\n",
       "      <td>1</td>\n",
       "      <td>2</td>\n",
       "      <td>0</td>\n",
       "      <td>4</td>\n",
       "      <td>0</td>\n",
       "    </tr>\n",
       "    <tr>\n",
       "      <th>2</th>\n",
       "      <td>5</td>\n",
       "      <td>2</td>\n",
       "      <td>1007</td>\n",
       "      <td>2</td>\n",
       "      <td>2</td>\n",
       "      <td>0</td>\n",
       "      <td>2</td>\n",
       "      <td>7</td>\n",
       "      <td>5</td>\n",
       "      <td>0</td>\n",
       "    </tr>\n",
       "    <tr>\n",
       "      <th>3</th>\n",
       "      <td>0</td>\n",
       "      <td>0</td>\n",
       "      <td>4</td>\n",
       "      <td>991</td>\n",
       "      <td>0</td>\n",
       "      <td>1</td>\n",
       "      <td>1</td>\n",
       "      <td>4</td>\n",
       "      <td>5</td>\n",
       "      <td>4</td>\n",
       "    </tr>\n",
       "    <tr>\n",
       "      <th>4</th>\n",
       "      <td>0</td>\n",
       "      <td>0</td>\n",
       "      <td>5</td>\n",
       "      <td>1</td>\n",
       "      <td>959</td>\n",
       "      <td>0</td>\n",
       "      <td>4</td>\n",
       "      <td>1</td>\n",
       "      <td>1</td>\n",
       "      <td>11</td>\n",
       "    </tr>\n",
       "    <tr>\n",
       "      <th>5</th>\n",
       "      <td>2</td>\n",
       "      <td>1</td>\n",
       "      <td>0</td>\n",
       "      <td>9</td>\n",
       "      <td>1</td>\n",
       "      <td>864</td>\n",
       "      <td>7</td>\n",
       "      <td>1</td>\n",
       "      <td>5</td>\n",
       "      <td>2</td>\n",
       "    </tr>\n",
       "    <tr>\n",
       "      <th>6</th>\n",
       "      <td>7</td>\n",
       "      <td>2</td>\n",
       "      <td>1</td>\n",
       "      <td>1</td>\n",
       "      <td>2</td>\n",
       "      <td>3</td>\n",
       "      <td>940</td>\n",
       "      <td>0</td>\n",
       "      <td>2</td>\n",
       "      <td>0</td>\n",
       "    </tr>\n",
       "    <tr>\n",
       "      <th>7</th>\n",
       "      <td>1</td>\n",
       "      <td>7</td>\n",
       "      <td>10</td>\n",
       "      <td>5</td>\n",
       "      <td>0</td>\n",
       "      <td>0</td>\n",
       "      <td>0</td>\n",
       "      <td>996</td>\n",
       "      <td>1</td>\n",
       "      <td>8</td>\n",
       "    </tr>\n",
       "    <tr>\n",
       "      <th>8</th>\n",
       "      <td>3</td>\n",
       "      <td>1</td>\n",
       "      <td>5</td>\n",
       "      <td>5</td>\n",
       "      <td>3</td>\n",
       "      <td>4</td>\n",
       "      <td>3</td>\n",
       "      <td>3</td>\n",
       "      <td>943</td>\n",
       "      <td>4</td>\n",
       "    </tr>\n",
       "    <tr>\n",
       "      <th>9</th>\n",
       "      <td>2</td>\n",
       "      <td>5</td>\n",
       "      <td>0</td>\n",
       "      <td>7</td>\n",
       "      <td>12</td>\n",
       "      <td>4</td>\n",
       "      <td>1</td>\n",
       "      <td>4</td>\n",
       "      <td>2</td>\n",
       "      <td>972</td>\n",
       "    </tr>\n",
       "  </tbody>\n",
       "</table>\n",
       "</div>"
      ],
      "text/plain": [
       "     0     1     2    3    4    5    6    7    8    9\n",
       "0  970     0     1    1    1    0    4    1    2    0\n",
       "1    0  1124     3    1    0    1    2    0    4    0\n",
       "2    5     2  1007    2    2    0    2    7    5    0\n",
       "3    0     0     4  991    0    1    1    4    5    4\n",
       "4    0     0     5    1  959    0    4    1    1   11\n",
       "5    2     1     0    9    1  864    7    1    5    2\n",
       "6    7     2     1    1    2    3  940    0    2    0\n",
       "7    1     7    10    5    0    0    0  996    1    8\n",
       "8    3     1     5    5    3    4    3    3  943    4\n",
       "9    2     5     0    7   12    4    1    4    2  972"
      ]
     },
     "execution_count": 6,
     "metadata": {},
     "output_type": "execute_result"
    },
    {
     "data": {
      "image/png": "[encoded data removed]",
      "text/plain": [
       "<Figure size 432x288 with 1 Axes>"
      ]
     },
     "metadata": {
      "needs_background": "light"
     },
     "output_type": "display_data"
    }
   ],
   "source": [
    "plt.plot(train_history.history[\"loss\"])\n",
    "plt.plot(train_history.history[\"val_loss\"])\n",
    "plt.title(\"Loss Graph\")\n",
    "plt.legend(['loss', 'val_loss'], loc=\"upper left\")\n",
    "pre = model.predict_classes(x_test_shaped)\n",
    "print(\"預測標籤:\", list(pre[:5]))\n",
    "print(\"正確標籤:\", list(y_test)[:5])\n",
    "e = model.evaluate(x_test_shaped, y_test_cat)\n",
    "print(\"衡量係數:\", e)\n",
    "print(\"正確率:\", e[1] * 100, \"%\")\n",
    "from sklearn.metrics import confusion_matrix\n",
    "pd.DataFrame(confusion_matrix(y_test, pre))"
   ]
  },
  {
   "cell_type": "code",
   "execution_count": null,
   "metadata": {},
   "outputs": [],
   "source": []
  }
 ],
 "metadata": {
  "kernelspec": {
   "display_name": "Python 3",
   "language": "python",
   "name": "python3"
  },
  "language_info": {
   "codemirror_mode": {
    "name": "ipython",
    "version": 3
   },
   "file_extension": ".py",
   "mimetype": "text/x-python",
   "name": "python",
   "nbconvert_exporter": "python",
   "pygments_lexer": "ipython3",
   "version": "3.6.0"
  }
 },
 "nbformat": 4,
 "nbformat_minor": 2
}
