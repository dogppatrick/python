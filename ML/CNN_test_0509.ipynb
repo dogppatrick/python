{
 "cells": [
  {
   "cell_type": "code",
   "execution_count": 2,
   "metadata": {},
   "outputs": [],
   "source": [
    "from keras.datasets import cifar10\n",
    "import matplotlib.pyplot as plt\n",
    "%matplotlib inline\n",
    "# 需先安裝cifar10 或是等套件自己安裝\n",
    "(x_train, y_train), (x_test, y_test) = cifar10.load_data()\n",
    "label = {0:\"飛機\", 1:\"車\", 2:\"鳥\", 3:\"貓\", 4:\"鹿\",5:\"狗\", 6:\"青蛙\", 7:\"馬\", 8:\"船\", 9:\"卡車\"}"
   ]
  },
  {
   "cell_type": "code",
   "execution_count": 8,
   "metadata": {
    "scrolled": true
   },
   "outputs": [],
   "source": [
    "# 檢查 圖片\n",
    "# a = int(input(\"請輸入你想可視化的圖片 [0-49999]:\"))\n",
    "# print(\"你想可視化的圖片號碼是\", a)\n",
    "# print(\"圖片答案是\", label[y_train[a][0]])\n",
    "# plt.imshow(x_train[a])"
   ]
  },
  {
   "cell_type": "code",
   "execution_count": 7,
   "metadata": {},
   "outputs": [],
   "source": [
    "from keras.utils import np_utils\n",
    "x_train_shaped = x_train.astype(\"float32\") / 255\n",
    "x_test_shaped = x_test.astype(\"float32\") / 255\n",
    "y_train_cat = np_utils.to_categorical(y_train)\n",
    "y_test_cat = np_utils.to_categorical(y_test)"
   ]
  },
  {
   "cell_type": "code",
   "execution_count": 9,
   "metadata": {},
   "outputs": [
    {
     "name": "stdout",
     "output_type": "stream",
     "text": [
      "_________________________________________________________________\n",
      "Layer (type)                 Output Shape              Param #   \n",
      "=================================================================\n",
      "conv2d_1 (Conv2D)            (None, 32, 32, 32)        896       \n",
      "_________________________________________________________________\n",
      "max_pooling2d_1 (MaxPooling2 (None, 16, 16, 32)        0         \n",
      "_________________________________________________________________\n",
      "dropout_1 (Dropout)          (None, 16, 16, 32)        0         \n",
      "_________________________________________________________________\n",
      "conv2d_2 (Conv2D)            (None, 16, 16, 64)        18496     \n",
      "_________________________________________________________________\n",
      "max_pooling2d_2 (MaxPooling2 (None, 8, 8, 64)          0         \n",
      "_________________________________________________________________\n",
      "flatten_1 (Flatten)          (None, 4096)              0         \n",
      "_________________________________________________________________\n",
      "dropout_2 (Dropout)          (None, 4096)              0         \n",
      "_________________________________________________________________\n",
      "dense_1 (Dense)              (None, 128)               524416    \n",
      "_________________________________________________________________\n",
      "dropout_3 (Dropout)          (None, 128)               0         \n",
      "_________________________________________________________________\n",
      "dense_2 (Dense)              (None, 10)                1290      \n",
      "=================================================================\n",
      "Total params: 545,098\n",
      "Trainable params: 545,098\n",
      "Non-trainable params: 0\n",
      "_________________________________________________________________\n"
     ]
    }
   ],
   "source": [
    "from keras.models import Sequential\n",
    "from keras.layers import Dense, Dropout, Activation, Flatten\n",
    "from keras.layers import Conv2D, MaxPooling2D, ZeroPadding2D\n",
    "model = Sequential()\n",
    "# 第一次卷積和第一次池化\n",
    "model.add(Conv2D(filters=32,kernel_size=(3, 3),input_shape=(32, 32, 3),\n",
    "                 activation='relu',padding='same'))\n",
    "#  32 個特徵 每個 3X3X3 大 [高 寬 RGB] +1 bias \n",
    "model.add(MaxPooling2D(pool_size=(2, 2)))\n",
    "# 斷開 25% 的連接\n",
    "# 並且加入第二次卷積和第二次池化\n",
    "model.add(Dropout(0.25))\n",
    "model.add(Conv2D(filters=64,kernel_size=(3, 3),activation='relu',padding='same'))\n",
    "model.add(MaxPooling2D(pool_size=(2, 2)))\n",
    "# 把你處理過的東西攤開成為一維\n",
    "model.add(Flatten())\n",
    "model.add(Dropout(rate=0.25))\n",
    "# 全連接層\n",
    "model.add(Dense(128, activation='relu'))\n",
    "model.add(Dropout(rate=0.25))\n",
    "model.add(Dense(10, activation='softmax'))\n",
    "model.summary()"
   ]
  },
  {
   "cell_type": "code",
   "execution_count": 10,
   "metadata": {},
   "outputs": [
    {
     "name": "stdout",
     "output_type": "stream",
     "text": [
      "Train on 45000 samples, validate on 5000 samples\n",
      "Epoch 1/10\n",
      " - 40s - loss: 1.6921 - acc: 0.3835 - val_loss: 1.3530 - val_acc: 0.5296\n",
      "Epoch 2/10\n",
      " - 40s - loss: 1.3492 - acc: 0.5176 - val_loss: 1.2054 - val_acc: 0.5802\n",
      "Epoch 3/10\n",
      " - 40s - loss: 1.2231 - acc: 0.5622 - val_loss: 1.0714 - val_acc: 0.6294\n",
      "Epoch 4/10\n",
      " - 40s - loss: 1.1390 - acc: 0.5970 - val_loss: 1.0177 - val_acc: 0.6516\n",
      "Epoch 5/10\n",
      " - 38s - loss: 1.0659 - acc: 0.6234 - val_loss: 0.9584 - val_acc: 0.6736\n",
      "Epoch 6/10\n",
      " - 39s - loss: 1.0123 - acc: 0.6429 - val_loss: 0.9081 - val_acc: 0.6878\n",
      "Epoch 7/10\n",
      " - 38s - loss: 0.9730 - acc: 0.6534 - val_loss: 0.8818 - val_acc: 0.6974\n",
      "Epoch 8/10\n",
      " - 39s - loss: 0.9386 - acc: 0.6701 - val_loss: 0.8739 - val_acc: 0.7054\n",
      "Epoch 9/10\n",
      " - 38s - loss: 0.9083 - acc: 0.6765 - val_loss: 0.8496 - val_acc: 0.7070\n",
      "Epoch 10/10\n",
      " - 38s - loss: 0.8766 - acc: 0.6899 - val_loss: 0.8150 - val_acc: 0.7254\n"
     ]
    }
   ],
   "source": [
    "model.compile(loss=\"categorical_crossentropy\",\n",
    "optimizer = \"adam\",\n",
    "metrics = ['accuracy'])\n",
    "train_history = model.fit(x = x_train_shaped, y = y_train_cat,\n",
    "                          validation_split = 0.1,epochs = 10,batch_size = 128,verbose = 2)"
   ]
  },
  {
   "cell_type": "code",
   "execution_count": 11,
   "metadata": {},
   "outputs": [
    {
     "data": {
      "text/plain": [
       "<matplotlib.legend.Legend at 0x11d80b19da0>"
      ]
     },
     "execution_count": 11,
     "metadata": {},
     "output_type": "execute_result"
    },
    {
     "data": {
      "image/png": "[encoded data removed]",
      "text/plain": [
       "<Figure size 432x288 with 1 Axes>"
      ]
     },
     "metadata": {
      "needs_background": "light"
     },
     "output_type": "display_data"
    }
   ],
   "source": [
    "plt.plot(train_history.history[\"loss\"])\n",
    "plt.plot(train_history.history[\"val_loss\"])\n",
    "plt.title(\"Loss Graph\")\n",
    "plt.legend(['loss', 'val_loss'], loc=\"upper left\")"
   ]
  }
 ],
 "metadata": {
  "kernelspec": {
   "display_name": "Python 3",
   "language": "python",
   "name": "python3"
  },
  "language_info": {
   "codemirror_mode": {
    "name": "ipython",
    "version": 3
   },
   "file_extension": ".py",
   "mimetype": "text/x-python",
   "name": "python",
   "nbconvert_exporter": "python",
   "pygments_lexer": "ipython3",
   "version": "3.6.0"
  }
 },
 "nbformat": 4,
 "nbformat_minor": 2
}
