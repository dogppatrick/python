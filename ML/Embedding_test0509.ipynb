{
 "cells": [
  {
   "cell_type": "code",
   "execution_count": 2,
   "metadata": {},
   "outputs": [
    {
     "name": "stdout",
     "output_type": "stream",
     "text": [
      "data 資料夾不存在, 現在幫你創唷\n",
      "還沒下載過資料, 現在幫你下載唷\n"
     ]
    }
   ],
   "source": [
    "from urllib.request import urlretrieve\n",
    "import os\n",
    "url = \"http://ai.stanford.edu/~amaas/data/sentiment/aclImdb_v1.tar.gz\"\n",
    "# 如果 data 資料夾不存在就創一下\n",
    "if not os.path.exists(\"./data\"):\n",
    "    print(\"data 資料夾不存在, 現在幫你創唷\")\n",
    "    os.mkdir(\"./data\")\n",
    "# 還沒下載過就下載一下\n",
    "filepath = \"./data/imdb.tar.gz\"\n",
    "if not os.path.exists(filepath):\n",
    "    print(\"還沒下載過資料, 現在幫你下載唷\")\n",
    "    urlretrieve(url, filepath)\n",
    "else:\n",
    "    print(\"已下載過\")"
   ]
  },
  {
   "cell_type": "code",
   "execution_count": 3,
   "metadata": {},
   "outputs": [
    {
     "name": "stdout",
     "output_type": "stream",
     "text": [
      "還沒解壓縮過, 現在幫你解壓縮\n"
     ]
    }
   ],
   "source": [
    "import tarfile\n",
    "if not os.path.exists(\"data/aclImdb\"):\n",
    "    print(\"還沒解壓縮過, 現在幫你解壓縮\")\n",
    "    tfile = tarfile.open(filepath, 'r')\n",
    "    tfile.extractall('data')\n",
    "else:\n",
    "    print(\"已解壓縮過\")\n"
   ]
  },
  {
   "cell_type": "code",
   "execution_count": 6,
   "metadata": {},
   "outputs": [],
   "source": [
    "import pandas as pd\n",
    "# 為了顯示的漂亮, 我刻意的把印出來的 row 只顯示 15 個和 column 只顯示十個\n",
    "# 大家練習的時候可以去掉下面兩行\n",
    "pd.set_option('display.max_rows', 15)\n",
    "pd.set_option('display.max_columns', 10)\n",
    "train_df = pd.DataFrame(columns = [\"content\", \"sentiment\"])\n",
    "# 走過 pos 的資料夾，把資料夾整理好\n",
    "pos_path = \"data/aclImdb/train/pos\"\n",
    "for fpath in os.listdir(pos_path):\n",
    "    if not fpath.startswith(\".\"):\n",
    "        fpath = os.path.join(pos_path, fpath)\n",
    "        f = open(fpath, \"r\", encoding = \"utf-8\")\n",
    "        content = f.read()\n",
    "        s = pd.Series([content, 1], index = [\"content\", \"sentiment\"])\n",
    "        train_df = train_df.append(s, ignore_index = True)\n",
    "# 走過 neg 的資料夾，把資料夾整理好\n",
    "neg_path = \"data/aclImdb/train/neg\"\n",
    "for fpath in os.listdir(neg_path):\n",
    "    if not fpath.startswith(\".\"):\n",
    "        fpath = os.path.join(neg_path, fpath)\n",
    "        f = open(fpath, \"r\", encoding = \"utf-8\")\n",
    "        content = f.read()\n",
    "        s = pd.Series([content, 0], index = [\"content\", \"sentiment\"])\n",
    "        train_df = train_df.append(s, ignore_index = True)"
   ]
  }
 ],
 "metadata": {
  "kernelspec": {
   "display_name": "Python 3",
   "language": "python",
   "name": "python3"
  },
  "language_info": {
   "codemirror_mode": {
    "name": "ipython",
    "version": 3
   },
   "file_extension": ".py",
   "mimetype": "text/x-python",
   "name": "python",
   "nbconvert_exporter": "python",
   "pygments_lexer": "ipython3",
   "version": "3.6.0"
  }
 },
 "nbformat": 4,
 "nbformat_minor": 2
}
