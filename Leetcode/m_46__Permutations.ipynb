{
 "cells": [
  {
   "cell_type": "code",
   "execution_count": null,
   "metadata": {},
   "outputs": [],
   "source": [
    "# 46. Permutations\n",
    "# https://leetcode.com/problems/permutations/"
   ]
  },
  {
   "cell_type": "code",
   "execution_count": 8,
   "metadata": {},
   "outputs": [],
   "source": [
    "from itertools import permutations\n",
    "def permute(self, nums) :\n",
    "    result = []\n",
    "    for item in permutations(nums,len(nums)):\n",
    "        result.append(list(item))\n",
    "    return result\n"
   ]
  },
  {
   "cell_type": "code",
   "execution_count": null,
   "metadata": {},
   "outputs": [],
   "source": [
    "def permute(self, nums):\n",
    "    result = []\n",
    "    def counter_N(N):\n",
    "        t = 0\n",
    "        result = []\n",
    "        while t < N**N:\n",
    "            s_o = []\n",
    "            tmp = t\n",
    "            save = 1\n",
    "            for p in range(N):\n",
    "                dig = tmp // (N**(N-p-1))\n",
    "                tmp = tmp % (N**(N-p-1))\n",
    "                if dig in s_o:\n",
    "                    save = 0\n",
    "                    break\n",
    "                s_o =   s_o + [dig] \n",
    "            if save ==1:\n",
    "                result.append(s_o)\n",
    "            t = t+1\n",
    "        return result\n",
    "    all_p = counter_N(len(nums))\n",
    "    for p in all_p:\n",
    "        re_p = []\n",
    "        for i in p:\n",
    "            re_p.append(nums[i])\n",
    "        result.append(re_p)\n",
    "    return result"
   ]
  }
 ],
 "metadata": {
  "kernelspec": {
   "display_name": "Python 3",
   "language": "python",
   "name": "python3"
  },
  "language_info": {
   "codemirror_mode": {
    "name": "ipython",
    "version": 3
   },
   "file_extension": ".py",
   "mimetype": "text/x-python",
   "name": "python",
   "nbconvert_exporter": "python",
   "pygments_lexer": "ipython3",
   "version": "3.6.7"
  }
 },
 "nbformat": 4,
 "nbformat_minor": 2
}
