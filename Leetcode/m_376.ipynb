{
 "cells": [
  {
   "cell_type": "code",
   "execution_count": null,
   "metadata": {},
   "outputs": [],
   "source": [
    "# 376. Wiggle Subsequence\n",
    "# https://leetcode.com/problems/wiggle-subsequence/"
   ]
  },
  {
   "cell_type": "code",
   "execution_count": 26,
   "metadata": {},
   "outputs": [],
   "source": [
    "def wiggleMaxLength(self, nums):\n",
    "        diff_list = []\n",
    "        if len(nums)<2:\n",
    "            return len(nums)\n",
    "        if len(set(nums))==1:\n",
    "            return 1\n",
    "        \n",
    "        result = 2\n",
    "        for i in range(1,len(nums)):\n",
    "            if (nums[i]-nums[i-1]) !=0:\n",
    "                diff_list.append(nums[i]-nums[i-1])\n",
    "            \n",
    "        for i in range(1,len(diff_list)):\n",
    "            if diff_list[i]*diff_list[i-1]<0:\n",
    "                result = result +1\n",
    "        return result"
   ]
  }
 ],
 "metadata": {
  "kernelspec": {
   "display_name": "Python 3",
   "language": "python",
   "name": "python3"
  },
  "language_info": {
   "codemirror_mode": {
    "name": "ipython",
    "version": 3
   },
   "file_extension": ".py",
   "mimetype": "text/x-python",
   "name": "python",
   "nbconvert_exporter": "python",
   "pygments_lexer": "ipython3",
   "version": "3.6.7"
  }
 },
 "nbformat": 4,
 "nbformat_minor": 2
}
