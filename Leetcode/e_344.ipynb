{
 "cells": [
  {
   "cell_type": "code",
   "execution_count": 1,
   "metadata": {},
   "outputs": [],
   "source": [
    "s = [\"a\",\"b\",\"c\"]"
   ]
  },
  {
   "cell_type": "code",
   "execution_count": 7,
   "metadata": {},
   "outputs": [
    {
     "name": "stdout",
     "output_type": "stream",
     "text": [
      "['c', 'b', 'a']\n"
     ]
    }
   ],
   "source": [
    "# 344. Reverse String\n",
    "s = [\"a\",\"b\",\"c\"]\n",
    "# ans = s[::-1]\n",
    "for i in range(int(len(s) / 2)):\n",
    "    s[i], s[len(s) - 1 - i] = s[len(s) - 1 - i], s[i]\n",
    "print(s)"
   ]
  },
  {
   "cell_type": "code",
   "execution_count": 9,
   "metadata": {},
   "outputs": [
    {
     "data": {
      "text/plain": [
       "10000"
      ]
     },
     "execution_count": 9,
     "metadata": {},
     "output_type": "execute_result"
    }
   ],
   "source": [
    "# 136. Single Number\n",
    "n_re = list(set(nums))\n",
    "ans =  sum(n_re)*2 - sum(nums)"
   ]
  },
  {
   "cell_type": "code",
   "execution_count": null,
   "metadata": {},
   "outputs": [],
   "source": [
    "# 412. Fizz Buzz\n",
    "def fizzBuzz(self, n):\n",
    "    result = []\n",
    "    for i in range(1,n+1):\n",
    "        if i % 15 ==0:\n",
    "            result.append(\"FizzBuzz\")\n",
    "        elif i % 5 ==0:\n",
    "            result.append(\"Buzz\")\n",
    "        elif i % 3 ==0:\n",
    "            result.append(\"Fizz\")\n",
    "        else:\n",
    "            result.append(str(i))\n",
    "    return result"
   ]
  },
  {
   "cell_type": "code",
   "execution_count": null,
   "metadata": {},
   "outputs": [],
   "source": []
  }
 ],
 "metadata": {
  "kernelspec": {
   "display_name": "Python 3",
   "language": "python",
   "name": "python3"
  },
  "language_info": {
   "codemirror_mode": {
    "name": "ipython",
    "version": 3
   },
   "file_extension": ".py",
   "mimetype": "text/x-python",
   "name": "python",
   "nbconvert_exporter": "python",
   "pygments_lexer": "ipython3",
   "version": "3.6.7"
  }
 },
 "nbformat": 4,
 "nbformat_minor": 2
}
