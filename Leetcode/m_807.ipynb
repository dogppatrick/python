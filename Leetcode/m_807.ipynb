{
 "cells": [
  {
   "cell_type": "code",
   "execution_count": 14,
   "metadata": {},
   "outputs": [],
   "source": [
    "# 807. Max Increase to Keep City Skyline\n",
    "# https://leetcode.com/problems/max-increase-to-keep-city-skyline/\n",
    "grid = [ [3, 0, 8, 4], \n",
    "  [2, 4, 5, 7],\n",
    "  [9, 2, 6, 3],\n",
    "  [0, 3, 1, 0] ]"
   ]
  },
  {
   "cell_type": "code",
   "execution_count": 7,
   "metadata": {},
   "outputs": [],
   "source": [
    "grid = [ [3, 0, 8, 4], \n",
    "  [2, 4, 5, 7],\n",
    "  [9, 2, 6, 3],\n",
    "  [0, 3, 1, 0] ]\n",
    "sk_top_bottom = []\n",
    "sk_left_right = []\n",
    "for i in range(len(grid)):\n",
    "    sk_left_right.append(max(grid[i]))\n",
    "for j in range(len(grid[0])):\n",
    "    top_bottom_array = []\n",
    "    for i in range(len(grid)):\n",
    "        top_bottom_array.append(grid[i][j])\n",
    "    sk_top_bottom.append(max(top_bottom_array))\n",
    "\n",
    "result = 0\n",
    "for i in range(len(grid)):\n",
    "    for j in range(len(grid[0])):\n",
    "        if grid[i][j] < sk_top_bottom[j] or grid[i][j] < sk_left_right[i]:\n",
    "            if sk_top_bottom[j]>sk_left_right[i]:\n",
    "                result = result + sk_left_right[i] -  grid[i][j]\n",
    "            else:\n",
    "                result = result + sk_top_bottom[j] -  grid[i][j]"
   ]
  }
 ],
 "metadata": {
  "kernelspec": {
   "display_name": "Python 3",
   "language": "python",
   "name": "python3"
  },
  "language_info": {
   "codemirror_mode": {
    "name": "ipython",
    "version": 3
   },
   "file_extension": ".py",
   "mimetype": "text/x-python",
   "name": "python",
   "nbconvert_exporter": "python",
   "pygments_lexer": "ipython3",
   "version": "3.6.7"
  }
 },
 "nbformat": 4,
 "nbformat_minor": 2
}
