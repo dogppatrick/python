{
 "cells": [
  {
   "cell_type": "code",
   "execution_count": 4,
   "metadata": {},
   "outputs": [
    {
     "data": {
      "text/plain": [
       "[24, 12, 8, 6]"
      ]
     },
     "execution_count": 4,
     "metadata": {},
     "output_type": "execute_result"
    }
   ],
   "source": [
    "# 238. Product of Array Except Self\n",
    "nums = [1,2,3,4]\n",
    "result = []\n",
    "no_rep = list(set(nums))\n",
    "dict1 = {}\n",
    "\n",
    "def prod_all(arr):\n",
    "    p_r = 1\n",
    "    for item in arr:\n",
    "        p_r = p_r * item\n",
    "    return p_r\n",
    "\n",
    "\n",
    "for i in range(len(no_rep)):\n",
    "    tmp = nums.copy()\n",
    "    tmp.remove(no_rep[i])\n",
    "#     result.append(prod_all(tmp))\n",
    "    dict1[no_rep[i]]=prod_all(tmp)\n",
    "for i in range(len(nums)):\n",
    "    result.append(dict1[nums[i]])\n",
    "result"
   ]
  },
  {
   "cell_type": "code",
   "execution_count": 2,
   "metadata": {},
   "outputs": [
    {
     "data": {
      "text/plain": [
       "[1, 2, 3, 4]"
      ]
     },
     "execution_count": 2,
     "metadata": {},
     "output_type": "execute_result"
    }
   ],
   "source": [
    "tmp = nums.copy()\n",
    "tmp"
   ]
  }
 ],
 "metadata": {
  "kernelspec": {
   "display_name": "Python 3",
   "language": "python",
   "name": "python3"
  },
  "language_info": {
   "codemirror_mode": {
    "name": "ipython",
    "version": 3
   },
   "file_extension": ".py",
   "mimetype": "text/x-python",
   "name": "python",
   "nbconvert_exporter": "python",
   "pygments_lexer": "ipython3",
   "version": "3.6.7"
  }
 },
 "nbformat": 4,
 "nbformat_minor": 2
}
