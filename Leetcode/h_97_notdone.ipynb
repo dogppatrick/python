{
 "cells": [
  {
   "cell_type": "code",
   "execution_count": null,
   "metadata": {},
   "outputs": [],
   "source": [
    "# 97. Interleaving String\n",
    "# https://leetcode.com/problems/interleaving-string/"
   ]
  },
  {
   "cell_type": "code",
   "execution_count": 15,
   "metadata": {},
   "outputs": [
    {
     "name": "stdout",
     "output_type": "stream",
     "text": [
      "aaab\n",
      "aaba\n",
      "abaa\n",
      "aaba\n"
     ]
    },
    {
     "data": {
      "text/plain": [
       "False"
      ]
     },
     "execution_count": 15,
     "metadata": {},
     "output_type": "execute_result"
    }
   ],
   "source": [
    "def isInterleave(s1: str, s2: str, s3: str):\n",
    "        s_test = \"\"\n",
    "        for i in range(0,len(s1),2):\n",
    "            if i<len(s1)-1:\n",
    "                s_test = s_test + s1[i:i+2] +s2[i:i+2]\n",
    "            else:\n",
    "                s_test = s_test + s1[i] +s2[i]\n",
    "        print(s_test)\n",
    "        print(s3)\n",
    "        if s_test == s3:\n",
    "            return True\n",
    "        s_test = \"\"\n",
    "        for i in range(0,len(s1),2):\n",
    "            if i<len(s1)-1:\n",
    "                s_test = s_test + s2[i:i+2] + s1[i:i+2] \n",
    "            else:\n",
    "                s_test = s_test + s2[i] + s1[i]\n",
    "        print(s_test)\n",
    "        print(s3)\n",
    "        if s_test == s3:\n",
    "            return True\n",
    "        return False\n",
    "# \"aacaaac\"\n",
    "# \"abbacb\"\n",
    "# \"aaacbbacacaba\"\n",
    "isInterleave(\"aa\",\"ab\",\"aaba\")"
   ]
  }
 ],
 "metadata": {
  "kernelspec": {
   "display_name": "Python 3",
   "language": "python",
   "name": "python3"
  },
  "language_info": {
   "codemirror_mode": {
    "name": "ipython",
    "version": 3
   },
   "file_extension": ".py",
   "mimetype": "text/x-python",
   "name": "python",
   "nbconvert_exporter": "python",
   "pygments_lexer": "ipython3",
   "version": "3.6.7"
  }
 },
 "nbformat": 4,
 "nbformat_minor": 2
}
