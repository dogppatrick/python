{
 "cells": [
  {
   "cell_type": "code",
   "execution_count": 74,
   "metadata": {
    "scrolled": true
   },
   "outputs": [
    {
     "data": {
      "text/plain": [
       "<matplotlib.collections.PathCollection at 0x1bb88dbb5f8>"
      ]
     },
     "execution_count": 74,
     "metadata": {},
     "output_type": "execute_result"
    },
    {
     "data": {
      "image/png": "[encoded data removed]",
      "text/plain": [
       "<Figure size 432x288 with 1 Axes>"
      ]
     },
     "metadata": {
      "needs_background": "light"
     },
     "output_type": "display_data"
    }
   ],
   "source": [
    "import numpy as np\n",
    "import pandas as pd\n",
    "import statsmodels.api as sm\n",
    "import statsmodels.formula.api as smf\n",
    "import matplotlib\n",
    "# load data\n",
    "r_data = pd.read_csv(\"../result/join_weather_flower/Anthurium_C0V360_內門.csv\")\n",
    "r_data = r_data.dropna()\n",
    "gb_df  = r_data.groupby(\"year\")\n",
    "r_data = gb_df.get_group(2015.0)\n",
    "# print(r_data)\n",
    "r_data = r_data.reset_index()\n",
    "r_data = r_data.drop(columns=\"index\")\n",
    "\n",
    "# select year\n",
    "\n",
    "# r_data\n",
    "# r_data\n",
    "# remove \"/\" or not double data\n",
    "col_x = ['Temperature', 'T.Max', 'T.Min', 'Precp', 'RH', 'StnPres', 'WS', 'WSGust']\n",
    "# col_x = ['Temperature', 'T.Max', 'T.Min', 'Precp', 'RH']\n",
    "for col in col_x:\n",
    "    old = r_data[col]\n",
    "    new = []\n",
    "    for i in range(len(old)):\n",
    "        try:\n",
    "            new.append(float(old[i]))\n",
    "            tmp = float(old[i])\n",
    "        except ValueError:\n",
    "            new.append(tmp)\n",
    "    r_data[col] = new\n",
    "# Normalize data\n",
    "# col_x = ['Temperature', 'T.Max', 'T.Min', 'Precp', 'RH', 'StnPres', 'WS', 'WSGust']\n",
    "x_data = r_data[col_x]\n",
    "x = (x_data - x_data.mean()) / (x_data.std())\n",
    "y = r_data[\"avg_price\"]\n",
    "# shift\n",
    "result = []\n",
    "n = 150\n",
    "for s_d in range(1,n):\n",
    "    x_new = np.array(x.drop(index=list(range(s_d)),axis=0))\n",
    "    y_new = y[:-s_d]\n",
    "#     print(len(x_new), len(y_new))\n",
    "#     print(s_d)\n",
    "    model = sm.regression.linear_model.OLS(y_new, x_new)\n",
    "    result.append(model.fit().rsquared)\n",
    "#     print(s_d,\"\\t\", result.rsquared)\n",
    "matplotlib.pyplot.scatter(range(1,n),result)"
   ]
  },
  {
   "cell_type": "code",
   "execution_count": 50,
   "metadata": {},
   "outputs": [
    {
     "name": "stdout",
     "output_type": "stream",
     "text": [
      "1711 1711\n"
     ]
    }
   ],
   "source": []
  },
  {
   "cell_type": "code",
   "execution_count": null,
   "metadata": {},
   "outputs": [],
   "source": []
  },
  {
   "cell_type": "code",
   "execution_count": null,
   "metadata": {},
   "outputs": [],
   "source": []
  },
  {
   "cell_type": "code",
   "execution_count": null,
   "metadata": {},
   "outputs": [],
   "source": []
  }
 ],
 "metadata": {
  "kernelspec": {
   "display_name": "Python 3",
   "language": "python",
   "name": "python3"
  },
  "language_info": {
   "codemirror_mode": {
    "name": "ipython",
    "version": 3
   },
   "file_extension": ".py",
   "mimetype": "text/x-python",
   "name": "python",
   "nbconvert_exporter": "python",
   "pygments_lexer": "ipython3",
   "version": "3.6.0"
  }
 },
 "nbformat": 4,
 "nbformat_minor": 2
}
