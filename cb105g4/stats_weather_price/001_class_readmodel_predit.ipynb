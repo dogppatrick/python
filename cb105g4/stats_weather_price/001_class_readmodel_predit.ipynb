{
 "cells": [
  {
   "cell_type": "code",
   "execution_count": 1,
   "metadata": {},
   "outputs": [
    {
     "name": "stderr",
     "output_type": "stream",
     "text": [
      "Using TensorFlow backend.\n"
     ]
    }
   ],
   "source": [
    "import os, glob\n",
    "import numpy as np\n",
    "import pandas as pd\n",
    "from scipy import stats\n",
    "from datetime import date, time, datetime\n",
    "from datetime import timedelta\n",
    "from keras.models import load_model"
   ]
  },
  {
   "cell_type": "code",
   "execution_count": 2,
   "metadata": {},
   "outputs": [],
   "source": [
    "def model_selector(flower,week,type_model):\n",
    "    if type_model == 0:\n",
    "        arr =np.array(pd.read_csv(\"./flower_pre_model/01_model/result_best.csv\"))\n",
    "    else:\n",
    "        arr =np.array(pd.read_csv(\"./flower_pre_model/04_model/result_best.csv\"))\n",
    "    # flower,week =\"Anthurium\",1 \n",
    "    shift2 = (week-1)*7+1\n",
    "    sample  = arr[(arr[:,0]==flower)*(arr[:,3]==shift2)][0]\n",
    "    key = \"_\".join(sample[:4].astype(str))\n",
    "    \n",
    "    if type_model == 0:\n",
    "        fn = glob.glob(\"./flower_pre_model/01_model/\"+key+\".h5\")[0]\n",
    "    else:\n",
    "        fn = glob.glob(\"./flower_pre_model/04_model/\"+key+\"_c4.h5\")[0]\n",
    "    model_info = sample\n",
    "    return fn, model_info\n",
    "\n",
    "def prep_rdata(r_data):\n",
    "    col_fix =  ['T.Max', 'T.Min', 'Precp','Temperature', 'RH', 'StnPres', 'WS', 'WSGust']\n",
    "    for col in col_fix:\n",
    "        old = r_data[col]\n",
    "        new = []\n",
    "        for i in range(len(old)):\n",
    "            try:\n",
    "                new.append(float(old[i]))\n",
    "                tmp = float(old[i])\n",
    "            except ValueError:\n",
    "                new.append(tmp)\n",
    "        r_data[col] = new\n",
    "    d_tmp = r_data['T.Max'] - r_data['T.Min']\n",
    "    r_data[\"d_tmp\"]= d_tmp\n",
    "    drop_c =[\"Date\",'T.Max', 'T.Min']\n",
    "    r_data = r_data.drop(columns=drop_c)\n",
    "    return r_data\n",
    "\n",
    "def trans_z(r_data,station):\n",
    "    recordz = pd.read_csv(\"./flower_pre_model/weather_trans.csv\")\n",
    "    mean_trans = np.array(recordz[station][0].replace(\"[\",\"\").replace(\"]\",\"\")\\\n",
    "                          .replace(\" \",\"\").split(\",\")).astype(float)\n",
    "    std_trans = np.array(recordz[station][1].replace(\"[\",\"\").replace(\"]\",\"\")\\\n",
    "                         .replace(\" \",\"\").split(\",\")).astype(float)\n",
    "    col_x = r_data.columns.to_list()\n",
    "    for i in range(len(col_x)):\n",
    "        r_data[col_x[i]]= (r_data[col_x[i]]-[mean_trans[i]])/std_trans[i]\n",
    "    return r_data\n",
    "\n",
    "def shift_rdata(r_data, shift1):\n",
    "    dfs =[]\n",
    "    arr_all =[]\n",
    "    df_s = r_data.copy()\n",
    "    arr_all = np.array(df_s)\n",
    "    for i in range(1,shift1):\n",
    "        tp = np.array(df_s.shift(periods=i))\n",
    "        arr_all = np.concatenate((arr_all, tp), axis=1)\n",
    "    df_all = pd.DataFrame(arr_all)\n",
    "    df_all = df_all.dropna()\n",
    "    df_all = df_all.reset_index(drop=True)\n",
    "    return df_all\n",
    "\n",
    "def get_week(pred_date):\n",
    "    d_date = pred_date\n",
    "    year = int(d_date.split(\"-\")[0])\n",
    "    d_day = date(year,int(d_date.split(\"-\")[1]), int(d_date.split(\"-\")[2]))- date(year, 1, 1)\n",
    "    return 1+ (d_day.days // 7)"
   ]
  },
  {
   "cell_type": "code",
   "execution_count": 7,
   "metadata": {},
   "outputs": [],
   "source": [
    "def model_predict(market, pred_date, flower, week_pre,type_model):\n",
    "    fn, model_info = model_selector(flower,week_pre,type_model)\n",
    "#     print(fn)\n",
    "    flower,station,shift1,shift2,test_acc,train_acc = model_info \n",
    "    fn_weather= glob.glob(\"../result/merge_weather/\" + station + \"*.csv\")[0]\n",
    "    df_weather = pd.read_csv(fn_weather, encoding=\"utf-8\")\n",
    "    df_lunar = pd.read_csv(\"../lunar_done_new.csv\", encoding=\"utf-8\") \n",
    "    d_data =  list(df_weather[\"Date\"])\n",
    "    weather = prep_rdata(df_weather)\n",
    "    weather_z = trans_z(weather,station)\n",
    "    weather_z[\"date\"]= d_data\n",
    "    x_join = weather_z.join(df_lunar.set_index(\"date\"), on=\"date\").drop(columns=\"date\")\n",
    "    start_index = d_data.index(pred_date)\n",
    "    x_join = x_join[(start_index-shift1-shift2):(start_index-shift2)]\n",
    "    x_shift = shift_rdata(x_join, shift1)\n",
    "    x = list(x_shift.reset_index(drop=True).iloc[0])\n",
    "    week = get_week(pred_date)\n",
    "    mark_list =  [\"台中\",\"台北\",\"台南\",\"彰化\",\"高雄\"]\n",
    "    add_mark = [0,0,0,0,0]\n",
    "    add_mark[mark_list.index(market)]=1\n",
    "    add_week = [0]*52\n",
    "    add_week[(week-1)]=1\n",
    "    x = x + add_mark + add_week\n",
    "    xres =  np.array(x).reshape(1,len(x))\n",
    "    model = load_model(fn)\n",
    "    if type_model ==0:\n",
    "        result_tag = [\"跌\",\"漲\"]\n",
    "    else:\n",
    "        result_tag = [\"大跌\",\"小跌\",\"小漲\",\"大漲\"]\n",
    "    return result_tag[model.predict_classes(xres)[0]]\n"
   ]
  },
  {
   "cell_type": "code",
   "execution_count": 8,
   "metadata": {},
   "outputs": [
    {
     "name": "stdout",
     "output_type": "stream",
     "text": [
      "小漲\n",
      "大漲\n",
      "小漲\n",
      "大漲\n",
      "大跌\n"
     ]
    }
   ],
   "source": [
    "from datetime import date,timedelta\n",
    "d_s = date(2018,12,11)\n",
    "for i in range(5):\n",
    "    d2 = (d_s + timedelta(days=i)).strftime(\"%Y-%m-%d\")\n",
    "    print(model_predict(\"台北\", d2, \"Rose\", 1,1))\n",
    "    \n",
    "# date(2018,12,11).strftime(\"%Y-%m-%d\")"
   ]
  },
  {
   "cell_type": "code",
   "execution_count": null,
   "metadata": {},
   "outputs": [],
   "source": []
  }
 ],
 "metadata": {
  "kernelspec": {
   "display_name": "Python 3",
   "language": "python",
   "name": "python3"
  },
  "language_info": {
   "codemirror_mode": {
    "name": "ipython",
    "version": 3
   },
   "file_extension": ".py",
   "mimetype": "text/x-python",
   "name": "python",
   "nbconvert_exporter": "python",
   "pygments_lexer": "ipython3",
   "version": "3.6.7"
  }
 },
 "nbformat": 4,
 "nbformat_minor": 2
}
