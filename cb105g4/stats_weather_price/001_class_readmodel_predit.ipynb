{
 "cells": [
  {
   "cell_type": "code",
   "execution_count": 2,
   "metadata": {},
   "outputs": [],
   "source": [
    "import os, glob\n",
    "import numpy as np\n",
    "import pandas as pd\n",
    "from scipy import stats\n",
    "from datetime import date, time, datetime\n",
    "from datetime import timedelta\n",
    "from sklearn.model_selection import train_test_split\n",
    "from keras.utils import np_utils\n",
    "import keras\n",
    "from keras.models import Sequential\n",
    "from keras.layers import Dense,Dropout\n",
    "from keras.utils import np_utils\n",
    "import matplotlib\n",
    "import matplotlib.pyplot as plt\n",
    "from sklearn.metrics import confusion_matrix,  accuracy_score\n",
    "from keras.models import load_model\n"
   ]
  },
  {
   "cell_type": "code",
   "execution_count": 72,
   "metadata": {},
   "outputs": [],
   "source": [
    "def model_selector(flower,week):\n",
    "    arr =np.array(pd.read_csv(\"./flower_pre_model/result_best.csv\"))\n",
    "    # flower,week =\"Anthurium\",1 \n",
    "    shift2 = (week-1)*7+1\n",
    "    sample  = arr[(arr[:,0]==flower)*(arr[:,3]==shift2)][0]\n",
    "    key = \"_\".join(sample[:4].astype(str))\n",
    "    fn = glob.glob(\"./flower_pre_model/\"+key+\".h5\")[0]\n",
    "    model_info = sample\n",
    "    return fn, model_info"
   ]
  },
  {
   "cell_type": "code",
   "execution_count": 136,
   "metadata": {},
   "outputs": [
    {
     "data": {
      "text/plain": [
       "array(['Eustoma', 'C0X060', 11, 8, 47.14, 83.07], dtype=object)"
      ]
     },
     "execution_count": 136,
     "metadata": {},
     "output_type": "execute_result"
    }
   ],
   "source": [
    "# df_st = pd.read_csv(\"./flower_pre_model/result_best.csv\")\n",
    "# flowers = list(df_st[\"flower\"].drop_duplicates())\n",
    "\n",
    "fn, model_info = model_selector(\"Eustoma\",2)\n",
    "flower,station,shift1,shift2,test_acc,train_acc = model_info \n",
    "fn_weather= glob.glob(\"../result/merge_weather/\" + station + \"*.csv\")[0]\n",
    "df_weather = pd.read_csv(fn_weather, encoding=\"utf-8\")\n",
    "fn_lunar = pd.read_csv(\"../lunar_done_new.csv\", encoding=\"utf-8\") \n",
    "model_info "
   ]
  },
  {
   "cell_type": "code",
   "execution_count": 117,
   "metadata": {},
   "outputs": [],
   "source": [
    "def prep_rdata(r_data):\n",
    "    col_fix =  ['T.Max', 'T.Min', 'Precp','Temperature', 'RH', 'StnPres', 'WS', 'WSGust']\n",
    "    for col in col_fix:\n",
    "        old = r_data[col]\n",
    "        new = []\n",
    "        for i in range(len(old)):\n",
    "            try:\n",
    "                new.append(float(old[i]))\n",
    "                tmp = float(old[i])\n",
    "            except ValueError:\n",
    "                new.append(tmp)\n",
    "        r_data[col] = new\n",
    "    d_tmp = r_data['T.Max'] - r_data['T.Min']\n",
    "    r_data[\"d_tmp\"]= d_tmp\n",
    "    drop_c =[\"Date\",'T.Max', 'T.Min']\n",
    "    r_data = r_data.drop(columns=drop_c)\n",
    "    return r_data\n",
    "def trans_z(r_data):\n",
    "    recordz = pd.read_csv(\"./flower_pre_model/weather_trans.csv\")\n",
    "    mean_trans = np.array(recordz[station][0].replace(\"[\",\"\").replace(\"]\",\"\")\\\n",
    "                          .replace(\" \",\"\").split(\",\")).astype(float)\n",
    "    std_trans = np.array(recordz[station][1].replace(\"[\",\"\").replace(\"]\",\"\")\\\n",
    "                         .replace(\" \",\"\").split(\",\")).astype(float)\n",
    "    col_x = r_data.columns.to_list()\n",
    "    for i in range(len(col_x)):\n",
    "        r_data[col_x[i]]= (r_data[col_x[i]]-[mean_trans[i]])/std_trans[i]\n",
    "    return r_data\n",
    "    \n"
   ]
  },
  {
   "cell_type": "code",
   "execution_count": 140,
   "metadata": {},
   "outputs": [
    {
     "data": {
      "text/plain": [
       "array(['2016-06-21', '2016-06-22', '2016-06-23', '2016-06-24',\n",
       "       '2016-06-25', '2016-06-26', '2016-06-27', '2016-06-28',\n",
       "       '2016-06-29', '2016-06-30', '2016-07-01'], dtype=object)"
      ]
     },
     "execution_count": 140,
     "metadata": {},
     "output_type": "execute_result"
    }
   ],
   "source": [
    "# 11, 8\n",
    "# get df_weather\n",
    "d_data =  list(df_weather[\"Date\"])\n",
    "\n",
    "p1 = prep_rdata(df_weather)\n",
    "p2 = trans_z(p1)\n",
    "r_data[\"date\"]= d_data\n",
    "r_data = r_data.join(self.lc_d.set_index(\"date\"), on=\"date\")\n",
    "r_data = r_data.drop\n",
    "\n",
    "pred_date = \"2016-07-10\"\n",
    "start_index = d_data.index(pred_date)\n",
    "p3 = p2[(start_index-shift1-shift2):(start_index-shift2)]\n",
    "date[(start_index-shift1-shift2):(start_index-shift2)]\n",
    "# p2[\"date\"]=date\n",
    "# p2"
   ]
  },
  {
   "cell_type": "code",
   "execution_count": 144,
   "metadata": {},
   "outputs": [
    {
     "data": {
      "text/html": [
       "<div>\n",
       "<style scoped>\n",
       "    .dataframe tbody tr th:only-of-type {\n",
       "        vertical-align: middle;\n",
       "    }\n",
       "\n",
       "    .dataframe tbody tr th {\n",
       "        vertical-align: top;\n",
       "    }\n",
       "\n",
       "    .dataframe thead th {\n",
       "        text-align: right;\n",
       "    }\n",
       "</style>\n",
       "<table border=\"1\" class=\"dataframe\">\n",
       "  <thead>\n",
       "    <tr style=\"text-align: right;\">\n",
       "      <th></th>\n",
       "      <th>Temperature</th>\n",
       "      <th>Precp</th>\n",
       "      <th>RH</th>\n",
       "      <th>StnPres</th>\n",
       "      <th>WS</th>\n",
       "      <th>WSGust</th>\n",
       "      <th>d_tmp</th>\n",
       "    </tr>\n",
       "  </thead>\n",
       "  <tbody>\n",
       "    <tr>\n",
       "      <th>0</th>\n",
       "      <td>1.244631</td>\n",
       "      <td>-0.225747</td>\n",
       "      <td>-0.197877</td>\n",
       "      <td>-0.501389</td>\n",
       "      <td>-0.602250</td>\n",
       "      <td>-0.395348</td>\n",
       "      <td>0.426975</td>\n",
       "    </tr>\n",
       "    <tr>\n",
       "      <th>1</th>\n",
       "      <td>1.418024</td>\n",
       "      <td>-0.225747</td>\n",
       "      <td>-0.197877</td>\n",
       "      <td>-0.552772</td>\n",
       "      <td>-0.283147</td>\n",
       "      <td>-0.320014</td>\n",
       "      <td>0.045436</td>\n",
       "    </tr>\n",
       "    <tr>\n",
       "      <th>2</th>\n",
       "      <td>1.266305</td>\n",
       "      <td>-0.225747</td>\n",
       "      <td>0.082810</td>\n",
       "      <td>-0.672666</td>\n",
       "      <td>-0.176779</td>\n",
       "      <td>-1.337013</td>\n",
       "      <td>-1.137334</td>\n",
       "    </tr>\n",
       "    <tr>\n",
       "      <th>3</th>\n",
       "      <td>1.331327</td>\n",
       "      <td>-0.225747</td>\n",
       "      <td>-0.338221</td>\n",
       "      <td>-0.741177</td>\n",
       "      <td>0.142324</td>\n",
       "      <td>0.244985</td>\n",
       "      <td>0.388821</td>\n",
       "    </tr>\n",
       "    <tr>\n",
       "      <th>4</th>\n",
       "      <td>1.287979</td>\n",
       "      <td>-0.225747</td>\n",
       "      <td>0.082810</td>\n",
       "      <td>-0.587027</td>\n",
       "      <td>0.035956</td>\n",
       "      <td>-0.320014</td>\n",
       "      <td>-0.069026</td>\n",
       "    </tr>\n",
       "    <tr>\n",
       "      <th>5</th>\n",
       "      <td>1.353001</td>\n",
       "      <td>-0.225747</td>\n",
       "      <td>0.082810</td>\n",
       "      <td>-0.501389</td>\n",
       "      <td>-0.495882</td>\n",
       "      <td>-0.395348</td>\n",
       "      <td>-0.526872</td>\n",
       "    </tr>\n",
       "    <tr>\n",
       "      <th>6</th>\n",
       "      <td>1.353001</td>\n",
       "      <td>-0.225747</td>\n",
       "      <td>-0.197877</td>\n",
       "      <td>-0.689794</td>\n",
       "      <td>-0.283147</td>\n",
       "      <td>-0.131681</td>\n",
       "      <td>-0.069026</td>\n",
       "    </tr>\n",
       "    <tr>\n",
       "      <th>7</th>\n",
       "      <td>1.548068</td>\n",
       "      <td>-0.225747</td>\n",
       "      <td>-0.759253</td>\n",
       "      <td>-0.484261</td>\n",
       "      <td>0.567795</td>\n",
       "      <td>1.977649</td>\n",
       "      <td>0.617744</td>\n",
       "    </tr>\n",
       "    <tr>\n",
       "      <th>8</th>\n",
       "      <td>1.461372</td>\n",
       "      <td>-0.225747</td>\n",
       "      <td>-0.759253</td>\n",
       "      <td>-0.141707</td>\n",
       "      <td>0.567795</td>\n",
       "      <td>5.555978</td>\n",
       "      <td>0.159897</td>\n",
       "    </tr>\n",
       "    <tr>\n",
       "      <th>9</th>\n",
       "      <td>1.244631</td>\n",
       "      <td>1.417927</td>\n",
       "      <td>-0.197877</td>\n",
       "      <td>-0.158834</td>\n",
       "      <td>-0.070411</td>\n",
       "      <td>0.546318</td>\n",
       "      <td>0.999282</td>\n",
       "    </tr>\n",
       "    <tr>\n",
       "      <th>10</th>\n",
       "      <td>1.201282</td>\n",
       "      <td>0.190959</td>\n",
       "      <td>0.223154</td>\n",
       "      <td>-0.501389</td>\n",
       "      <td>-0.495882</td>\n",
       "      <td>-0.659014</td>\n",
       "      <td>-0.336103</td>\n",
       "    </tr>\n",
       "  </tbody>\n",
       "</table>\n",
       "</div>"
      ],
      "text/plain": [
       "    Temperature     Precp        RH   StnPres        WS    WSGust     d_tmp\n",
       "0      1.244631 -0.225747 -0.197877 -0.501389 -0.602250 -0.395348  0.426975\n",
       "1      1.418024 -0.225747 -0.197877 -0.552772 -0.283147 -0.320014  0.045436\n",
       "2      1.266305 -0.225747  0.082810 -0.672666 -0.176779 -1.337013 -1.137334\n",
       "3      1.331327 -0.225747 -0.338221 -0.741177  0.142324  0.244985  0.388821\n",
       "4      1.287979 -0.225747  0.082810 -0.587027  0.035956 -0.320014 -0.069026\n",
       "5      1.353001 -0.225747  0.082810 -0.501389 -0.495882 -0.395348 -0.526872\n",
       "6      1.353001 -0.225747 -0.197877 -0.689794 -0.283147 -0.131681 -0.069026\n",
       "7      1.548068 -0.225747 -0.759253 -0.484261  0.567795  1.977649  0.617744\n",
       "8      1.461372 -0.225747 -0.759253 -0.141707  0.567795  5.555978  0.159897\n",
       "9      1.244631  1.417927 -0.197877 -0.158834 -0.070411  0.546318  0.999282\n",
       "10     1.201282  0.190959  0.223154 -0.501389 -0.495882 -0.659014 -0.336103"
      ]
     },
     "execution_count": 144,
     "metadata": {},
     "output_type": "execute_result"
    }
   ],
   "source": [
    "p3 = p3.reset_index(drop=True)"
   ]
  },
  {
   "cell_type": "code",
   "execution_count": 112,
   "metadata": {},
   "outputs": [],
   "source": [
    "# array(['2016-06-21', '2016-06-22', '2016-06-23', '2016-06-24',\n",
    "#        '2016-06-25', '2016-06-26', '2016-06-27', '2016-06-28',\n",
    "#        '2016-06-29', '2016-06-30', '2016-07-01', '2016-07-02',\n",
    "#        '2016-07-03', '2016-07-04', '2016-07-05', '2016-07-06',\n",
    "#        '2016-07-07', '2016-07-08', '2016-07-09'], dtype=object)"
   ]
  },
  {
   "cell_type": "code",
   "execution_count": 115,
   "metadata": {},
   "outputs": [
    {
     "data": {
      "text/plain": [
       "23.657526881720447"
      ]
     },
     "execution_count": 115,
     "metadata": {},
     "output_type": "execute_result"
    }
   ],
   "source": []
  }
 ],
 "metadata": {
  "kernelspec": {
   "display_name": "Python 3",
   "language": "python",
   "name": "python3"
  },
  "language_info": {
   "codemirror_mode": {
    "name": "ipython",
    "version": 3
   },
   "file_extension": ".py",
   "mimetype": "text/x-python",
   "name": "python",
   "nbconvert_exporter": "python",
   "pygments_lexer": "ipython3",
   "version": "3.6.0"
  }
 },
 "nbformat": 4,
 "nbformat_minor": 2
}
