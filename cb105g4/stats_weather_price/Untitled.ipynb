{
 "cells": [
  {
   "cell_type": "code",
   "execution_count": 13,
   "metadata": {},
   "outputs": [],
   "source": [
    "import os, glob\n",
    "import numpy as np\n",
    "import pandas as pd\n",
    "from scipy import stats\n",
    "from datetime import date, time, datetime\n",
    "from datetime import timedelta\n",
    "from sklearn.model_selection import train_test_split\n",
    "from keras.utils import np_utils\n",
    "import keras\n",
    "from keras.models import Sequential\n",
    "from keras.layers import Dense,Dropout\n",
    "from keras.utils import np_utils\n",
    "import matplotlib\n",
    "import matplotlib.pyplot as plt\n",
    "from sklearn.metrics import confusion_matrix,  accuracy_score\n",
    "opt_week = [1, 2]\n",
    "opt_flower = ['Anthurium', 'Chrysanthemum', 'OrientalLily', 'Eustoma', 'Rose']\n",
    "opt_market = [\"台北\", \"台中\", \"台南\", \"高雄\", \"彰化\"]\n",
    "station_info =  (opt_week[0], opt_flower[0], opt_market[0])\n",
    "\n",
    "pre_week, pre_flower, pre_market = station_info"
   ]
  },
  {
   "cell_type": "code",
   "execution_count": 29,
   "metadata": {},
   "outputs": [
    {
     "name": "stdout",
     "output_type": "stream",
     "text": [
      "./model_test0519\\C0F9L0_后里_Anthurium_shift0_epo28_80.h5\n"
     ]
    }
   ],
   "source": [
    "model_list = glob.glob(\"./model_test0519//*\"+pre_flower + \"*\")\n",
    "for m in model_list:\n",
    "    keyw = \"shift\" + str((pre_week-1)*7)\n",
    "    if keyw in models:\n",
    "        model_fn = models\n",
    "\n",
    "station_name  = model_fn.split(\"\\\\\")[-1].split(\"_\")[0]\n",
    "\n",
    "\n",
    "\n",
    "print(model_fn)"
   ]
  },
  {
   "cell_type": "code",
   "execution_count": 27,
   "metadata": {},
   "outputs": [
    {
     "data": {
      "text/plain": [
       "0"
      ]
     },
     "execution_count": 27,
     "metadata": {},
     "output_type": "execute_result"
    }
   ],
   "source": [
    "shift1 = int(model_fn.split(\"\\\\\")[-1].split(\"_\")[3].replace(\"shift\",\"\"))\n",
    "shift1"
   ]
  }
 ],
 "metadata": {
  "kernelspec": {
   "display_name": "Python 3",
   "language": "python",
   "name": "python3"
  },
  "language_info": {
   "codemirror_mode": {
    "name": "ipython",
    "version": 3
   },
   "file_extension": ".py",
   "mimetype": "text/x-python",
   "name": "python",
   "nbconvert_exporter": "python",
   "pygments_lexer": "ipython3",
   "version": "3.6.0"
  }
 },
 "nbformat": 4,
 "nbformat_minor": 2
}
