{
 "cells": [
  {
   "cell_type": "code",
   "execution_count": null,
   "metadata": {},
   "outputs": [
    {
     "data": {
      "text/plain": [
       "1716"
      ]
     },
     "execution_count": 1,
     "metadata": {},
     "output_type": "execute_result"
    }
   ],
   "source": [
    "import numpy as np\n",
    "import pandas as pd\n",
    "import statsmodels.api as sm\n",
    "import statsmodels.formula.api as smf\n",
    "import matplotlib\n",
    "import matplotlib.pyplot as plt\n",
    "# load data\n",
    "r_data = pd.read_csv(\"../result/join_weather_flower/Rose_C0H960_草屯.csv\")\n",
    "r_data = r_data.dropna()\n",
    "lc_data = pd.read_csv(\"../lunar_celeb_date.csv\", encoding=\"utf-8\")\n",
    "r_data = r_data.join(lc_data.set_index(\"date\"), on=\"Date\")\n",
    "r_data = r_data.reset_index()\n",
    "r_data = r_data.drop(columns=\"index\")\n",
    "pd.set_option('display.max_rows', 10)\n",
    "pd.set_option('display.max_columns', 10)\n",
    "len(r_data)"
   ]
  },
  {
   "cell_type": "code",
   "execution_count": 2,
   "metadata": {},
   "outputs": [
    {
     "name": "stdout",
     "output_type": "stream",
     "text": [
      "freq: [305 508  59  65 426 352]\n"
     ]
    }
   ],
   "source": [
    "# modify data p1\n",
    "from scipy import stats\n",
    "data_t_n = ['Temperature', 'RH', 'StnPres', 'WS', 'WSGust','d_tmp']\n",
    "data_to_dummy = [\"rain_class\", \"week\", \"Monthdate\"]\n",
    "col_fix =  ['T.Max', 'T.Min', 'Precp','Temperature', 'RH', 'StnPres', 'WS', 'WSGust']\n",
    "# rm \"/\"\n",
    "for col in col_fix:\n",
    "    old = r_data[col]\n",
    "    new = []\n",
    "    for i in range(len(old)):\n",
    "        try:\n",
    "            new.append(float(old[i]))\n",
    "            tmp = float(old[i])\n",
    "        except ValueError:\n",
    "            new.append(tmp)\n",
    "    r_data[col] = new\n",
    "\n",
    "# x_raw = r_data[col_fix]\n",
    "\n",
    "rain  = r_data['Precp']\n",
    "# rain_class function\n",
    "def rain_c(precp):\n",
    "    rain_class=[0]\n",
    "    rain_tag = [\"no_rain\", \"rain\"]\n",
    "    result = 0\n",
    "    for d in rain_class:\n",
    "        if precp>d:\n",
    "            result = result + 1\n",
    "    return result\n",
    "\n",
    "rain_class=[]\n",
    "for precp in rain:\n",
    "    rain_class.append(rain_c(precp))\n",
    "# df_r[\"rain_class\"]=rain_class\n",
    "# print(\"0,<5,>5\",np.bincount(rain_class))\n",
    "d_tmp = r_data['T.Max'] - r_data['T.Min']\n",
    "\n",
    "d = np.array(r_data[\"Date\"])\n",
    "day_new=[]\n",
    "for date in d:\n",
    "    result =  \"date_\" + date.split(\"-\")[-1]\n",
    "    day_new.append(result)\n",
    "\n",
    "drop_c =['Date','T.Max', 'T.Min', 'Precp','avg_price', 'total_count','year',\"month\",\"flower\"]\n",
    "y_raw = r_data[\"avg_price\"]\n",
    "r_data = r_data.drop(columns=drop_c)\n",
    "r_data[\"Monthdate\"]= day_new\n",
    "r_data[\"rain\"]= rain_class\n",
    "r_data[\"d_tmp\"]= d_tmp\n",
    "c =r_data.columns.to_list()\n",
    "\n",
    "# to normalize\n",
    "\n",
    "def to_zscore(df, col_x):\n",
    "#     df_tmp = df\n",
    "#     col = \"Temperature\"\n",
    "    for col in col_x:\n",
    "        df[col] = stats.zscore(df[col])\n",
    "        df[col] = np.round(df[col], decimals=4)\n",
    "# modify x p2\n",
    "\n",
    "for col in data_to_dummy:\n",
    "    dummy =pd.get_dummies(r_data[col])\n",
    "    r_data = pd.concat([r_data, dummy], axis=1)\n",
    "    r_data = r_data.drop([col], axis = 1)\n",
    "\n",
    "to_zscore(r_data, data_t_n)\n",
    "# modify y\n",
    "y_pct  = np.array(y_raw.pct_change()[1:])\n",
    "\n",
    "def y_to_class(v):\n",
    "    t = 0\n",
    "    y_class_range = [-0.1,-0.01,0,0.01,0.1]\n",
    "    for i in range(len(y_class_range)):\n",
    "        if (v >= y_class_range[i]):\n",
    "            t = i+1\n",
    "    return int(t)\n",
    "\n",
    "y_class = []\n",
    "for i in range(len(y_pct)):\n",
    "    y_class.append(y_to_class(y_pct[i]))\n",
    "print(\"freq:\",np.bincount(y_class))\n",
    "out_class_count = len(np.bincount(y_class))"
   ]
  },
  {
   "cell_type": "code",
   "execution_count": 3,
   "metadata": {},
   "outputs": [
    {
     "name": "stderr",
     "output_type": "stream",
     "text": [
      "Using TensorFlow backend.\n"
     ]
    }
   ],
   "source": [
    "from sklearn.model_selection import train_test_split\n",
    "from keras.utils import np_utils\n",
    "y = y_class\n",
    "\n",
    "# print(np.bincount(y))\n",
    "x = np.array(r_data)[:-1]\n",
    "# print(len(x[0]))\n",
    "x_train, x_test, y_train, y_test = train_test_split(x, y, test_size=0.1)"
   ]
  },
  {
   "cell_type": "code",
   "execution_count": 4,
   "metadata": {},
   "outputs": [
    {
     "name": "stdout",
     "output_type": "stream",
     "text": [
      "_________________________________________________________________\n",
      "Layer (type)                 Output Shape              Param #   \n",
      "=================================================================\n",
      "dense_1 (Dense)              (None, 30)                3240      \n",
      "_________________________________________________________________\n",
      "dropout_1 (Dropout)          (None, 30)                0         \n",
      "_________________________________________________________________\n",
      "dense_2 (Dense)              (None, 10)                310       \n",
      "_________________________________________________________________\n",
      "dense_3 (Dense)              (None, 6)                 66        \n",
      "=================================================================\n",
      "Total params: 3,616\n",
      "Trainable params: 3,616\n",
      "Non-trainable params: 0\n",
      "_________________________________________________________________\n"
     ]
    }
   ],
   "source": [
    "import keras\n",
    "from keras.models import Sequential\n",
    "from keras.layers import Dense,Dropout\n",
    "from keras.utils import np_utils\n",
    "model = Sequential()\n",
    "\n",
    "layer_1 = Dense(units =30,input_dim = 107,kernel_initializer = \"random_normal\",activation = \"relu\")\n",
    "model.add(layer_1)\n",
    "model.add(Dropout(0.2))\n",
    "layer_2 = Dense(units =10,kernel_initializer = \"random_normal\",activation = \"relu\")\n",
    "model.add(layer_2)\n",
    "layer_out = Dense(units = out_class_count,kernel_initializer = \"random_normal\",activation = \"softmax\")\n",
    "model.add(layer_out)\n",
    "\n",
    "model.summary()\n"
   ]
  },
  {
   "cell_type": "code",
   "execution_count": 5,
   "metadata": {},
   "outputs": [
    {
     "name": "stdout",
     "output_type": "stream",
     "text": [
      "Train on 1388 samples, validate on 155 samples\n",
      "Epoch 1/5\n",
      " - 0s - loss: 1.7730 - acc: 0.2932 - val_loss: 1.7365 - val_acc: 0.3290\n",
      "Epoch 2/5\n",
      " - 0s - loss: 1.6583 - acc: 0.2976 - val_loss: 1.5878 - val_acc: 0.3290\n",
      "Epoch 3/5\n",
      " - 0s - loss: 1.5823 - acc: 0.2976 - val_loss: 1.5810 - val_acc: 0.3290\n",
      "Epoch 4/5\n",
      " - 0s - loss: 1.5776 - acc: 0.2976 - val_loss: 1.5789 - val_acc: 0.3290\n",
      "Epoch 5/5\n",
      " - 0s - loss: 1.5734 - acc: 0.2976 - val_loss: 1.5791 - val_acc: 0.3290\n"
     ]
    }
   ],
   "source": [
    "model.compile(loss=\"categorical_crossentropy\",optimizer = \"adam\", metrics = ['accuracy'])\n",
    "train_history = model.fit(x = x_train, y = np_utils.to_categorical(y_train),\n",
    "                          validation_split = 0.1, epochs =5, verbose = 2)"
   ]
  },
  {
   "cell_type": "code",
   "execution_count": 6,
   "metadata": {},
   "outputs": [
    {
     "data": {
      "text/plain": [
       "<matplotlib.legend.Legend at 0x22cb6f752e8>"
      ]
     },
     "execution_count": 6,
     "metadata": {},
     "output_type": "execute_result"
    },
    {
     "data": {
      "image/png": "[encoded data removed]",
      "text/plain": [
       "<Figure size 432x288 with 1 Axes>"
      ]
     },
     "metadata": {
      "needs_background": "light"
     },
     "output_type": "display_data"
    }
   ],
   "source": [
    "plt.plot(train_history.history[\"loss\"])\n",
    "plt.plot(train_history.history[\"val_loss\"])\n",
    "plt.title(\"Loss Graph\")\n",
    "plt.legend(['loss', 'val_loss'], loc=\"upper left\")\n"
   ]
  },
  {
   "cell_type": "code",
   "execution_count": null,
   "metadata": {},
   "outputs": [],
   "source": []
  },
  {
   "cell_type": "code",
   "execution_count": 7,
   "metadata": {},
   "outputs": [
    {
     "data": {
      "text/html": [
       "<div>\n",
       "<style scoped>\n",
       "    .dataframe tbody tr th:only-of-type {\n",
       "        vertical-align: middle;\n",
       "    }\n",
       "\n",
       "    .dataframe tbody tr th {\n",
       "        vertical-align: top;\n",
       "    }\n",
       "\n",
       "    .dataframe thead th {\n",
       "        text-align: right;\n",
       "    }\n",
       "</style>\n",
       "<table border=\"1\" class=\"dataframe\">\n",
       "  <thead>\n",
       "    <tr style=\"text-align: right;\">\n",
       "      <th></th>\n",
       "      <th>0</th>\n",
       "      <th>1</th>\n",
       "      <th>2</th>\n",
       "      <th>3</th>\n",
       "      <th>4</th>\n",
       "      <th>5</th>\n",
       "    </tr>\n",
       "  </thead>\n",
       "  <tbody>\n",
       "    <tr>\n",
       "      <th>0</th>\n",
       "      <td>0</td>\n",
       "      <td>31</td>\n",
       "      <td>0</td>\n",
       "      <td>0</td>\n",
       "      <td>0</td>\n",
       "      <td>0</td>\n",
       "    </tr>\n",
       "    <tr>\n",
       "      <th>1</th>\n",
       "      <td>0</td>\n",
       "      <td>44</td>\n",
       "      <td>0</td>\n",
       "      <td>0</td>\n",
       "      <td>0</td>\n",
       "      <td>0</td>\n",
       "    </tr>\n",
       "    <tr>\n",
       "      <th>2</th>\n",
       "      <td>0</td>\n",
       "      <td>5</td>\n",
       "      <td>0</td>\n",
       "      <td>0</td>\n",
       "      <td>0</td>\n",
       "      <td>0</td>\n",
       "    </tr>\n",
       "    <tr>\n",
       "      <th>3</th>\n",
       "      <td>0</td>\n",
       "      <td>5</td>\n",
       "      <td>0</td>\n",
       "      <td>0</td>\n",
       "      <td>0</td>\n",
       "      <td>0</td>\n",
       "    </tr>\n",
       "    <tr>\n",
       "      <th>4</th>\n",
       "      <td>0</td>\n",
       "      <td>49</td>\n",
       "      <td>0</td>\n",
       "      <td>0</td>\n",
       "      <td>0</td>\n",
       "      <td>0</td>\n",
       "    </tr>\n",
       "    <tr>\n",
       "      <th>5</th>\n",
       "      <td>0</td>\n",
       "      <td>38</td>\n",
       "      <td>0</td>\n",
       "      <td>0</td>\n",
       "      <td>0</td>\n",
       "      <td>0</td>\n",
       "    </tr>\n",
       "  </tbody>\n",
       "</table>\n",
       "</div>"
      ],
      "text/plain": [
       "   0   1  2  3  4  5\n",
       "0  0  31  0  0  0  0\n",
       "1  0  44  0  0  0  0\n",
       "2  0   5  0  0  0  0\n",
       "3  0   5  0  0  0  0\n",
       "4  0  49  0  0  0  0\n",
       "5  0  38  0  0  0  0"
      ]
     },
     "execution_count": 7,
     "metadata": {},
     "output_type": "execute_result"
    }
   ],
   "source": [
    "from sklearn.metrics import confusion_matrix\n",
    "pre = model.predict_classes(x_test)\n",
    "pd.DataFrame(confusion_matrix(y_test, pre))\n"
   ]
  }
 ],
 "metadata": {
  "kernelspec": {
   "display_name": "Python 3",
   "language": "python",
   "name": "python3"
  },
  "language_info": {
   "codemirror_mode": {
    "name": "ipython",
    "version": 3
   },
   "file_extension": ".py",
   "mimetype": "text/x-python",
   "name": "python",
   "nbconvert_exporter": "python",
   "pygments_lexer": "ipython3",
   "version": "3.6.0"
  }
 },
 "nbformat": 4,
 "nbformat_minor": 2
}
