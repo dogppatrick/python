{
 "cells": [
  {
   "cell_type": "code",
   "execution_count": 1,
   "metadata": {},
   "outputs": [],
   "source": [
    "import numpy as np\n",
    "import pandas as pd\n",
    "import statsmodels.api as sm\n",
    "import statsmodels.formula.api as smf\n",
    "import matplotlib\n",
    "import matplotlib.pyplot as plt\n",
    "# load data\n",
    "r_data = pd.read_csv(\"../result/join_weather_flower/Rose_C0H960_草屯.csv\")\n",
    "r_data = r_data.dropna()\n",
    "# select year\n",
    "# gb_df  = r_data.groupby(\"year\")\n",
    "# r_data = gb_df.get_group(2014.0)\n",
    "# print(r_data)\n",
    "r_data = r_data.reset_index()\n",
    "r_data = r_data.drop(columns=\"index\")\n",
    "r_data[\"d_temp\"] = r_data['T.Max'] - r_data['T.Min']\n",
    "d = np.array(r_data[\"Date\"])\n",
    "day_new=[]\n",
    "for date in d:\n",
    "    day_new.append(int(date.split(\"-\")[-1]))\n",
    "r_data[\"date_of_m\"] = day_new\n",
    "# r_data\n",
    "tg = \"avg_price\"\n",
    "col_x =  ['Temperature', 'T.Max', 'T.Min', 'Precp', \n",
    "          'RH', 'StnPres', 'WS', 'WSGust', \"year\",\n",
    "          \"week\",\"d_temp\",\"date_of_m\"]\n",
    "# rm \"/\"\n",
    "for col in col_x:\n",
    "    old = r_data[col]\n",
    "    new = []\n",
    "    for i in range(len(old)):\n",
    "        try:\n",
    "            new.append(float(old[i]))\n",
    "            tmp = float(old[i])\n",
    "        except ValueError:\n",
    "            new.append(tmp)\n",
    "    r_data[col] = new\n",
    "\n",
    "x_raw = r_data[col_x]\n",
    "y_raw = r_data[tg]"
   ]
  },
  {
   "cell_type": "code",
   "execution_count": 2,
   "metadata": {},
   "outputs": [],
   "source": [
    "from sklearn.model_selection import train_test_split\n",
    "x_train, x_test, y_train, y_test = train_test_split(x_raw, \n",
    "                                                    y_raw, \n",
    "                                                    test_size=0.1)\n"
   ]
  },
  {
   "cell_type": "code",
   "execution_count": 3,
   "metadata": {},
   "outputs": [
    {
     "data": {
      "text/plain": [
       "<matplotlib.collections.PathCollection at 0x1f7913f3a20>"
      ]
     },
     "execution_count": 3,
     "metadata": {},
     "output_type": "execute_result"
    },
    {
     "data": {
      "image/png": "[encoded data removed]",
      "text/plain": [
       "<Figure size 432x288 with 1 Axes>"
      ]
     },
     "metadata": {
      "needs_background": "light"
     },
     "output_type": "display_data"
    }
   ],
   "source": [
    "# DecisionTree\n",
    "from sklearn.tree import DecisionTreeRegressor\n",
    "from sklearn.metrics import r2_score\n",
    "import graphviz\n",
    "from sklearn.tree import export_graphviz\n",
    "r2_l = []\n",
    "for k in range(3,20):\n",
    "    reg = DecisionTreeRegressor(max_depth=k)\n",
    "    # 訓練考古題\n",
    "    reg.fit(x_train, y_train)\n",
    "    g = export_graphviz(reg, feature_names=col_x, filled=True)\n",
    "    result = graphviz.Source(g)\n",
    "    # result.render(\"avg_price\")\n",
    "    pre = reg.predict(x_test)\n",
    "    r2 =  r2_score(y_test, pre)\n",
    "#     print(\"k:\",k, \"\\t\",r2)\n",
    "    r2_l.append(r2)\n",
    "# df_show = pd.DataFrame()\n",
    "# df_show[\"pd\"]= np.array(reg.predict(x_test))\n",
    "# df_show[\"ans\"] = np.array(y_test)\n",
    "# df_show.to_csv(\"test0504ML.csv\", index=False)\n",
    "# df_show.corr()\n",
    "# result\n",
    "matplotlib.pyplot.scatter(range(3,20),r2_l)"
   ]
  },
  {
   "cell_type": "code",
   "execution_count": 34,
   "metadata": {},
   "outputs": [
    {
     "name": "stdout",
     "output_type": "stream",
     "text": [
      "k: 7 \t 0.5850604928804857\n"
     ]
    },
    {
     "data": {
      "text/plain": [
       "550.3375552622158"
      ]
     },
     "execution_count": 34,
     "metadata": {},
     "output_type": "execute_result"
    }
   ],
   "source": [
    "reg = DecisionTreeRegressor(max_depth=7)\n",
    "# 訓練考古題\n",
    "reg.fit(x_train, y_train)\n",
    "g = export_graphviz(reg, feature_names=col_x, filled=True)\n",
    "result = graphviz.Source(g)\n",
    "# result.render(\"avg_price\")\n",
    "pre = reg.predict(x_test)\n",
    "r2 =  r2_score(y_test, pre)\n",
    "print(\"k:\",7, \"\\t\",r2)\n",
    "# r2_l.append(r2)\n",
    "df_show = pd.DataFrame()\n",
    "df_show[\"pd\"]= np.array(reg.predict(x_test))\n",
    "df_show[\"ans\"] = np.array(y_test)\n",
    "# df_show.to_csv(\"test0504ML.csv\", index=False)\n",
    "df_show.corr()\n",
    "mean_squared_error(df_show[\"pd\"], df_show[\"ans\"])"
   ]
  },
  {
   "cell_type": "code",
   "execution_count": 11,
   "metadata": {},
   "outputs": [
    {
     "data": {
      "text/plain": [
       "548.052736969939"
      ]
     },
     "execution_count": 11,
     "metadata": {},
     "output_type": "execute_result"
    }
   ],
   "source": [
    "from sklearn.metrics import mean_squared_error\n"
   ]
  },
  {
   "cell_type": "code",
   "execution_count": 5,
   "metadata": {},
   "outputs": [],
   "source": [
    "# (y_raw - min(y_raw)) // ((max(y_raw) - min(y_raw))/10)"
   ]
  },
  {
   "cell_type": "code",
   "execution_count": 6,
   "metadata": {
    "scrolled": true
   },
   "outputs": [],
   "source": [
    "# TODO y > diff >classific / 2d\n",
    "y_diff = np.array(y_raw.pct_change())[1:]\n",
    "x_drop = np.array(x_raw.drop(index=0))\n",
    "# y_class =[]\n",
    "# for i in len(y_diff):\n",
    "# y_diff.describe()\n",
    "# define new class \n",
    "y_class_range = [-0.1,0,0.1]\n",
    "def c_class(v):\n",
    "    t = 0\n",
    "    y_class_range = [-0.1,0,0.1]\n",
    "    for i in range(len(y_class_range)):\n",
    "        if (v >= y_class_range[i]):\n",
    "            t = i+1\n",
    "#     if v>0:\n",
    "#         t = t+1\n",
    "    return str(t)\n",
    "# 0,       1  ,2     ,3,  4\n",
    "# <-0.1,  <0, =0,  <0.1, >0.1\n",
    "y_class = []\n",
    "for i in range(len(y_diff)):\n",
    "    y_class.append(c_class(y_diff[i]))\n",
    "df_tmp = pd.DataFrame()\n",
    "df_tmp[\"diff\"] = y_diff\n",
    "df_tmp[\"class\"] = y_class\n",
    "df_tmp\n",
    "from sklearn.preprocessing import MultiLabelBinarizer\n",
    "mlb = MultiLabelBinarizer()\n",
    "y_mtl = mlb.fit_transform(y_class)\n",
    "# test randomForest\n",
    "xtrain, xtest, ytrain, ytest = train_test_split(x_drop, y_class, test_size=0.1)\n",
    "np.bincount(y_class)\n",
    "# 第三種條法: 讓電腦幫我對所有參數都完成一次交叉驗證, 看一下哪組參數的結果最好\n",
    "\n",
    "from sklearn.model_selection import GridSearchCV\n",
    "from sklearn.ensemble import RandomForestClassifier\n",
    "params = {\n",
    "    \"n_estimators\":range(22, 26),\n",
    "    \"max_depth\":range(4, 9)\n",
    "}\n",
    "clf = RandomForestClassifier()\n",
    "g = GridSearchCV(clf, params, cv=10)\n",
    "# g.fit(x_drop, y_class)\n",
    "# print(g.best_params_)\n",
    "# print(g.best_score_)\n",
    "\n",
    "# 使用test 過後比較好的結果\n",
    "clf = RandomForestClassifier(max_depth= 5, n_estimators= 22)\n",
    "# clf.fit(x_drop, y_class)"
   ]
  },
  {
   "cell_type": "code",
   "execution_count": 7,
   "metadata": {},
   "outputs": [],
   "source": [
    "# class data\n",
    "# TODO y > diff >classific / 2d\n",
    "x_drop = np.array(x_raw.drop(index=0))\n",
    "y_c5 = (y_raw - min(y_raw)) // ((max(y_raw) - min(y_raw))/5)\n",
    "# test randomForest\n",
    "xtrain, xtest, ytrain, ytest = train_test_split(x_drop, y_class, test_size=0.1)\n",
    "np.bincount(y_c5)\n",
    "# 第三種條法: 讓電腦幫我對所有參數都完成一次交叉驗證, 看一下哪組參數的結果最好\n",
    "from sklearn.model_selection import GridSearchCV\n",
    "params = {\n",
    "    \"n_estimators\":range(22, 26),\n",
    "    \"max_depth\":range(2, 6)\n",
    "}\n",
    "clf = RandomForestClassifier()\n",
    "g = GridSearchCV(clf, params, cv=10)\n",
    "# g.fit(x_raw, y_c5)\n",
    "# print(g.best_params_)\n",
    "# print(g.best_score_)"
   ]
  },
  {
   "cell_type": "code",
   "execution_count": 8,
   "metadata": {},
   "outputs": [
    {
     "name": "stdout",
     "output_type": "stream",
     "text": [
      "desc_count y_class: [305 567 491 352]\n"
     ]
    }
   ],
   "source": [
    "# MLP test\n",
    "# y_class_range = [-0.1,0,0.1]\n",
    "print(\"desc_count y_class:\", np.bincount(y_class))\n",
    "\n",
    "c_new =  ['Temperature','Precp','RH', 'WS',\"week\",\"d_temp\",\"date_of_m\"]\n",
    "x_new =x_raw[c_new]\n",
    "x_new\n",
    "# to nomralize\n",
    "c_to_n =['Temperature','RH', 'WS',\"d_temp\"]\n",
    "# to class and dummy code\n",
    "c_to_dum = [\"date_of_m\",'Precp']\n",
    "\n",
    "# x_train, x_test, y_train, y_test = train_test_split(x_drop, y_class, test_size=0.1)"
   ]
  }
 ],
 "metadata": {
  "kernelspec": {
   "display_name": "Python 3",
   "language": "python",
   "name": "python3"
  },
  "language_info": {
   "codemirror_mode": {
    "name": "ipython",
    "version": 3
   },
   "file_extension": ".py",
   "mimetype": "text/x-python",
   "name": "python",
   "nbconvert_exporter": "python",
   "pygments_lexer": "ipython3",
   "version": "3.6.7"
  }
 },
 "nbformat": 4,
 "nbformat_minor": 2
}
