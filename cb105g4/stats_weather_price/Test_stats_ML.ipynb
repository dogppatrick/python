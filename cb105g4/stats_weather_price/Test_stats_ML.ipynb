{
 "cells": [
  {
   "cell_type": "code",
   "execution_count": 1,
   "metadata": {},
   "outputs": [],
   "source": [
    "import numpy as np\n",
    "import pandas as pd\n",
    "import statsmodels.api as sm\n",
    "import statsmodels.formula.api as smf\n",
    "import matplotlib\n",
    "import matplotlib.pyplot as plt\n",
    "# load data\n",
    "r_data = pd.read_csv(\"../result/join_weather_flower/Rose_C0H960_草屯.csv\")\n",
    "r_data = r_data.dropna()\n",
    "# select year\n",
    "# gb_df  = r_data.groupby(\"year\")\n",
    "# r_data = gb_df.get_group(2014.0)\n",
    "# print(r_data)\n",
    "r_data = r_data.reset_index()\n",
    "r_data = r_data.drop(columns=\"index\")\n",
    "r_data[\"d_temp\"] = r_data['T.Max'] - r_data['T.Min']\n",
    "d = np.array(r_data[\"Date\"])\n",
    "day_new=[]\n",
    "for date in d:\n",
    "    day_new.append(int(date.split(\"-\")[-1]))\n",
    "r_data[\"date_of_m\"] = day_new\n",
    "# r_data\n",
    "tg = \"avg_price\"\n",
    "col_x =  ['Temperature', 'T.Max', 'T.Min', 'Precp', \n",
    "          'RH', 'StnPres', 'WS', 'WSGust', \"year\",\n",
    "          \"week\",\"d_temp\",\"date_of_m\"]\n",
    "# rm \"/\"\n",
    "for col in col_x:\n",
    "    old = r_data[col]\n",
    "    new = []\n",
    "    for i in range(len(old)):\n",
    "        try:\n",
    "            new.append(float(old[i]))\n",
    "            tmp = float(old[i])\n",
    "        except ValueError:\n",
    "            new.append(tmp)\n",
    "    r_data[col] = new\n",
    "\n",
    "x_raw = r_data[col_x]\n",
    "y_raw = r_data[tg]"
   ]
  },
  {
   "cell_type": "code",
   "execution_count": 2,
   "metadata": {},
   "outputs": [],
   "source": [
    "from sklearn.model_selection import train_test_split\n",
    "x_train, x_test, y_train, y_test = train_test_split(x_raw, \n",
    "                                                    y_raw, \n",
    "                                                    test_size=0.1)\n"
   ]
  },
  {
   "cell_type": "code",
   "execution_count": 3,
   "metadata": {},
   "outputs": [
    {
     "data": {
      "text/plain": [
       "<matplotlib.collections.PathCollection at 0x1eb8e7ea390>"
      ]
     },
     "execution_count": 3,
     "metadata": {},
     "output_type": "execute_result"
    },
    {
     "data": {
      "image/png": "[encoded data removed]",
      "text/plain": [
       "<Figure size 432x288 with 1 Axes>"
      ]
     },
     "metadata": {
      "needs_background": "light"
     },
     "output_type": "display_data"
    }
   ],
   "source": [
    "from sklearn.tree import DecisionTreeRegressor\n",
    "from sklearn.metrics import r2_score\n",
    "import graphviz\n",
    "from sklearn.tree import export_graphviz\n",
    "r2_l = []\n",
    "for k in range(3,20):\n",
    "    reg = DecisionTreeRegressor(max_depth=k)\n",
    "    # 訓練考古題\n",
    "    reg.fit(x_train, y_train)\n",
    "    g = export_graphviz(reg, feature_names=col_x, filled=True)\n",
    "    result = graphviz.Source(g)\n",
    "    # result.render(\"avg_price\")\n",
    "    pre = reg.predict(x_test)\n",
    "    r2 =  r2_score(y_test, pre)\n",
    "#     print(\"k:\",k, \"\\t\",r2)\n",
    "    r2_l.append(r2)\n",
    "# df_show = pd.DataFrame()\n",
    "# df_show[\"pd\"]= np.array(reg.predict(x_test))\n",
    "# df_show[\"ans\"] = np.array(y_test)\n",
    "# df_show.to_csv(\"test0504ML.csv\", index=False)\n",
    "# df_show.corr()\n",
    "# result\n",
    "matplotlib.pyplot.scatter(range(3,20),r2_l)"
   ]
  },
  {
   "cell_type": "code",
   "execution_count": 4,
   "metadata": {},
   "outputs": [
    {
     "name": "stdout",
     "output_type": "stream",
     "text": [
      "k: 7 \t 0.5466197911106501\n"
     ]
    },
    {
     "data": {
      "text/html": [
       "<div>\n",
       "<style scoped>\n",
       "    .dataframe tbody tr th:only-of-type {\n",
       "        vertical-align: middle;\n",
       "    }\n",
       "\n",
       "    .dataframe tbody tr th {\n",
       "        vertical-align: top;\n",
       "    }\n",
       "\n",
       "    .dataframe thead th {\n",
       "        text-align: right;\n",
       "    }\n",
       "</style>\n",
       "<table border=\"1\" class=\"dataframe\">\n",
       "  <thead>\n",
       "    <tr style=\"text-align: right;\">\n",
       "      <th></th>\n",
       "      <th>pd</th>\n",
       "      <th>ans</th>\n",
       "    </tr>\n",
       "  </thead>\n",
       "  <tbody>\n",
       "    <tr>\n",
       "      <th>pd</th>\n",
       "      <td>1.000000</td>\n",
       "      <td>0.740635</td>\n",
       "    </tr>\n",
       "    <tr>\n",
       "      <th>ans</th>\n",
       "      <td>0.740635</td>\n",
       "      <td>1.000000</td>\n",
       "    </tr>\n",
       "  </tbody>\n",
       "</table>\n",
       "</div>"
      ],
      "text/plain": [
       "           pd       ans\n",
       "pd   1.000000  0.740635\n",
       "ans  0.740635  1.000000"
      ]
     },
     "execution_count": 4,
     "metadata": {},
     "output_type": "execute_result"
    }
   ],
   "source": [
    "reg = DecisionTreeRegressor(max_depth=7)\n",
    "# 訓練考古題\n",
    "reg.fit(x_train, y_train)\n",
    "g = export_graphviz(reg, feature_names=col_x, filled=True)\n",
    "result = graphviz.Source(g)\n",
    "# result.render(\"avg_price\")\n",
    "pre = reg.predict(x_test)\n",
    "r2 =  r2_score(y_test, pre)\n",
    "print(\"k:\",7, \"\\t\",r2)\n",
    "# r2_l.append(r2)\n",
    "df_show = pd.DataFrame()\n",
    "df_show[\"pd\"]= np.array(reg.predict(x_test))\n",
    "df_show[\"ans\"] = np.array(y_test)\n",
    "df_show.to_csv(\"test0504ML.csv\", index=False)\n",
    "df_show.corr()"
   ]
  },
  {
   "cell_type": "code",
   "execution_count": null,
   "metadata": {},
   "outputs": [],
   "source": []
  },
  {
   "cell_type": "code",
   "execution_count": null,
   "metadata": {},
   "outputs": [],
   "source": []
  }
 ],
 "metadata": {
  "kernelspec": {
   "display_name": "Python 3",
   "language": "python",
   "name": "python3"
  },
  "language_info": {
   "codemirror_mode": {
    "name": "ipython",
    "version": 3
   },
   "file_extension": ".py",
   "mimetype": "text/x-python",
   "name": "python",
   "nbconvert_exporter": "python",
   "pygments_lexer": "ipython3",
   "version": "3.6.0"
  }
 },
 "nbformat": 4,
 "nbformat_minor": 2
}
