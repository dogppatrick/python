{
 "cells": [
  {
   "cell_type": "code",
   "execution_count": 1,
   "metadata": {},
   "outputs": [],
   "source": [
    "import numpy as np\n",
    "import pandas as pd\n",
    "import statsmodels.api as sm\n",
    "import statsmodels.formula.api as smf\n",
    "import matplotlib\n",
    "import matplotlib.pyplot as plt\n",
    "# load data\n",
    "r_data = pd.read_csv(\"../result/join_weather_flower/Rose_C0H960_草屯.csv\")\n",
    "r_data = r_data.dropna()\n",
    "# select year\n",
    "# gb_df  = r_data.groupby(\"year\")\n",
    "# r_data = gb_df.get_group(2014.0)\n",
    "# print(r_data)\n",
    "r_data = r_data.reset_index()\n",
    "r_data = r_data.drop(columns=\"index\")\n",
    "r_data[\"d_temp\"] = r_data['T.Max'] - r_data['T.Min']\n",
    "d = np.array(r_data[\"Date\"])\n",
    "day_new=[]\n",
    "for date in d:\n",
    "    day_new.append(int(date.split(\"-\")[-1]))\n",
    "r_data[\"date_of_m\"] = day_new\n",
    "# r_data\n",
    "tg = \"avg_price\"\n",
    "col_x =  ['Temperature', 'T.Max', 'T.Min', 'Precp', \n",
    "          'RH', 'StnPres', 'WS', 'WSGust', \"year\",\n",
    "          \"week\",\"d_temp\",\"date_of_m\"]\n",
    "# rm \"/\"\n",
    "for col in col_x:\n",
    "    old = r_data[col]\n",
    "    new = []\n",
    "    for i in range(len(old)):\n",
    "        try:\n",
    "            new.append(float(old[i]))\n",
    "            tmp = float(old[i])\n",
    "        except ValueError:\n",
    "            new.append(tmp)\n",
    "    r_data[col] = new\n",
    "\n",
    "x_raw = r_data[col_x]\n",
    "y_raw = r_data[tg]"
   ]
  },
  {
   "cell_type": "code",
   "execution_count": 2,
   "metadata": {},
   "outputs": [],
   "source": [
    "from sklearn.model_selection import train_test_split\n",
    "x_train, x_test, y_train, y_test = train_test_split(x_raw, \n",
    "                                                    y_raw, \n",
    "                                                    test_size=0.1)\n"
   ]
  },
  {
   "cell_type": "code",
   "execution_count": 3,
   "metadata": {},
   "outputs": [
    {
     "data": {
      "text/plain": [
       "<matplotlib.collections.PathCollection at 0x1fd5d16cef0>"
      ]
     },
     "execution_count": 3,
     "metadata": {},
     "output_type": "execute_result"
    },
    {
     "data": {
      "image/png": "[encoded data removed]",
      "text/plain": [
       "<Figure size 432x288 with 1 Axes>"
      ]
     },
     "metadata": {
      "needs_background": "light"
     },
     "output_type": "display_data"
    }
   ],
   "source": [
    "# DecisionTree\n",
    "from sklearn.tree import DecisionTreeRegressor\n",
    "from sklearn.metrics import r2_score\n",
    "import graphviz\n",
    "from sklearn.tree import export_graphviz\n",
    "r2_l = []\n",
    "for k in range(3,20):\n",
    "    reg = DecisionTreeRegressor(max_depth=k)\n",
    "    # 訓練考古題\n",
    "    reg.fit(x_train, y_train)\n",
    "    g = export_graphviz(reg, feature_names=col_x, filled=True)\n",
    "    result = graphviz.Source(g)\n",
    "    # result.render(\"avg_price\")\n",
    "    pre = reg.predict(x_test)\n",
    "    r2 =  r2_score(y_test, pre)\n",
    "#     print(\"k:\",k, \"\\t\",r2)\n",
    "    r2_l.append(r2)\n",
    "# df_show = pd.DataFrame()\n",
    "# df_show[\"pd\"]= np.array(reg.predict(x_test))\n",
    "# df_show[\"ans\"] = np.array(y_test)\n",
    "# df_show.to_csv(\"test0504ML.csv\", index=False)\n",
    "# df_show.corr()\n",
    "# result\n",
    "matplotlib.pyplot.scatter(range(3,20),r2_l)"
   ]
  },
  {
   "cell_type": "code",
   "execution_count": 4,
   "metadata": {},
   "outputs": [
    {
     "name": "stdout",
     "output_type": "stream",
     "text": [
      "k: 7 \t 0.4740060576328907\n"
     ]
    },
    {
     "data": {
      "text/html": [
       "<div>\n",
       "<style scoped>\n",
       "    .dataframe tbody tr th:only-of-type {\n",
       "        vertical-align: middle;\n",
       "    }\n",
       "\n",
       "    .dataframe tbody tr th {\n",
       "        vertical-align: top;\n",
       "    }\n",
       "\n",
       "    .dataframe thead th {\n",
       "        text-align: right;\n",
       "    }\n",
       "</style>\n",
       "<table border=\"1\" class=\"dataframe\">\n",
       "  <thead>\n",
       "    <tr style=\"text-align: right;\">\n",
       "      <th></th>\n",
       "      <th>pd</th>\n",
       "      <th>ans</th>\n",
       "    </tr>\n",
       "  </thead>\n",
       "  <tbody>\n",
       "    <tr>\n",
       "      <th>pd</th>\n",
       "      <td>1.00000</td>\n",
       "      <td>0.70709</td>\n",
       "    </tr>\n",
       "    <tr>\n",
       "      <th>ans</th>\n",
       "      <td>0.70709</td>\n",
       "      <td>1.00000</td>\n",
       "    </tr>\n",
       "  </tbody>\n",
       "</table>\n",
       "</div>"
      ],
      "text/plain": [
       "          pd      ans\n",
       "pd   1.00000  0.70709\n",
       "ans  0.70709  1.00000"
      ]
     },
     "execution_count": 4,
     "metadata": {},
     "output_type": "execute_result"
    }
   ],
   "source": [
    "reg = DecisionTreeRegressor(max_depth=7)\n",
    "# 訓練考古題\n",
    "reg.fit(x_train, y_train)\n",
    "g = export_graphviz(reg, feature_names=col_x, filled=True)\n",
    "result = graphviz.Source(g)\n",
    "# result.render(\"avg_price\")\n",
    "pre = reg.predict(x_test)\n",
    "r2 =  r2_score(y_test, pre)\n",
    "print(\"k:\",7, \"\\t\",r2)\n",
    "# r2_l.append(r2)\n",
    "df_show = pd.DataFrame()\n",
    "df_show[\"pd\"]= np.array(reg.predict(x_test))\n",
    "df_show[\"ans\"] = np.array(y_test)\n",
    "df_show.to_csv(\"test0504ML.csv\", index=False)\n",
    "df_show.corr()"
   ]
  },
  {
   "cell_type": "code",
   "execution_count": 115,
   "metadata": {
    "collapsed": true
   },
   "outputs": [
    {
     "data": {
      "text/plain": [
       "0       4.0\n",
       "1       4.0\n",
       "2       4.0\n",
       "3       3.0\n",
       "4       4.0\n",
       "5       3.0\n",
       "6       3.0\n",
       "7       4.0\n",
       "8       4.0\n",
       "9       3.0\n",
       "10      3.0\n",
       "11      3.0\n",
       "12      3.0\n",
       "13      3.0\n",
       "14      3.0\n",
       "15      3.0\n",
       "16      3.0\n",
       "17      3.0\n",
       "18      3.0\n",
       "19      3.0\n",
       "20      3.0\n",
       "21      3.0\n",
       "22      4.0\n",
       "23      4.0\n",
       "24      3.0\n",
       "25      4.0\n",
       "26      4.0\n",
       "27      5.0\n",
       "28      3.0\n",
       "29      1.0\n",
       "       ... \n",
       "1686    1.0\n",
       "1687    2.0\n",
       "1688    2.0\n",
       "1689    2.0\n",
       "1690    1.0\n",
       "1691    1.0\n",
       "1692    1.0\n",
       "1693    1.0\n",
       "1694    1.0\n",
       "1695    1.0\n",
       "1696    1.0\n",
       "1697    1.0\n",
       "1698    1.0\n",
       "1699    1.0\n",
       "1700    1.0\n",
       "1701    1.0\n",
       "1702    1.0\n",
       "1703    1.0\n",
       "1704    1.0\n",
       "1705    1.0\n",
       "1706    1.0\n",
       "1707    1.0\n",
       "1708    2.0\n",
       "1709    2.0\n",
       "1710    2.0\n",
       "1711    2.0\n",
       "1712    1.0\n",
       "1713    1.0\n",
       "1714    1.0\n",
       "1715    1.0\n",
       "Name: avg_price, Length: 1716, dtype: float64"
      ]
     },
     "execution_count": 115,
     "metadata": {},
     "output_type": "execute_result"
    }
   ],
   "source": [
    "# (y_raw - min(y_raw)) // ((max(y_raw) - min(y_raw))/10)"
   ]
  },
  {
   "cell_type": "code",
   "execution_count": 117,
   "metadata": {},
   "outputs": [
    {
     "data": {
      "text/plain": [
       "array([940, 665,  84,  22,   4,   1], dtype=int64)"
      ]
     },
     "execution_count": 117,
     "metadata": {},
     "output_type": "execute_result"
    }
   ],
   "source": [
    "# class data\n",
    "# TODO y > diff >classific / 2d\n",
    "y_c5 = (y_raw - min(y_raw)) // ((max(y_raw) - min(y_raw))/5)\n",
    "# test randomForest\n",
    "xtrain, xtest, ytrain, ytest = train_test_split(x_drop, y_class, test_size=0.1)\n",
    "np.bincount(y_c10)\n",
    "# y_c10\n",
    "# 第三種條法: 讓電腦幫我對所有參數都完成一次交叉驗證, 看一下哪組參數的結果最好\n",
    "from sklearn.model_selection import GridSearchCV\n",
    "params = {\n",
    "    \"n_estimators\":range(22, 26),\n",
    "    \"max_depth\":range(2, 6)\n",
    "}\n",
    "clf = RandomForestClassifier()\n",
    "g = GridSearchCV(clf, params, cv=10)\n",
    "g.fit(x_raw, y_c5)\n",
    "print(g.best_params_)\n",
    "print(g.best_score_)"
   ]
  },
  {
   "cell_type": "code",
   "execution_count": 119,
   "metadata": {
    "scrolled": true
   },
   "outputs": [
    {
     "name": "stdout",
     "output_type": "stream",
     "text": [
      "{'max_depth': 4, 'n_estimators': 22}\n",
      "0.5113702623906705\n"
     ]
    }
   ],
   "source": [
    "# TODO y > diff >classific / 2d\n",
    "y_diff = np.array(y_raw.pct_change())[1:]\n",
    "x_drop = np.array(x_raw.drop(index=0))\n",
    "# y_class =[]\n",
    "# for i in len(y_diff):\n",
    "# y_diff.describe()\n",
    "# define new class \n",
    "y_class_range = [-0.1,0,0.1]\n",
    "def c_class(v):\n",
    "    t = 0\n",
    "    y_class_range = [0]\n",
    "    for i in range(len(y_class_range)):\n",
    "        if (v >= y_class_range[i]):\n",
    "            t = i+1\n",
    "#     if v>0:\n",
    "#         t = t+1\n",
    "    return str(t)\n",
    "# 0,       1  ,2     ,3,  4\n",
    "# <-0.1,  <0, =0,  <0.1, >0.1\n",
    "y_class = []\n",
    "for i in range(len(y_diff)):\n",
    "    y_class.append(c_class(y_diff[i]))\n",
    "df_tmp = pd.DataFrame()\n",
    "df_tmp[\"diff\"] = y_diff\n",
    "df_tmp[\"class\"] = y_class\n",
    "df_tmp\n",
    "from sklearn.preprocessing import MultiLabelBinarizer\n",
    "mlb = MultiLabelBinarizer()\n",
    "y_mtl = mlb.fit_transform(y_class)\n",
    "# test randomForest\n",
    "xtrain, xtest, ytrain, ytest = train_test_split(x_drop, y_class, test_size=0.1)\n",
    "np.bincount(y_class)\n",
    "# 第三種條法: 讓電腦幫我對所有參數都完成一次交叉驗證, 看一下哪組參數的結果最好\n",
    "from sklearn.model_selection import GridSearchCV\n",
    "params = {\n",
    "    \"n_estimators\":range(22, 26),\n",
    "    \"max_depth\":range(2, 6)\n",
    "}\n",
    "clf = RandomForestClassifier()\n",
    "g = GridSearchCV(clf, params, cv=10)\n",
    "g.fit(x_drop, y_class)\n",
    "print(g.best_params_)\n",
    "print(g.best_score_)"
   ]
  },
  {
   "cell_type": "code",
   "execution_count": null,
   "metadata": {},
   "outputs": [],
   "source": [
    "# MLP test"
   ]
  }
 ],
 "metadata": {
  "kernelspec": {
   "display_name": "Python 3",
   "language": "python",
   "name": "python3"
  },
  "language_info": {
   "codemirror_mode": {
    "name": "ipython",
    "version": 3
   },
   "file_extension": ".py",
   "mimetype": "text/x-python",
   "name": "python",
   "nbconvert_exporter": "python",
   "pygments_lexer": "ipython3",
   "version": "3.6.0"
  }
 },
 "nbformat": 4,
 "nbformat_minor": 2
}
