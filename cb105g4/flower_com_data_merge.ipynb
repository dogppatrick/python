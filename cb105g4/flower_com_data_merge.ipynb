{
 "cells": [
  {
   "cell_type": "code",
   "execution_count": 24,
   "metadata": {},
   "outputs": [
    {
     "name": "stdout",
     "output_type": "stream",
     "text": [
      "['recode_fc_die.csv', 'recode_fc_live.csv', 'recode_fc_may_die.csv']\n"
     ]
    },
    {
     "data": {
      "text/plain": [
       "[array([['南投縣中寮鄉和興村００８鄰永樂路１４３號', 94920851, '保証責任南投縣和興合作農場', ..., 'N',\n",
       "         '[453212 485112 472935 932999]',\n",
       "         \"['種苗批發' '園藝苗木零售' '青草零售' '未分類其他娛樂及休閒服務']\"],\n",
       "        ['南投縣仁愛鄉南豐村１２鄰中正路１１８－３號', 45651105, '祥林園藝', ..., 'N',\n",
       "         '[453212 711112 485113 485299]',\n",
       "         \"['種苗批發' '景觀建築服務' '花卉材料、園藝器具零售' '未分類其他全新商品零售']\"],\n",
       "        ['南投縣南投市光輝里省府路７８號', 80590886, '松濤園企業有限公司', ..., 'N',\n",
       "         '[453212 453211 711112 432000]',\n",
       "         \"['種苗批發' '切花、盆栽批發' '景觀建築服務' '庭園景觀工程']\"],\n",
       "        ...,\n",
       "        ['高雄市鼓山區裕興里中華一路５７號', 26010088, '中華水族館', ..., 'N',\n",
       "         '[485220 485113]', \"['寵物零售' '花卉材料、園藝器具零售']\"],\n",
       "        ['高雄市鼓山區龍子里明誠三路６８１號１８樓', 54201102, '永誠綠能科技股份有限公司', ..., 'Y',\n",
       "         '[454920 472999 453212 485112]',\n",
       "         \"['保健食品批發' '未分類其他食品、飲料及菸草製品零售' '種苗批發' '園藝苗木零售']\"],\n",
       "        ['高雄市鼓山區龍水里美術東二路４６號７樓之１', 59324722, '南洋行國際有限公司', ..., 'N',\n",
       "         '[464317]', \"['農業及園藝機械批發']\"]], dtype=object),\n",
       " array([['南投縣中寮鄉永平村永安街１５０號', 45618768, '諾華商行', ..., 'Y',\n",
       "         '[462016 485113]', \"['農藥批發' '花卉材料、園藝器具零售']\"],\n",
       "        ['南投縣中寮鄉永平村１２鄰永平路２６５―１號', 25226862, '宜欣花店', ..., 'N', '[963099]',\n",
       "         \"['其他殯葬服務']\"],\n",
       "        ['南投縣中寮鄉清水村瀧林巷９５－６號一樓', 72425667, '香格里拉園藝社', ..., 'N', '[11999]',\n",
       "         \"['其他農作物栽培']\"],\n",
       "        ...,\n",
       "        ['高雄市鼓山區龍水里美術館路１５５號２１樓', 53258632, '瑞涵企業有限公司', ..., 'Y',\n",
       "         '[454612 453211 456211 456213]',\n",
       "         \"['進口菸酒批發' '切花、盆栽批發' '國產家用家具批發' '廚櫃批發']\"],\n",
       "        ['高雄市鼓山區龍水里青海路２７７號', 42799576, '捷卡登股份有限公司', ..., 'Y',\n",
       "         '[485111 711112]', \"['切花、盆栽零售' '景觀建築服務']\"],\n",
       "        ['高雄市鼓山區龍水里馬卡道路２６號１、２樓', 38710924, '雀兒喜花店', ..., 'N',\n",
       "         '[485111 485113]', \"['切花、盆栽零售' '花卉材料、園藝器具零售']\"]], dtype=object),\n",
       " array([['南投縣中寮鄉永平村９鄰復興巷１－１０號', 19245758, '協農農機行', ..., 'N', '[464317]',\n",
       "         \"['農業及園藝機械批發']\"],\n",
       "        ['南投縣中寮鄉永福村永平路４４１―３號１樓', 26891323, '草嶺園藝', ..., 'N', '[813000]',\n",
       "         \"['綠化服務']\"],\n",
       "        ['南投縣仁愛鄉中正村平等巷７７號', 45475516, '卓群園藝清潔社', ..., 'N',\n",
       "         '[812100 812911]', \"['建築物一般清潔服務' '病媒防治服務']\"],\n",
       "        ...,\n",
       "        ['高雄市鼓山區龍水里美術北五街５９巷２６號１樓', 14831499, '創世咖啡館', ..., 'N',\n",
       "         '[563112 561115 485111]', \"['咖啡館' '餐館、餐廳' '切花、盆栽零售']\"],\n",
       "        ['高雄市鼓山區龍水里美術館路８０號', 21389920, '創世咖啡館美術館門市部', ..., 'N',\n",
       "         '[563112 561114 485111]', \"['咖啡館' '連鎖速食店' '切花、盆栽零售']\"],\n",
       "        ['高雄市鼓山區龍水里青海路２７７號', 24660558, '和景有限公司', ..., 'N',\n",
       "         '[453211  11711 813000]', \"['切花、盆栽批發' '盆景栽培' '綠化服務']\"]],\n",
       "       dtype=object)]"
      ]
     },
     "execution_count": 24,
     "metadata": {},
     "output_type": "execute_result"
    }
   ],
   "source": [
    "import pandas as pd\n",
    "import numpy as np\n",
    "import glob\n",
    "fn_list = glob.glob(\"recode_*\")\n",
    "print(fn_list)\n",
    "datas =[]\n",
    "for fn in fn_list:\n",
    "    datas.append(pd.read_csv(fn, encoding=\"utf-8\"))\n",
    "data_code=[\"die\", \"live\", \"may_die\"]\n",
    "arr_data=[]\n",
    "for data in datas:\n",
    "    arr_data.append(np.array(data))\n",
    "arr_data"
   ]
  },
  {
   "cell_type": "code",
   "execution_count": 25,
   "metadata": {},
   "outputs": [
    {
     "name": "stdout",
     "output_type": "stream",
     "text": [
      "*****die*****\n",
      "營業地址 0\t['南投縣中寮鄉和興村００８鄰永樂路１４３號' '南投縣仁愛鄉南豐村１２鄰中正路１１８－３號' '南投縣南投市光輝里省府路７８號']\n",
      "統一編號 1\t[94920851 45651105 80590886]\n",
      "營業人名稱 2\t['保証責任南投縣和興合作農場' '祥林園藝' '松濤園企業有限公司']\n",
      "資本額 3\t[200000 90000 1200000]\n",
      "設立日期 4\t[920526 970411 921119]\n",
      "停業日期 5\t[1070712 1080101 1070601]\n",
      "使用統一發票 6\t['N' 'N' 'N']\n",
      "行業代碼_new 7\t['[453212 485112 472935 932999]' '[453212 711112 485113 485299]'\n",
      " '[453212 453211 711112 432000]']\n",
      "名稱_new 8\t[\"['種苗批發' '園藝苗木零售' '青草零售' '未分類其他娛樂及休閒服務']\"\n",
      " \"['種苗批發' '景觀建築服務' '花卉材料、園藝器具零售' '未分類其他全新商品零售']\"\n",
      " \"['種苗批發' '切花、盆栽批發' '景觀建築服務' '庭園景觀工程']\"]\n",
      "*****live*****\n",
      "營業地址 0\t['南投縣中寮鄉永平村永安街１５０號' '南投縣中寮鄉永平村１２鄰永平路２６５―１號' '南投縣中寮鄉清水村瀧林巷９５－６號一樓']\n",
      "統一編號 1\t[45618768 25226862 72425667]\n",
      "營業人名稱 2\t['諾華商行' '宜欣花店' '香格里拉園藝社']\n",
      "資本額 3\t[220000 500000 200000]\n",
      "設立日期 4\t[970311 980609 1060616]\n",
      "組織別名稱 5\t['獨資' '獨資' '獨資']\n",
      "使用統一發票 6\t['Y' 'N' 'N']\n",
      "行業代碼_new 7\t['[462016 485113]' '[963099]' '[11999]']\n",
      "名稱_new 8\t[\"['農藥批發' '花卉材料、園藝器具零售']\" \"['其他殯葬服務']\" \"['其他農作物栽培']\"]\n",
      "*****may_die*****\n",
      "營業地址 0\t['南投縣中寮鄉永平村９鄰復興巷１－１０號' '南投縣中寮鄉永福村永平路４４１―３號１樓' '南投縣仁愛鄉中正村平等巷７７號']\n",
      "統一編號 1\t[19245758 26891323 45475516]\n",
      "營業人名稱 2\t['協農農機行' '草嶺園藝' '卓群園藝清潔社']\n",
      "資本額 3\t[3000 200000 240000]\n",
      "設立日期 4\t[890306 1000927 960613]\n",
      "使用統一發票 5\t['N' 'N' 'N']\n",
      "行業代碼_new 6\t['[464317]' '[813000]' '[812100 812911]']\n",
      "名稱_new 7\t[\"['農業及園藝機械批發']\" \"['綠化服務']\" \"['建築物一般清潔服務' '病媒防治服務']\"]\n"
     ]
    }
   ],
   "source": [
    "nraw = []\n",
    "for j in range(3):\n",
    "    print(\"*****\"+data_code[j]+\"*****\")\n",
    "    c = datas[j].columns.tolist()\n",
    "    for i in range(len(c)):\n",
    "        print(c[i],i, end=\"\\t\")\n",
    "        print(arr_data[j][0:3,i])\n",
    "    nraw.append(datas[j].shape[0])"
   ]
  },
  {
   "cell_type": "code",
   "execution_count": 26,
   "metadata": {},
   "outputs": [],
   "source": [
    "uid = []\n",
    "for i in range(3):\n",
    "    uid.append(np.array(datas[i][\"統一編號\"]))\n"
   ]
  },
  {
   "cell_type": "code",
   "execution_count": 27,
   "metadata": {},
   "outputs": [
    {
     "name": "stdout",
     "output_type": "stream",
     "text": [
      "die vs live 0\n",
      "die vs may_die 2\n",
      "live vs may_die 3\n"
     ]
    }
   ],
   "source": [
    "# fix data in two file\n",
    "compare_uuid={}\n",
    "for i in range(3):\n",
    "    for j in range(3):\n",
    "        if i<j:\n",
    "            comp=data_code[i] + \" vs \"+ data_code[j]\n",
    "            compare_uuid[comp] = list(np.intersect1d(uid[i],uid[j]))\n",
    "for key in compare_uuid:\n",
    "    print(key, len(compare_uuid[key]))\n",
    "# print(len(compare_uuid))"
   ]
  },
  {
   "cell_type": "code",
   "execution_count": 36,
   "metadata": {},
   "outputs": [],
   "source": [
    "\n"
   ]
  },
  {
   "cell_type": "code",
   "execution_count": 28,
   "metadata": {},
   "outputs": [],
   "source": [
    "din2 = []\n",
    "for i in range(nraw[0]):\n",
    "    if arr_data[0][i,1] in compare_uuid[\"die vs may_die\"]:\n",
    "        din2.append(arr_data[0][i,:])\n",
    "df0 = pd.DataFrame(din2, columns=datas[0].columns.tolist())"
   ]
  },
  {
   "cell_type": "code",
   "execution_count": 29,
   "metadata": {
    "scrolled": true
   },
   "outputs": [
    {
     "data": {
      "text/html": [
       "<div>\n",
       "<style scoped>\n",
       "    .dataframe tbody tr th:only-of-type {\n",
       "        vertical-align: middle;\n",
       "    }\n",
       "\n",
       "    .dataframe tbody tr th {\n",
       "        vertical-align: top;\n",
       "    }\n",
       "\n",
       "    .dataframe thead th {\n",
       "        text-align: right;\n",
       "    }\n",
       "</style>\n",
       "<table border=\"1\" class=\"dataframe\">\n",
       "  <thead>\n",
       "    <tr style=\"text-align: right;\">\n",
       "      <th></th>\n",
       "      <th>營業地址</th>\n",
       "      <th>統一編號</th>\n",
       "      <th>營業人名稱</th>\n",
       "      <th>資本額</th>\n",
       "      <th>設立日期</th>\n",
       "      <th>停業日期</th>\n",
       "      <th>使用統一發票</th>\n",
       "      <th>行業代碼_new</th>\n",
       "      <th>名稱_new</th>\n",
       "    </tr>\n",
       "  </thead>\n",
       "  <tbody>\n",
       "    <tr>\n",
       "      <th>0</th>\n",
       "      <td>桃園市桃園區光興里中山路４４２號１樓</td>\n",
       "      <td>19965192</td>\n",
       "      <td>意香花坊</td>\n",
       "      <td>200000</td>\n",
       "      <td>860429</td>\n",
       "      <td>1080105</td>\n",
       "      <td>N</td>\n",
       "      <td>[485111]</td>\n",
       "      <td>['切花、盆栽零售']</td>\n",
       "    </tr>\n",
       "    <tr>\n",
       "      <th>1</th>\n",
       "      <td>臺北市中山區力行里復興北路５８號１２樓</td>\n",
       "      <td>38514747</td>\n",
       "      <td>賞心悅目花藝設計坊</td>\n",
       "      <td>100000</td>\n",
       "      <td>1030721</td>\n",
       "      <td>1080228</td>\n",
       "      <td>N</td>\n",
       "      <td>[485111]</td>\n",
       "      <td>['切花、盆栽零售']</td>\n",
       "    </tr>\n",
       "  </tbody>\n",
       "</table>\n",
       "</div>"
      ],
      "text/plain": [
       "                  營業地址      統一編號      營業人名稱     資本額     設立日期     停業日期 使用統一發票  \\\n",
       "0   桃園市桃園區光興里中山路４４２號１樓  19965192       意香花坊  200000   860429  1080105      N   \n",
       "1  臺北市中山區力行里復興北路５８號１２樓  38514747  賞心悅目花藝設計坊  100000  1030721  1080228      N   \n",
       "\n",
       "   行業代碼_new       名稱_new  \n",
       "0  [485111]  ['切花、盆栽零售']  \n",
       "1  [485111]  ['切花、盆栽零售']  "
      ]
     },
     "execution_count": 29,
     "metadata": {},
     "output_type": "execute_result"
    }
   ],
   "source": [
    "df0"
   ]
  },
  {
   "cell_type": "code",
   "execution_count": 32,
   "metadata": {},
   "outputs": [
    {
     "data": {
      "text/html": [
       "<div>\n",
       "<style scoped>\n",
       "    .dataframe tbody tr th:only-of-type {\n",
       "        vertical-align: middle;\n",
       "    }\n",
       "\n",
       "    .dataframe tbody tr th {\n",
       "        vertical-align: top;\n",
       "    }\n",
       "\n",
       "    .dataframe thead th {\n",
       "        text-align: right;\n",
       "    }\n",
       "</style>\n",
       "<table border=\"1\" class=\"dataframe\">\n",
       "  <thead>\n",
       "    <tr style=\"text-align: right;\">\n",
       "      <th></th>\n",
       "      <th>營業地址</th>\n",
       "      <th>統一編號</th>\n",
       "      <th>營業人名稱</th>\n",
       "      <th>資本額</th>\n",
       "      <th>設立日期</th>\n",
       "      <th>使用統一發票</th>\n",
       "      <th>行業代碼_new</th>\n",
       "      <th>名稱_new</th>\n",
       "    </tr>\n",
       "  </thead>\n",
       "  <tbody>\n",
       "    <tr>\n",
       "      <th>0</th>\n",
       "      <td>臺北市松山區安平里南京東路５段３９９號２樓之３</td>\n",
       "      <td>72919346</td>\n",
       "      <td>如逸花店</td>\n",
       "      <td>200000</td>\n",
       "      <td>1070423</td>\n",
       "      <td>N</td>\n",
       "      <td>[485111]</td>\n",
       "      <td>['切花、盆栽零售']</td>\n",
       "    </tr>\n",
       "    <tr>\n",
       "      <th>1</th>\n",
       "      <td>高雄市梓官區智蚵里港九街７號１樓</td>\n",
       "      <td>53595819</td>\n",
       "      <td>四海人文禮儀有限公司</td>\n",
       "      <td>1000000</td>\n",
       "      <td>1010514</td>\n",
       "      <td>N</td>\n",
       "      <td>[963015 485212 485299 453211]</td>\n",
       "      <td>['殯葬禮儀服務' '宗教、喪葬用品零售' '未分類其他全新商品零售' '切花、盆栽批發']</td>\n",
       "    </tr>\n",
       "    <tr>\n",
       "      <th>2</th>\n",
       "      <td>高雄市鳳山區曹公里中正路２５３號</td>\n",
       "      <td>22069875</td>\n",
       "      <td>森山綠化事業有限公司</td>\n",
       "      <td>6000000</td>\n",
       "      <td>750114</td>\n",
       "      <td>Y</td>\n",
       "      <td>[432000 485111 485223]</td>\n",
       "      <td>['庭園景觀工程' '切花、盆栽零售' '種子零售']</td>\n",
       "    </tr>\n",
       "  </tbody>\n",
       "</table>\n",
       "</div>"
      ],
      "text/plain": [
       "                      營業地址      統一編號       營業人名稱      資本額     設立日期 使用統一發票  \\\n",
       "0  臺北市松山區安平里南京東路５段３９９號２樓之３  72919346        如逸花店   200000  1070423      N   \n",
       "1         高雄市梓官區智蚵里港九街７號１樓  53595819  四海人文禮儀有限公司  1000000  1010514      N   \n",
       "2         高雄市鳳山區曹公里中正路２５３號  22069875  森山綠化事業有限公司  6000000   750114      Y   \n",
       "\n",
       "                        行業代碼_new  \\\n",
       "0                       [485111]   \n",
       "1  [963015 485212 485299 453211]   \n",
       "2         [432000 485111 485223]   \n",
       "\n",
       "                                           名稱_new  \n",
       "0                                     ['切花、盆栽零售']  \n",
       "1  ['殯葬禮儀服務' '宗教、喪葬用品零售' '未分類其他全新商品零售' '切花、盆栽批發']  \n",
       "2                     ['庭園景觀工程' '切花、盆栽零售' '種子零售']  "
      ]
     },
     "execution_count": 32,
     "metadata": {},
     "output_type": "execute_result"
    }
   ],
   "source": [
    "din2 = []\n",
    "for i in range(nraw[2]):\n",
    "    if arr_data[2][i,1] in compare_uuid[\"live vs may_die\"]:\n",
    "        din2.append(arr_data[2][i,:])\n",
    "df0 = pd.DataFrame(din2, columns=datas[2].columns.tolist())\n",
    "df0"
   ]
  }
 ],
 "metadata": {
  "kernelspec": {
   "display_name": "Python 3",
   "language": "python",
   "name": "python3"
  },
  "language_info": {
   "codemirror_mode": {
    "name": "ipython",
    "version": 3
   },
   "file_extension": ".py",
   "mimetype": "text/x-python",
   "name": "python",
   "nbconvert_exporter": "python",
   "pygments_lexer": "ipython3",
   "version": "3.6.7"
  }
 },
 "nbformat": 4,
 "nbformat_minor": 2
}
