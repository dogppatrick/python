{
 "cells": [
  {
   "cell_type": "code",
   "execution_count": 2,
   "metadata": {},
   "outputs": [],
   "source": [
    "import os, glob\n",
    "import numpy as np\n",
    "import pandas as pd\n",
    "from scipy import stats\n",
    "from datetime import date, time, datetime\n",
    "from datetime import timedelta\n",
    "from sklearn.model_selection import train_test_split\n",
    "from keras.utils import np_utils\n",
    "import keras\n",
    "from keras.models import Sequential\n",
    "from keras.layers import Dense,Dropout\n",
    "from keras.utils import np_utils\n",
    "import matplotlib\n",
    "import matplotlib.pyplot as plt\n",
    "from sklearn.metrics import confusion_matrix,  accuracy_score\n"
   ]
  },
  {
   "cell_type": "code",
   "execution_count": 4,
   "metadata": {},
   "outputs": [
    {
     "name": "stdout",
     "output_type": "stream",
     "text": [
      "Anthurium \t 467480\n",
      "Chrysanthemum \t C0F9L0\n",
      "Eustoma \t C0F9L0\n",
      "OrientalLily \t C0X060\n",
      "Rose \t C0X060\n"
     ]
    }
   ],
   "source": [
    "w_list= glob.glob(\"../result/merge_weather/*.csv\")\n",
    "p_list = glob.glob(\"../result/merger_by_date//*.csv\")\n",
    "weather_price_pair = [(\"Anthurium\",\"467480\"), (\"Chrysanthemum\", \"C0F9L0\" ),\n",
    "                      (\"Eustoma\", \"C0F9L0\"),(\"OrientalLily\", \"C0X060\"),  (\"Rose\", \"C0X060\") ]\n",
    "for flower,st in weather_price_pair:\n",
    "    print(flower,\"\\t\",st)"
   ]
  },
  {
   "cell_type": "code",
   "execution_count": 13,
   "metadata": {},
   "outputs": [
    {
     "name": "stdout",
     "output_type": "stream",
     "text": [
      "../result/merge_weather\\467480_嘉義.csv ../result/merger_by_date\\Anthurium.csv\n",
      "../result/merge_weather\\C0F9L0_后里.csv ../result/merger_by_date\\Chrysanthemum.csv\n",
      "../result/merge_weather\\C0F9L0_后里.csv ../result/merger_by_date\\Eustoma.csv\n",
      "../result/merge_weather\\C0X060_下營.csv ../result/merger_by_date\\OrientalLily.csv\n",
      "../result/merge_weather\\C0X060_下營.csv ../result/merger_by_date\\Rose.csv\n"
     ]
    }
   ],
   "source": [
    "def pick_flower_station(flower,st):\n",
    "    fn_weather = glob.glob(\"../result/merge_weather/*\"+ st +\"*.csv\")[0]\n",
    "    fn_price = glob.glob(\"../result/merger_by_date//\"+ flower +\"*.csv\")[0]\n",
    "    return fn_weather,fn_price\n",
    "\n",
    "\n",
    "for flower,st in weather_price_pair:\n",
    "    fn_weather,fn_price = pick_flower_station(flower,st)\n",
    "    print(fn_weather,fn_price)"
   ]
  },
  {
   "cell_type": "code",
   "execution_count": 42,
   "metadata": {},
   "outputs": [],
   "source": [
    "# df_weather.join(df_flower.set_index(\"date\"), on= \"Date\")\n",
    "df_join = df_flower.join(df_weather.set_index(\"Date\"), on= \"date\").join(df_lunar.set_index(\"date\"), on= \"date\")"
   ]
  },
  {
   "cell_type": "code",
   "execution_count": 146,
   "metadata": {},
   "outputs": [],
   "source": [
    "weather_price_pair = [(\"Anthurium\",\"467480\"), (\"Chrysanthemum\", \"C0F9L0\" ),\n",
    "                      (\"Eustoma\", \"C0F9L0\"),(\"OrientalLily\", \"C0X060\"),  (\"Rose\", \"C0F9L0\") ]\n",
    "\n",
    "flower,st = weather_price_pair[4]\n",
    "fn_weather,fn_price = pick_flower_station(flower,st)"
   ]
  },
  {
   "cell_type": "code",
   "execution_count": 149,
   "metadata": {},
   "outputs": [],
   "source": [
    "def join_weather_price(fn_price,fn_weather):\n",
    "    df_flower = pd.read_csv(fn_price)\n",
    "    df_weather = pd.read_csv(fn_weather)\n",
    "    df_lunar = pd.read_csv(\"../lunar_done_new.csv\")\n",
    "    # diff1 刪掉 2014-1-1  diff2 刪掉 2014-1-2\n",
    "    df_join = df_flower.join(df_weather.set_index(\"Date\"), on= \"date\").join(df_lunar.set_index(\"date\"), on= \"date\")\n",
    "    price = df_join[\"price\"]\n",
    "    pc_c = price.pct_change()\n",
    "    df_join[\"per_change\"] = pc_c\n",
    "    df_join[\"diff1\"] = price.diff()\n",
    "    df_join = df_join[df_join.date != \"2014-01-01\"]\n",
    "    df_join = df_join.reset_index(drop=True)\n",
    "    df_join[\"diff2\"] = df_join[\"diff1\"].diff()\n",
    "    df_join = df_join[df_join.date != \"2014-01-02\"]\n",
    "    df_join = df_join.reset_index(drop=True)\n",
    "    df_join[\"station\"] = st\n",
    "    # re order columns\n",
    "    order_c = [\n",
    "                'date', 'market', 'station',  'price', 'count', 'per_change', 'diff1', 'diff2','year',\n",
    "                'week', 'flower', 'Temperature', 'T.Max', 'T.Min',\n",
    "                'Precp', 'RH', 'StnPres', 'WS', 'WSGust',\n",
    "                'g_marry', 'g_pray', 'g_funeral', 'g_business', 'b_marry',\n",
    "                'b_pray', 'b_funeral', 'b_business','spring',\n",
    "                'valetine_west', 'mother', 'graduation', 'ghost', 'valetine_east',\n",
    "                ]\n",
    "    df_done = df_join[order_c]\n",
    "    fn_save = \"../result/join_all/\"+flower + \"_\" + st + \"_join_all.csv\"\n",
    "    df_done.to_csv(fn_save,index=False, encoding=\"utf-8\")\n",
    "    print(fn_save, \"saved\")"
   ]
  },
  {
   "cell_type": "code",
   "execution_count": 166,
   "metadata": {},
   "outputs": [],
   "source": [
    "def out_join_weather_price(fn_price,fn_weather):\n",
    "    df_flower = pd.read_csv(fn_price)\n",
    "    df_weather = pd.read_csv(fn_weather)\n",
    "    df_lunar = pd.read_csv(\"../lunar_done_new.csv\")\n",
    "    # diff1 刪掉 2014-1-1  diff2 刪掉 2014-1-2\n",
    "    df_join = df_flower.join(df_weather.set_index(\"Date\"), on= \"date\", how=\"outer\")\\\n",
    "                       .join(df_lunar.set_index(\"date\"), on= \"date\", how=\"outer\")\n",
    "    price = df_join[\"price\"]\n",
    "    pc_c = price.pct_change()\n",
    "    df_join[\"per_change\"] = pc_c\n",
    "    df_join[\"diff1\"] = price.diff()\n",
    "    df_join = df_join[df_join.date != \"2014-01-01\"]\n",
    "    df_join = df_join.reset_index(drop=True)\n",
    "    df_join[\"diff2\"] = df_join[\"diff1\"].diff()\n",
    "    df_join = df_join[df_join.date != \"2014-01-02\"]\n",
    "    df_join = df_join.reset_index(drop=True)\n",
    "    df_join[\"station\"] = st\n",
    "    # re order columns\n",
    "    order_c = [\n",
    "                'date', 'market', 'station',  'price', 'count', 'per_change', 'diff1', 'diff2','year',\n",
    "                'week', 'flower', 'Temperature', 'T.Max', 'T.Min',\n",
    "                'Precp', 'RH', 'StnPres', 'WS', 'WSGust',\n",
    "                'g_marry', 'g_pray', 'g_funeral', 'g_business', 'b_marry',\n",
    "                'b_pray', 'b_funeral', 'b_business','spring',\n",
    "                'valetine_west', 'mother', 'graduation', 'ghost', 'valetine_east',\n",
    "                ]\n",
    "    df_done = df_join[order_c]\n",
    "    fn_save = \"../result/join_all/out_join\"+flower + \"_\" + st + \".csv\"\n",
    "    df_done.to_csv(fn_save,index=False, encoding=\"utf-8\")\n",
    "    print(fn_save, \"saved\")"
   ]
  },
  {
   "cell_type": "code",
   "execution_count": 167,
   "metadata": {},
   "outputs": [
    {
     "name": "stdout",
     "output_type": "stream",
     "text": [
      "../result/join_all/out_joinAnthurium_467480.csv saved\n",
      "../result/join_all/out_joinChrysanthemum_C0F9L0.csv saved\n",
      "../result/join_all/out_joinEustoma_C0F9L0.csv saved\n",
      "../result/join_all/out_joinOrientalLily_C0X060.csv saved\n",
      "../result/join_all/out_joinRose_C0F9L0.csv saved\n"
     ]
    }
   ],
   "source": [
    "weather_price_pair = [(\"Anthurium\",\"467480\"), (\"Chrysanthemum\", \"C0F9L0\" ),\n",
    "                      (\"Eustoma\", \"C0F9L0\"),(\"OrientalLily\", \"C0X060\"),  (\"Rose\", \"C0F9L0\") ]\n",
    "\n",
    "# flower,st = weather_price_pair[4]\n",
    "for flower,st in weather_price_pair:\n",
    "    fn_weather,fn_price = pick_flower_station(flower,st)\n",
    "    out_join_weather_price(fn_price,fn_weather)"
   ]
  },
  {
   "cell_type": "code",
   "execution_count": 168,
   "metadata": {},
   "outputs": [],
   "source": [
    "df = pd.read_csv(\"../result/join_all/out_joinAnthurium_467480.csv\")"
   ]
  },
  {
   "cell_type": "code",
   "execution_count": 175,
   "metadata": {},
   "outputs": [],
   "source": [
    "df = df.sort_values(by=[\"date\"]).reset_index(drop=True)\n",
    "df.to_csv(\"test.csv\", index=False)"
   ]
  },
  {
   "cell_type": "code",
   "execution_count": null,
   "metadata": {},
   "outputs": [],
   "source": [
    "# \"Anthurium\" \"467480\"     shift:(14,1,55~63%), (27,8,46~65%) (19,15,55~72%)\n",
    "# \"Chrysanthemum\" \"C0F9L0\" shift:(19,1,51~58%), (16,8,40~59%) (16,15,33~50%)\n",
    "# \"Eustoma\" \"C0F9L0\"       shift:(3,1,67~73%) (16,8,49~57%) (12,15,51~63%)  epochs [10,]\n",
    "# \"OrientalLily\" \"C0X060\"  shift:(17,1,77~79%) (22,8,66~75%) (14,15,43~64%) epochs [ , 12, ]\n",
    "# \"Rose\" \"C0X060\"          shift:(7,1,47~64%) (18,8,42~64%) (18,15,55~69%)"
   ]
  }
 ],
 "metadata": {
  "kernelspec": {
   "display_name": "Python 3",
   "language": "python",
   "name": "python3"
  },
  "language_info": {
   "codemirror_mode": {
    "name": "ipython",
    "version": 3
   },
   "file_extension": ".py",
   "mimetype": "text/x-python",
   "name": "python",
   "nbconvert_exporter": "python",
   "pygments_lexer": "ipython3",
   "version": "3.6.7"
  }
 },
 "nbformat": 4,
 "nbformat_minor": 2
}
