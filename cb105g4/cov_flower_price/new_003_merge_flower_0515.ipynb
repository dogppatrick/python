{
 "cells": [
  {
   "cell_type": "code",
   "execution_count": 12,
   "metadata": {},
   "outputs": [
    {
     "data": {
      "text/plain": [
       "['../result/merge_flower_price\\\\Anthurium_台中.csv',\n",
       " '../result/merge_flower_price\\\\Anthurium_台北.csv',\n",
       " '../result/merge_flower_price\\\\Anthurium_台南.csv',\n",
       " '../result/merge_flower_price\\\\Anthurium_彰化.csv',\n",
       " '../result/merge_flower_price\\\\Anthurium_高雄.csv']"
      ]
     },
     "execution_count": 12,
     "metadata": {},
     "output_type": "execute_result"
    }
   ],
   "source": [
    "import os, glob\n",
    "import numpy as np\n",
    "import pandas as pd\n",
    "get_f_list= glob.glob(\"../result/merge_flower_price/*台北*\")\n",
    "pd.set_option('display.max_rows', 10)\n",
    "flowers = []\n",
    "for fn in get_f_list:\n",
    "    flowers.append(fn.split(\"\\\\\")[-1].split(\"_\")[0])\n",
    "\n",
    "flower = flowers[0]\n",
    "fn_list = glob.glob(\"../result/merge_flower_price/*\" + flower + \"*.csv\")\n",
    "fn_list"
   ]
  },
  {
   "cell_type": "code",
   "execution_count": 37,
   "metadata": {},
   "outputs": [],
   "source": [
    "def trans_by_week(fn):\n",
    "    c = [\"date\", \"market\", \"avg_price\", \"total_count\", \"year\", \"week\"]\n",
    "    df_tmp = pd.read_csv(fn, encoding=\"utf-8\",names=c)\n",
    "    # pd.set_option('display.max_columns', 10)\n",
    "    # 將53周(一年最後一天/最後第二天歸在 52 周)\n",
    "    df_tmp[\"week\"] = df_tmp[\"week\"].replace(53,52)\n",
    "    df_tmp[\"total_value\"] = df_tmp[\"avg_price\"] * df_tmp[\"total_count\"]\n",
    "    market = df_tmp[\"market\"][0]\n",
    "    # 計算 每周總合\n",
    "    df_result = df_tmp.groupby([\"year\", \"week\"]).agg({\"total_value\":[\"sum\"],\"total_count\":\"sum\"})\n",
    "    df_result[\"week_avg\"]  =df_result[('total_value', 'sum')] / df_result[('total_count', 'sum')]\n",
    "    df_result[\"week_sale\"] = df_result[('total_count', 'sum')]\n",
    "    df_result = df_result.drop(columns=[('total_value', 'sum'),('total_count', 'sum')])\n",
    "    df_result[\"market\"] = market\n",
    "    df_result = df_result.reset_index()\n",
    "    df_result = pd.DataFrame(np.array(df_result), columns=[\"year\", \"week\", \"w_avg\", \"w_sale\", \"market\"])\n",
    "    df_result[\"price_diff\"]  = df[\"w_avg\"].pct_change()[1:]\n",
    "    df_result[\"y_w\"] =df_result[\"year\"].map(str) + \"_\" + df_result[\"week\"].map(str)\n",
    "    return df_result"
   ]
  },
  {
   "cell_type": "code",
   "execution_count": 40,
   "metadata": {},
   "outputs": [
    {
     "name": "stdout",
     "output_type": "stream",
     "text": [
      "Anthurium saved\n",
      "Chrysanthemum saved\n",
      "Eustoma saved\n",
      "OrientalLily saved\n",
      "Rose saved\n"
     ]
    }
   ],
   "source": [
    "flowers = []\n",
    "for fn in get_f_list:\n",
    "    flowers.append(fn.split(\"\\\\\")[-1].split(\"_\")[0])\n",
    "\n",
    "# flower = flowers[0]\n",
    "for flower in flowers:\n",
    "    fn_list = glob.glob(\"../result/merge_flower_price/*\" + flower + \"*.csv\")\n",
    "    f = 0\n",
    "    for fn in fn_list:\n",
    "        df = trans_by_week(fn)\n",
    "        if f ==0:\n",
    "            df_all = df\n",
    "            f = f + 1\n",
    "        else:\n",
    "            df_all = df_all.append(([df_all,df]))\n",
    "\n",
    "    df_all = df_all.reset_index().drop(columns=\"index\")\n",
    "    df_all\n",
    "    fn_save = \"../result/flower_price_byweek/\" + flower + \"_pbyweek.csv\"\n",
    "    df_all.to_csv(fn_save, encoding=\"utf-8\", index=False)\n",
    "    print(flower, \"saved\")\n",
    "# df.to_csv(\"test0515.csv\", encoding=\"utf-8\", index=False)"
   ]
  },
  {
   "cell_type": "code",
   "execution_count": 39,
   "metadata": {},
   "outputs": [],
   "source": []
  }
 ],
 "metadata": {
  "kernelspec": {
   "display_name": "Python 3",
   "language": "python",
   "name": "python3"
  },
  "language_info": {
   "codemirror_mode": {
    "name": "ipython",
    "version": 3
   },
   "file_extension": ".py",
   "mimetype": "text/x-python",
   "name": "python",
   "nbconvert_exporter": "python",
   "pygments_lexer": "ipython3",
   "version": "3.6.0"
  }
 },
 "nbformat": 4,
 "nbformat_minor": 2
}
