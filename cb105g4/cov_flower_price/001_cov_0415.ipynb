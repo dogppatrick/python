{
 "cells": [
  {
   "cell_type": "code",
   "execution_count": 1,
   "metadata": {},
   "outputs": [],
   "source": [
    "# 主要步驟\n",
    "#     讀取資料\n",
    "#         讀檔案\n",
    "#         取出常用變數(若有更改常用變數時要記得更新\n",
    "#     清洗資料\n",
    "#         刪除不會用到的欄位\n",
    "#         刪除不會用到的列\n",
    "#         找出資料誤值或空值\n",
    "#         驗算資料\n",
    "#     轉換資料\n",
    "#         修正日期格式\n",
    "#         以代號取代原資料(市場>>代號、花名重編、分類)\n",
    "#         改成以時間為primary key 的大表格 (full_.csv)\n",
    "#         以每年group by count 找出 前30名花種取交集刪減資料(reduce_.csv)\n",
    "#         將上中下價分開(flat_.csv)\n",
    "#     存取資料"
   ]
  },
  {
   "cell_type": "code",
   "execution_count": null,
   "metadata": {},
   "outputs": [],
   "source": [
    "# 70 64 76 257 83"
   ]
  },
  {
   "cell_type": "code",
   "execution_count": 3,
   "metadata": {},
   "outputs": [],
   "source": [
    "# seting up \n",
    "import os, glob\n",
    "import numpy as np\n",
    "import pandas as pd\n",
    "fn_list = glob.glob(\"./data_f_price/*.csv\")\n",
    "# print(fn_list)\n",
    "fn = fn_list[4]"
   ]
  },
  {
   "cell_type": "code",
   "execution_count": 4,
   "metadata": {},
   "outputs": [
    {
     "name": "stdout",
     "output_type": "stream",
     "text": [
      "allRose.csv\n"
     ]
    }
   ],
   "source": [
    "# 讀取檔案 先檢視檔案格式 將常用的變數先列出\n",
    "df = pd.read_csv(fn, encoding=\"utf-8\")\n",
    "fn = fn.split(\"\\\\\")[-1]\n",
    "print(fn)\n",
    "df\n",
    "# 總行數\n",
    "nraw = df.shape[0]\n",
    "# 個別欄位名稱\n",
    "c = df.columns.tolist()\n",
    "# print(nraw)\n",
    "# for i in range(len(c)):\n",
    "#     print(i, c[i])"
   ]
  },
  {
   "cell_type": "code",
   "execution_count": 5,
   "metadata": {
    "scrolled": true
   },
   "outputs": [],
   "source": [
    "# df = pd.read_csv(fn, encoding=\"utf-8\")\n",
    "# 刪除不使用的資料 \n",
    "df = df.drop([\"增減%\",\"增減%.1\",\"殘貨量\"], axis=1)\n",
    "# 總行數 update\n",
    "nraw = df.shape[0]\n",
    "# 個別欄位名稱 update\n",
    "c = df.columns.tolist()\n",
    "# c"
   ]
  },
  {
   "cell_type": "code",
   "execution_count": 6,
   "metadata": {
    "scrolled": true
   },
   "outputs": [],
   "source": [
    "# 檢視資料內容 類別變相次數分配(順便檢查有沒有key錯的資料)\n",
    "for colum in ['市場', '產品']:\n",
    "    freq = df[colum].value_counts()\n",
    "    dist_value = df[colum].drop_duplicates()\n",
    "    null_data = df.iloc[df[colum].index.isnull()]\n",
    "#     print(colum)\n",
    "#     print(freq)\n",
    "#     print(dist_value)\n",
    "#     print(\"====\")\n",
    "#     print(null_data)\n",
    "#     print(\"=====\")"
   ]
  },
  {
   "cell_type": "code",
   "execution_count": 7,
   "metadata": {},
   "outputs": [],
   "source": [
    "flo_name = np.array(df[\"產品\"])\n",
    "# 將要刪除的index 放進去\n",
    "ind_to_delete=[]\n",
    "# n = 10\n",
    "n = len(flo_name)\n",
    "for i in range(n):\n",
    "    data = str(flo_name[i]).split(\" \")\n",
    "#     print(data)\n",
    "    if len(data)<3:\n",
    "        ind_to_delete.append(i)\n",
    "#         print(i, data)\n",
    "# 刪除有問題的資料 (是小計的那行\n",
    "df = df.drop(ind_to_delete,axis=0)\n",
    "df.reset_index(drop=True)\n",
    "nraw = df.shape[0]"
   ]
  },
  {
   "cell_type": "code",
   "execution_count": 8,
   "metadata": {},
   "outputs": [],
   "source": [
    "# # 使用 np array 修改資料 檢查資料是否有不一致  FU152 洋桔梗 單瓣綠 FU152有前後不一致名詞\n",
    "# flo_name = np.array(df[\"產品\"])\n",
    "# err_code = []\n",
    "# err_cn =[]\n",
    "# # n = 100\n",
    "# dict_flo = {}\n",
    "# n = len(flo_name)\n",
    "# for i in range(n):\n",
    "#     (f_code, f_n, f_cn) = str(flo_name[i]).split(\" \")\n",
    "# #     print(f_code, f_n, f_cn)\n",
    "#     if f_code in dict_flo:\n",
    "# #         已經登入的f_code 中有不同的f_cn\n",
    "#         if f_cn!= dict_flo[f_code]:\n",
    "#             err_code.append((f_code, dict_flo[f_code], f_cn))\n",
    "#             err_cn.append(f_cn)\n",
    "#             print(f_cn)\n",
    "#     else:\n",
    "#         dict_flo[f_code] = f_cn\n",
    "# 檢查沒問題"
   ]
  },
  {
   "cell_type": "code",
   "execution_count": 9,
   "metadata": {},
   "outputs": [],
   "source": [
    "# 改變時間格式\n",
    "# 103/01/01 > 2014-01-01\n",
    "date_old = np.array(df[\"日期\"])\n",
    "date_new = []\n",
    "dates = len(date_old)\n",
    "# dates = 10\n",
    "for i in range(dates):\n",
    "    y,m,d = date_old[i].split(\"/\")\n",
    "    n_date = str(int(y)+1911) + \"-\" + m + \"-\" + d\n",
    "    date_new.append(n_date)\n",
    "date_time_new = np.asarray(date_new)\n",
    "df[\"日期\"] = date_time_new"
   ]
  },
  {
   "cell_type": "code",
   "execution_count": 10,
   "metadata": {},
   "outputs": [],
   "source": [
    "from datetime import datetime, date, time\n",
    "from datetime import timedelta\n",
    "d = np.array(df[\"日期\"])\n",
    "# d"
   ]
  },
  {
   "cell_type": "code",
   "execution_count": 11,
   "metadata": {
    "scrolled": true
   },
   "outputs": [],
   "source": [
    "drop_class=[]\n",
    "for i in range(len(freq)):\n",
    "    count = freq[i]\n",
    "    item = freq.index[i]\n",
    "    if count<500:\n",
    "        drop_class.append(item)\n",
    "#         print(count, item)\n",
    "drop_by_all = drop_class"
   ]
  },
  {
   "cell_type": "code",
   "execution_count": 12,
   "metadata": {},
   "outputs": [],
   "source": [
    "# d0 = d[0]\n",
    "# print(d0)\n",
    "# print(datetime.strptime(d0, \"%Y-%m-%d\").date())\n",
    "year = []\n",
    "dates = len(d)\n",
    "# dates = 10\n",
    "for i in range(dates):\n",
    "#     print(d[i])\n",
    "    date_data = d[i].split(\"-\")\n",
    "#     print(date_data[0])\n",
    "    year.append(date_data[0])\n",
    "df[\"year\"] = year"
   ]
  },
  {
   "cell_type": "code",
   "execution_count": 13,
   "metadata": {},
   "outputs": [],
   "source": [
    "# df"
   ]
  },
  {
   "cell_type": "code",
   "execution_count": 14,
   "metadata": {},
   "outputs": [],
   "source": [
    "# 篩選 產品\n",
    "# 條件\n",
    "#     產品總計出現量 > 300\n",
    "#     每年出現量 > 30"
   ]
  },
  {
   "cell_type": "code",
   "execution_count": 15,
   "metadata": {},
   "outputs": [],
   "source": [
    "gdf  = df.groupby(\"year\")\n",
    "year = [\"2014\", \"2015\", \"2016\", \"2017\", \"2018\"]\n",
    "df_by_year=[]\n",
    "year_rank_30=[]\n",
    "for y in year:\n",
    "    t_df = gdf.get_group(y)\n",
    "    freq = t_df[\"產品\"].value_counts()\n",
    "    dist_value = df[colum].drop_duplicates()\n",
    "    # print(freq)\n",
    "    # print(dist_value)\n",
    "    r30 = set()\n",
    "    for i in range(30):\n",
    "        count = freq[i]\n",
    "        item = freq.index[i]\n",
    "#         print(i,count, item)\n",
    "        r30.add(item)\n",
    "    year_rank_30.append(r30)\n"
   ]
  },
  {
   "cell_type": "code",
   "execution_count": 16,
   "metadata": {},
   "outputs": [],
   "source": [
    "# year_rank_30[0]"
   ]
  },
  {
   "cell_type": "code",
   "execution_count": 17,
   "metadata": {},
   "outputs": [],
   "source": [
    "for i in range(len(year_rank_30)):\n",
    "    if i==0:\n",
    "        all_rank30 = year_rank_30[i]\n",
    "    all_rank30 = all_rank30.intersection(year_rank_30[i])\n",
    "# print(len(all_rank30),list(all_rank30))\n",
    "finall_class = list(all_rank30)"
   ]
  },
  {
   "cell_type": "code",
   "execution_count": 18,
   "metadata": {},
   "outputs": [],
   "source": [
    "# finall_class"
   ]
  },
  {
   "cell_type": "code",
   "execution_count": 19,
   "metadata": {},
   "outputs": [],
   "source": [
    "df = df.drop([\"year\"],axis=1)\n",
    "# df"
   ]
  },
  {
   "cell_type": "code",
   "execution_count": 20,
   "metadata": {},
   "outputs": [],
   "source": [
    "fn_full = \"full_\" + fn\n",
    "df.to_csv(fn_full, index=False, encoding=\"utf-8\" )"
   ]
  },
  {
   "cell_type": "code",
   "execution_count": 21,
   "metadata": {},
   "outputs": [
    {
     "data": {
      "text/plain": [
       "array([['2014-01-01', '105 台北花市', 'FR000 玫瑰 ', ..., 111.0, 202.0, 139],\n",
       "       ['2014-01-01', '400 台中市場', 'FR000 玫瑰 ', ..., 144.0, 150.0, 12],\n",
       "       ['2014-01-01', '514 彰化市場', 'FR000 玫瑰 ', ..., 99.0, 177.0, 68],\n",
       "       ...,\n",
       "       ['2018-12-31', '105 台北花市', 'FR910 玫瑰 迷你紅', ..., 44.0, 67.5, 71],\n",
       "       ['2018-12-31', '105 台北花市', 'FR930 玫瑰 迷你黃', ..., 85.0, 115.1, 17],\n",
       "       ['2018-12-31', '105 台北花市', 'FR940 玫瑰 迷你粉', ..., 260.0, 279.1, 11]],\n",
       "      dtype=object)"
      ]
     },
     "execution_count": 21,
     "metadata": {},
     "output_type": "execute_result"
    }
   ],
   "source": [
    "df_arr = np.array(df)\n",
    "df_arr"
   ]
  },
  {
   "cell_type": "code",
   "execution_count": 22,
   "metadata": {},
   "outputs": [],
   "source": [
    "n = len(df_arr)\n",
    "index_in_final=[]\n",
    "# n = 50\n",
    "for i in range(n):\n",
    "    if df_arr[i,2] in finall_class:\n",
    "#         print(i, df_arr[i,2])\n",
    "        index_in_final.append(i)\n",
    "len(index_in_final)\n",
    "df_arr = df_arr[index_in_final,:]\n",
    "df_new = pd.DataFrame(df_arr, columns=c)"
   ]
  },
  {
   "cell_type": "code",
   "execution_count": 23,
   "metadata": {},
   "outputs": [],
   "source": [
    "fn_new = \"reduce_\"+fn\n",
    "df_new.to_csv(fn_new, index=False, encoding=\"utf-8\" )\n",
    "# df_new"
   ]
  },
  {
   "cell_type": "code",
   "execution_count": 24,
   "metadata": {},
   "outputs": [],
   "source": [
    "test_df = df_new.groupby(\"日期\").get_group(\"2014-01-01\")\n",
    "test_arr = np.array(test_df)"
   ]
  },
  {
   "cell_type": "code",
   "execution_count": 25,
   "metadata": {
    "scrolled": true
   },
   "outputs": [],
   "source": [
    "# test_df"
   ]
  },
  {
   "cell_type": "code",
   "execution_count": 26,
   "metadata": {},
   "outputs": [],
   "source": [
    "c_new = [\"日期\", \"市場\", \"產品\", \"價別\", \"價格\", \"交易量\"]\n",
    "# 1 row to 3 new row \n",
    "flat_data =[]\n",
    "for i in range(len(df_arr)):\n",
    "    o_d = df_arr[i,:]\n",
    "#     print(o_d)\n",
    "    l = list(o_d[0:3])\n",
    "#     print(l)\n",
    "    p_h = l + [\"上價\"] +  [int(o_d[4])] + [round(o_d[8]*0.2)]\n",
    "    p_m = l + [\"中價\"] +  [int(o_d[5])] + [round(o_d[8]*0.4)]\n",
    "    p_l = l + [\"下價\"] +  [int(o_d[6])] + [round(o_d[8]*0.2)]\n",
    "    flat_data.append(p_h)\n",
    "    flat_data.append(p_m)\n",
    "    flat_data.append(p_l)\n",
    "# flat_data"
   ]
  },
  {
   "cell_type": "code",
   "execution_count": 27,
   "metadata": {
    "scrolled": true
   },
   "outputs": [],
   "source": [
    "df_flat = pd.DataFrame(flat_data, columns=c_new)\n",
    "# df_flat"
   ]
  },
  {
   "cell_type": "code",
   "execution_count": 28,
   "metadata": {},
   "outputs": [],
   "source": [
    "fn_flat = \"flat_\"+fn\n",
    "df_flat.to_csv(fn_flat, index=False, encoding=\"utf-8\" )"
   ]
  }
 ],
 "metadata": {
  "kernelspec": {
   "display_name": "Python 3",
   "language": "python",
   "name": "python3"
  },
  "language_info": {
   "codemirror_mode": {
    "name": "ipython",
    "version": 3
   },
   "file_extension": ".py",
   "mimetype": "text/x-python",
   "name": "python",
   "nbconvert_exporter": "python",
   "pygments_lexer": "ipython3",
   "version": "3.6.0"
  }
 },
 "nbformat": 4,
 "nbformat_minor": 2
}
