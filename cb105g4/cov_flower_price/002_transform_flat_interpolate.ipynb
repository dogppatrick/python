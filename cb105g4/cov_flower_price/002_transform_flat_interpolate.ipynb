{
 "cells": [
  {
   "cell_type": "code",
   "execution_count": 3,
   "metadata": {},
   "outputs": [
    {
     "name": "stdout",
     "output_type": "stream",
     "text": [
      "['../result\\\\flat_allAnthurium.csv', '../result\\\\flat_allChrysanthemum.csv', '../result\\\\flat_allEustoma.csv', '../result\\\\flat_allOrientalLily.csv', '../result\\\\flat_allRose.csv']\n",
      "../result\\flat_allOrientalLily.csv\n"
     ]
    }
   ],
   "source": [
    "# seting up \n",
    "import os, glob\n",
    "import numpy as np\n",
    "import pandas as pd\n",
    "fn_list = glob.glob(\"../result/flat*.csv\")\n",
    "print(fn_list)\n",
    "fn = fn_list[3]\n",
    "print(fn)"
   ]
  },
  {
   "cell_type": "code",
   "execution_count": 5,
   "metadata": {},
   "outputs": [],
   "source": [
    "def tansform_002(fn):\n",
    "    df = pd.read_csv(fn, encoding=\"utf-8\")\n",
    "    fn = fn.split(\"\\\\\")[-1].split(\"_\")[-1]\n",
    "    print(fn)\n",
    "    # 先拉出 台北的資料測試\n",
    "    all_market = df[\"市場\"].drop_duplicates()\n",
    "#     print(all_market)\n",
    "    df_g = df.groupby(\"市場\")\n",
    "    for market in all_market:\n",
    "        df_tmp = df_g.get_group(market)\n",
    "        # 合併產品+價別 成 \"種類\"\n",
    "        df_tmp['種類'] = df_tmp[['產品', '價別']].apply(lambda x: '_'.join(x), axis=1)\n",
    "        df_tmp = df_tmp.pivot_table(index=\"日期\", columns=\"種類\", values=\"價格\", dropna=True)\n",
    "        #存檔讀檔案還原日期 \n",
    "        df_tmp.to_csv(\"tmp.csv\", index=True)\n",
    "        df_tmp = pd.read_csv(\"tmp.csv\", encoding=\"utf-8\")\n",
    "        # 先將第一筆資料補上>>內插\n",
    "        data_0= df_tmp.iloc[0]\n",
    "        null_list = data_0.isnull()\n",
    "        i = 1\n",
    "        while any(null_list):\n",
    "            data_up = df_tmp.iloc[i]\n",
    "            data_0[null_list] = data_up[null_list]\n",
    "            null_list = data_0.isnull()\n",
    "            i = i +1\n",
    "        df_tmp.iloc[0]=data_0\n",
    "        df_tmp = df_tmp.interpolate()\n",
    "        fn_save = \"../result/interpolate_\"+ market.split(\" \")[-1]+ \"_\" + fn\n",
    "        df_tmp.to_csv(fn_save, encoding=\"utf-8\", index=False)\n",
    "        print(fn_save, \"saved\")"
   ]
  },
  {
   "cell_type": "code",
   "execution_count": 3,
   "metadata": {},
   "outputs": [
    {
     "name": "stdout",
     "output_type": "stream",
     "text": [
      "../result\\flat_allAnthurium.csv\n",
      "allAnthurium.csv\n"
     ]
    },
    {
     "name": "stderr",
     "output_type": "stream",
     "text": [
      "E:\\python\\venv\\lib\\site-packages\\ipykernel_launcher.py:12: SettingWithCopyWarning: \n",
      "A value is trying to be set on a copy of a slice from a DataFrame.\n",
      "Try using .loc[row_indexer,col_indexer] = value instead\n",
      "\n",
      "See the caveats in the documentation: http://pandas.pydata.org/pandas-docs/stable/indexing.html#indexing-view-versus-copy\n",
      "  if sys.path[0] == '':\n",
      "E:\\python\\venv\\lib\\site-packages\\ipykernel_launcher.py:23: SettingWithCopyWarning: \n",
      "A value is trying to be set on a copy of a slice from a DataFrame\n",
      "\n",
      "See the caveats in the documentation: http://pandas.pydata.org/pandas-docs/stable/indexing.html#indexing-view-versus-copy\n",
      "E:\\python\\venv\\lib\\site-packages\\pandas\\core\\generic.py:8682: SettingWithCopyWarning: \n",
      "A value is trying to be set on a copy of a slice from a DataFrame\n",
      "\n",
      "See the caveats in the documentation: http://pandas.pydata.org/pandas-docs/stable/indexing.html#indexing-view-versus-copy\n",
      "  self._update_inplace(new_data)\n"
     ]
    },
    {
     "name": "stdout",
     "output_type": "stream",
     "text": [
      "../result/interpolate_台北花市_allAnthurium.csv saved\n",
      "../result/interpolate_台中市場_allAnthurium.csv saved\n",
      "../result/interpolate_彰化市場_allAnthurium.csv saved\n",
      "../result/interpolate_高雄市場_allAnthurium.csv saved\n",
      "../result/interpolate_台南市場_allAnthurium.csv saved\n",
      "../result\\flat_allChrysanthemum.csv\n",
      "allChrysanthemum.csv\n",
      "../result/interpolate_台北花市_allChrysanthemum.csv saved\n",
      "../result/interpolate_台南市場_allChrysanthemum.csv saved\n",
      "../result/interpolate_高雄市場_allChrysanthemum.csv saved\n",
      "../result/interpolate_彰化市場_allChrysanthemum.csv saved\n",
      "../result/interpolate_台中市場_allChrysanthemum.csv saved\n",
      "../result\\flat_allEustoma.csv\n",
      "allEustoma.csv\n",
      "../result/interpolate_台北花市_allEustoma.csv saved\n",
      "../result/interpolate_台中市場_allEustoma.csv saved\n",
      "../result/interpolate_高雄市場_allEustoma.csv saved\n",
      "../result/interpolate_彰化市場_allEustoma.csv saved\n",
      "../result/interpolate_台南市場_allEustoma.csv saved\n",
      "../result\\flat_allOrientalLily.csv\n",
      "allOrientalLily.csv\n",
      "../result/interpolate_台北花市_allOrientalLily.csv saved\n",
      "../result/interpolate_彰化市場_allOrientalLily.csv saved\n",
      "../result/interpolate_台南市場_allOrientalLily.csv saved\n",
      "../result/interpolate_高雄市場_allOrientalLily.csv saved\n",
      "../result/interpolate_台中市場_allOrientalLily.csv saved\n",
      "../result\\flat_allRose.csv\n",
      "allRose.csv\n",
      "../result/interpolate_台北花市_allRose.csv saved\n",
      "../result/interpolate_台中市場_allRose.csv saved\n",
      "../result/interpolate_彰化市場_allRose.csv saved\n",
      "../result/interpolate_台南市場_allRose.csv saved\n",
      "../result/interpolate_高雄市場_allRose.csv saved\n"
     ]
    }
   ],
   "source": [
    "# main\n",
    "for fn in fn_list:\n",
    "    print(fn)\n",
    "    tansform_002(fn)\n",
    "    print(\"===\")\n",
    "print(\"done\")"
   ]
  },
  {
   "cell_type": "code",
   "execution_count": 6,
   "metadata": {},
   "outputs": [
    {
     "name": "stdout",
     "output_type": "stream",
     "text": [
      "allOrientalLily.csv\n"
     ]
    },
    {
     "name": "stderr",
     "output_type": "stream",
     "text": [
      "E:\\python\\venv\\lib\\site-packages\\ipykernel_launcher.py:12: SettingWithCopyWarning: \n",
      "A value is trying to be set on a copy of a slice from a DataFrame.\n",
      "Try using .loc[row_indexer,col_indexer] = value instead\n",
      "\n",
      "See the caveats in the documentation: http://pandas.pydata.org/pandas-docs/stable/indexing.html#indexing-view-versus-copy\n",
      "  if sys.path[0] == '':\n"
     ]
    },
    {
     "name": "stdout",
     "output_type": "stream",
     "text": [
      "../result/interpolate_台北花市_allOrientalLily.csv saved\n"
     ]
    },
    {
     "name": "stderr",
     "output_type": "stream",
     "text": [
      "E:\\python\\venv\\lib\\site-packages\\ipykernel_launcher.py:23: SettingWithCopyWarning: \n",
      "A value is trying to be set on a copy of a slice from a DataFrame\n",
      "\n",
      "See the caveats in the documentation: http://pandas.pydata.org/pandas-docs/stable/indexing.html#indexing-view-versus-copy\n",
      "E:\\python\\venv\\lib\\site-packages\\pandas\\core\\generic.py:8682: SettingWithCopyWarning: \n",
      "A value is trying to be set on a copy of a slice from a DataFrame\n",
      "\n",
      "See the caveats in the documentation: http://pandas.pydata.org/pandas-docs/stable/indexing.html#indexing-view-versus-copy\n",
      "  self._update_inplace(new_data)\n"
     ]
    },
    {
     "name": "stdout",
     "output_type": "stream",
     "text": [
      "../result/interpolate_彰化市場_allOrientalLily.csv saved\n",
      "../result/interpolate_台南市場_allOrientalLily.csv saved\n",
      "../result/interpolate_高雄市場_allOrientalLily.csv saved\n",
      "../result/interpolate_台中市場_allOrientalLily.csv saved\n"
     ]
    }
   ],
   "source": [
    "tansform_002(fn)"
   ]
  }
 ],
 "metadata": {
  "kernelspec": {
   "display_name": "Python 3",
   "language": "python",
   "name": "python3"
  },
  "language_info": {
   "codemirror_mode": {
    "name": "ipython",
    "version": 3
   },
   "file_extension": ".py",
   "mimetype": "text/x-python",
   "name": "python",
   "nbconvert_exporter": "python",
   "pygments_lexer": "ipython3",
   "version": "3.6.0"
  }
 },
 "nbformat": 4,
 "nbformat_minor": 2
}
