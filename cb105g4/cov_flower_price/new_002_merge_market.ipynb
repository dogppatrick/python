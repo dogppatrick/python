{
 "cells": [
  {
   "cell_type": "code",
   "execution_count": 1,
   "metadata": {},
   "outputs": [],
   "source": [
    "# 主要步驟\n",
    "#     讀取資料\n",
    "#         讀檔案\n",
    "#         取出常用變數(若有更改常用變數時要記得更新\n",
    "#     清洗資料\n",
    "#         刪除價格值為0的奇怪資料\n",
    "#         刪除不會用到的欄位\n",
    "#         刪除不會用到的列\n",
    "#         找出資料誤值或空值\n",
    "#         驗算資料\n",
    "#     轉換資料\n",
    "#         修正日期格式\n",
    "#         以代號取代原資料(市場>>代號、花名重編、分類)\n",
    "#         將各種花合併得到總交易量、平均價格\n",
    "#         新增已周圍單位的存檔\n",
    "#     存取資料"
   ]
  },
  {
   "cell_type": "code",
   "execution_count": 2,
   "metadata": {},
   "outputs": [
    {
     "data": {
      "text/plain": [
       "[['../result/merge_flower_price\\\\Anthurium_台中.csv',\n",
       "  '../result/merge_flower_price\\\\Anthurium_台北.csv',\n",
       "  '../result/merge_flower_price\\\\Anthurium_台南.csv',\n",
       "  '../result/merge_flower_price\\\\Anthurium_彰化.csv',\n",
       "  '../result/merge_flower_price\\\\Anthurium_高雄.csv'],\n",
       " ['../result/merge_flower_price\\\\Chrysanthemum_台中.csv',\n",
       "  '../result/merge_flower_price\\\\Chrysanthemum_台北.csv',\n",
       "  '../result/merge_flower_price\\\\Chrysanthemum_台南.csv',\n",
       "  '../result/merge_flower_price\\\\Chrysanthemum_彰化.csv',\n",
       "  '../result/merge_flower_price\\\\Chrysanthemum_高雄.csv'],\n",
       " ['../result/merge_flower_price\\\\Eustoma_台中.csv',\n",
       "  '../result/merge_flower_price\\\\Eustoma_台北.csv',\n",
       "  '../result/merge_flower_price\\\\Eustoma_台南.csv',\n",
       "  '../result/merge_flower_price\\\\Eustoma_彰化.csv',\n",
       "  '../result/merge_flower_price\\\\Eustoma_高雄.csv'],\n",
       " ['../result/merge_flower_price\\\\OrientalLily_台中.csv',\n",
       "  '../result/merge_flower_price\\\\OrientalLily_台北.csv',\n",
       "  '../result/merge_flower_price\\\\OrientalLily_台南.csv',\n",
       "  '../result/merge_flower_price\\\\OrientalLily_彰化.csv',\n",
       "  '../result/merge_flower_price\\\\OrientalLily_高雄.csv'],\n",
       " ['../result/merge_flower_price\\\\Rose_台中.csv',\n",
       "  '../result/merge_flower_price\\\\Rose_台北.csv',\n",
       "  '../result/merge_flower_price\\\\Rose_台南.csv',\n",
       "  '../result/merge_flower_price\\\\Rose_彰化.csv',\n",
       "  '../result/merge_flower_price\\\\Rose_高雄.csv']]"
      ]
     },
     "execution_count": 2,
     "metadata": {},
     "output_type": "execute_result"
    }
   ],
   "source": [
    "# seting 讀取檔案\n",
    "import os, glob\n",
    "import numpy as np\n",
    "import pandas as pd\n",
    "from datetime import date, time, datetime\n",
    "from datetime import timedelta\n",
    "\n",
    "fn_list = glob.glob(\"../result/merge_flower_price/*台北.csv\")\n",
    "flowers =[]\n",
    "for fn in fn_list:\n",
    "    flowers.append(fn.split(\"\\\\\")[-1].split(\"_\")[0])\n",
    "# flowers\n",
    "datasets =[]\n",
    "for f in flowers:\n",
    "    key_word = \"../result/merge_flower_price/\" + f +\"*.csv\"\n",
    "    datasets.append(glob.glob(key_word))\n",
    "datasets\n",
    "# print(fn_list)\n",
    "# fn = fn_list[4]\n"
   ]
  },
  {
   "cell_type": "code",
   "execution_count": 3,
   "metadata": {},
   "outputs": [],
   "source": [
    "def merge_all_market(fn_list):\n",
    "    df_list = []\n",
    "    for fn in fn_list:\n",
    "        df_list.append(pd.read_csv(fn, \n",
    "                                   names=[\"date\", \"market\", \"price\", \"count\", \"year\", \"week\"],\n",
    "                                   encoding=\"utf-8\"))\n",
    "    len(df_list)\n",
    "    df_new = df_list[0].append([df_list[1],df_list[2],df_list[3],df_list[4]])\n",
    "    df_new = df_new.reset_index()\n",
    "    df_new = df_new.drop(columns=\"index\")\n",
    "    df_m_by_date = df_new.copy()\n",
    "    df_m_by_date[\"flower\"] = flower\n",
    "    arr = np.array(df_new)\n",
    "    freq = df_new[\"date\"].value_counts()\n",
    "    all_date = df_new[\"date\"].drop_duplicates()\n",
    "#     null_data = df.iloc[df[\"date\"].index.isnull()]\n",
    "    merge_data = []\n",
    "    c = [\"date\", \"avg_price\", \"total_count\", \"year\", \"week\"]\n",
    "    for d in all_date:\n",
    "    #     day_data =[]\n",
    "        sub_data = arr[arr[:,0]==d,:]\n",
    "        d_count = sum(sub_data[:,3])\n",
    "        d_avg = round(sum(sub_data[:,3]*sub_data[:,2])/d_count,3)\n",
    "#         print(sub_data)\n",
    "\n",
    "        day_data =[sub_data[0,0], d_avg, d_count, sub_data[0,4], sub_data[0,5]]\n",
    "        merge_data.append(day_data)\n",
    "    df_m = pd.DataFrame(merge_data, columns=c)\n",
    "    df_m[\"flower\"] = flower\n",
    "    return df_m, df_m_by_date"
   ]
  },
  {
   "cell_type": "code",
   "execution_count": 4,
   "metadata": {},
   "outputs": [
    {
     "name": "stdout",
     "output_type": "stream",
     "text": [
      "data saved Anthurium\n",
      "data saved Chrysanthemum\n",
      "data saved Eustoma\n",
      "data saved OrientalLily\n",
      "data saved Rose\n"
     ]
    }
   ],
   "source": [
    "for i in range(len(datasets)):\n",
    "    dataset = datasets[i]\n",
    "#     print(dataset)\n",
    "    flower = flowers[i]\n",
    "    df_result, df_by_day = merge_all_market(dataset)\n",
    "    fn_save = \"../result/merge_flower_allmarket_price/merge_\" + flower + \".csv\"\n",
    "    df_result.to_csv(fn_save, index=False, encoding=\"utf-8\")\n",
    "    fn_save = \"../result/merge_flower_allmarket_price/mongo_up_\" + flower + \".csv\"\n",
    "    df_result.to_csv(fn_save, index=False, encoding=\"utf-8\", header=False)\n",
    "    fn_save = \"../result/merge_flower_price_by_day/\" + flower + \".csv\"\n",
    "    df_by_day.to_csv(fn_save, index=False, encoding=\"utf-8\")\n",
    "    print(\"data saved\", flower)\n"
   ]
  },
  {
   "cell_type": "code",
   "execution_count": 9,
   "metadata": {},
   "outputs": [
    {
     "data": {
      "text/html": [
       "<div>\n",
       "<style scoped>\n",
       "    .dataframe tbody tr th:only-of-type {\n",
       "        vertical-align: middle;\n",
       "    }\n",
       "\n",
       "    .dataframe tbody tr th {\n",
       "        vertical-align: top;\n",
       "    }\n",
       "\n",
       "    .dataframe thead th {\n",
       "        text-align: right;\n",
       "    }\n",
       "</style>\n",
       "<table border=\"1\" class=\"dataframe\">\n",
       "  <thead>\n",
       "    <tr style=\"text-align: right;\">\n",
       "      <th></th>\n",
       "      <th>date</th>\n",
       "      <th>avg_price</th>\n",
       "      <th>total_count</th>\n",
       "      <th>year</th>\n",
       "      <th>week</th>\n",
       "      <th>flower</th>\n",
       "    </tr>\n",
       "  </thead>\n",
       "  <tbody>\n",
       "    <tr>\n",
       "      <th>1834</th>\n",
       "      <td>2018-09-30</td>\n",
       "      <td>57.67</td>\n",
       "      <td>119</td>\n",
       "      <td>2018</td>\n",
       "      <td>39</td>\n",
       "      <td>Rose</td>\n",
       "    </tr>\n",
       "    <tr>\n",
       "      <th>1835</th>\n",
       "      <td>2018-10-07</td>\n",
       "      <td>105.06</td>\n",
       "      <td>159</td>\n",
       "      <td>2018</td>\n",
       "      <td>40</td>\n",
       "      <td>Rose</td>\n",
       "    </tr>\n",
       "    <tr>\n",
       "      <th>1836</th>\n",
       "      <td>2018-10-14</td>\n",
       "      <td>132.08</td>\n",
       "      <td>168</td>\n",
       "      <td>2018</td>\n",
       "      <td>41</td>\n",
       "      <td>Rose</td>\n",
       "    </tr>\n",
       "    <tr>\n",
       "      <th>1837</th>\n",
       "      <td>2018-10-21</td>\n",
       "      <td>87.33</td>\n",
       "      <td>503</td>\n",
       "      <td>2018</td>\n",
       "      <td>42</td>\n",
       "      <td>Rose</td>\n",
       "    </tr>\n",
       "  </tbody>\n",
       "</table>\n",
       "</div>"
      ],
      "text/plain": [
       "            date  avg_price  total_count  year  week flower\n",
       "1834  2018-09-30      57.67          119  2018    39   Rose\n",
       "1835  2018-10-07     105.06          159  2018    40   Rose\n",
       "1836  2018-10-14     132.08          168  2018    41   Rose\n",
       "1837  2018-10-21      87.33          503  2018    42   Rose"
      ]
     },
     "execution_count": 9,
     "metadata": {},
     "output_type": "execute_result"
    }
   ],
   "source": [
    "df_result.tail(4)"
   ]
  },
  {
   "cell_type": "code",
   "execution_count": 10,
   "metadata": {
    "scrolled": true
   },
   "outputs": [
    {
     "data": {
      "text/html": [
       "<div>\n",
       "<style scoped>\n",
       "    .dataframe tbody tr th:only-of-type {\n",
       "        vertical-align: middle;\n",
       "    }\n",
       "\n",
       "    .dataframe tbody tr th {\n",
       "        vertical-align: top;\n",
       "    }\n",
       "\n",
       "    .dataframe thead th {\n",
       "        text-align: right;\n",
       "    }\n",
       "</style>\n",
       "<table border=\"1\" class=\"dataframe\">\n",
       "  <thead>\n",
       "    <tr style=\"text-align: right;\">\n",
       "      <th></th>\n",
       "      <th>date</th>\n",
       "      <th>market</th>\n",
       "      <th>price</th>\n",
       "      <th>count</th>\n",
       "      <th>year</th>\n",
       "      <th>week</th>\n",
       "      <th>flower</th>\n",
       "    </tr>\n",
       "  </thead>\n",
       "  <tbody>\n",
       "    <tr>\n",
       "      <th>8708</th>\n",
       "      <td>2018-05-30</td>\n",
       "      <td>高雄</td>\n",
       "      <td>65.49</td>\n",
       "      <td>1144</td>\n",
       "      <td>2018</td>\n",
       "      <td>22</td>\n",
       "      <td>Rose</td>\n",
       "    </tr>\n",
       "    <tr>\n",
       "      <th>8709</th>\n",
       "      <td>2018-05-31</td>\n",
       "      <td>高雄</td>\n",
       "      <td>100.44</td>\n",
       "      <td>1286</td>\n",
       "      <td>2018</td>\n",
       "      <td>22</td>\n",
       "      <td>Rose</td>\n",
       "    </tr>\n",
       "    <tr>\n",
       "      <th>8710</th>\n",
       "      <td>2018-06-01</td>\n",
       "      <td>高雄</td>\n",
       "      <td>77.64</td>\n",
       "      <td>1162</td>\n",
       "      <td>2018</td>\n",
       "      <td>22</td>\n",
       "      <td>Rose</td>\n",
       "    </tr>\n",
       "    <tr>\n",
       "      <th>8711</th>\n",
       "      <td>2018-06-02</td>\n",
       "      <td>高雄</td>\n",
       "      <td>55.25</td>\n",
       "      <td>879</td>\n",
       "      <td>2018</td>\n",
       "      <td>22</td>\n",
       "      <td>Rose</td>\n",
       "    </tr>\n",
       "    <tr>\n",
       "      <th>8712</th>\n",
       "      <td>2018-06-04</td>\n",
       "      <td>高雄</td>\n",
       "      <td>73.18</td>\n",
       "      <td>1324</td>\n",
       "      <td>2018</td>\n",
       "      <td>23</td>\n",
       "      <td>Rose</td>\n",
       "    </tr>\n",
       "  </tbody>\n",
       "</table>\n",
       "</div>"
      ],
      "text/plain": [
       "            date market   price  count  year  week flower\n",
       "8708  2018-05-30     高雄   65.49   1144  2018    22   Rose\n",
       "8709  2018-05-31     高雄  100.44   1286  2018    22   Rose\n",
       "8710  2018-06-01     高雄   77.64   1162  2018    22   Rose\n",
       "8711  2018-06-02     高雄   55.25    879  2018    22   Rose\n",
       "8712  2018-06-04     高雄   73.18   1324  2018    23   Rose"
      ]
     },
     "execution_count": 10,
     "metadata": {},
     "output_type": "execute_result"
    }
   ],
   "source": [
    "df_by_day.tail(5)"
   ]
  },
  {
   "cell_type": "code",
   "execution_count": 7,
   "metadata": {},
   "outputs": [
    {
     "ename": "NameError",
     "evalue": "name 'df' is not defined",
     "output_type": "error",
     "traceback": [
      "\u001b[0;31m---------------------------------------------------------------------------\u001b[0m",
      "\u001b[0;31mNameError\u001b[0m                                 Traceback (most recent call last)",
      "\u001b[0;32m<ipython-input-7-0f4beec7aac0>\u001b[0m in \u001b[0;36m<module>\u001b[0;34m()\u001b[0m\n\u001b[1;32m      1\u001b[0m \u001b[0;32mimport\u001b[0m \u001b[0mmatplotlib\u001b[0m\u001b[0;34m.\u001b[0m\u001b[0mpyplot\u001b[0m \u001b[0;32mas\u001b[0m \u001b[0mplt\u001b[0m\u001b[0;34m\u001b[0m\u001b[0m\n\u001b[0;32m----> 2\u001b[0;31m \u001b[0mplt\u001b[0m\u001b[0;34m.\u001b[0m\u001b[0mplot\u001b[0m\u001b[0;34m(\u001b[0m\u001b[0mdf\u001b[0m\u001b[0;34m.\u001b[0m\u001b[0mindex\u001b[0m\u001b[0;34m.\u001b[0m\u001b[0mto_list\u001b[0m\u001b[0;34m(\u001b[0m\u001b[0;34m)\u001b[0m\u001b[0;34m,\u001b[0m \u001b[0mdf\u001b[0m\u001b[0;34m[\u001b[0m\u001b[0;34m\"avg_price\"\u001b[0m\u001b[0;34m]\u001b[0m\u001b[0;34m)\u001b[0m\u001b[0;34m\u001b[0m\u001b[0m\n\u001b[0m\u001b[1;32m      3\u001b[0m \u001b[0mplt\u001b[0m\u001b[0;34m.\u001b[0m\u001b[0mshow\u001b[0m\u001b[0;34m(\u001b[0m\u001b[0;34m)\u001b[0m\u001b[0;34m\u001b[0m\u001b[0m\n",
      "\u001b[0;31mNameError\u001b[0m: name 'df' is not defined"
     ]
    }
   ],
   "source": [
    "import matplotlib.pyplot as plt\n",
    "plt.plot(df.index.to_list(), df[\"avg_price\"])\n",
    "plt.show()"
   ]
  }
 ],
 "metadata": {
  "kernelspec": {
   "display_name": "Python 3",
   "language": "python",
   "name": "python3"
  },
  "language_info": {
   "codemirror_mode": {
    "name": "ipython",
    "version": 3
   },
   "file_extension": ".py",
   "mimetype": "text/x-python",
   "name": "python",
   "nbconvert_exporter": "python",
   "pygments_lexer": "ipython3",
   "version": "3.6.0"
  }
 },
 "nbformat": 4,
 "nbformat_minor": 2
}
