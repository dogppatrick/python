{
 "cells": [
  {
   "cell_type": "code",
   "execution_count": 1,
   "metadata": {},
   "outputs": [],
   "source": [
    "# 主要步驟\n",
    "#     讀取資料\n",
    "#         讀檔案\n",
    "#         取出常用變數(若有更改常用變數時要記得更新\n",
    "#     清洗資料\n",
    "#         刪除價格值為0的奇怪資料\n",
    "#         刪除不會用到的欄位\n",
    "#         刪除不會用到的列\n",
    "#         找出資料誤值或空值\n",
    "#         驗算資料\n",
    "#     轉換資料\n",
    "#         修正日期格式\n",
    "#         以代號取代原資料(市場>>代號、花名重編、分類)\n",
    "#         將各種花合併得到總交易量、平均價格\n",
    "#         新增已周圍單位的存檔\n",
    "#     存取資料"
   ]
  },
  {
   "cell_type": "code",
   "execution_count": 2,
   "metadata": {},
   "outputs": [
    {
     "data": {
      "text/plain": [
       "[['../result/merge_flower_price\\\\Anthurium_台中.csv',\n",
       "  '../result/merge_flower_price\\\\Anthurium_台北.csv',\n",
       "  '../result/merge_flower_price\\\\Anthurium_台南.csv',\n",
       "  '../result/merge_flower_price\\\\Anthurium_彰化.csv',\n",
       "  '../result/merge_flower_price\\\\Anthurium_高雄.csv'],\n",
       " ['../result/merge_flower_price\\\\Chrysanthemum_台中.csv',\n",
       "  '../result/merge_flower_price\\\\Chrysanthemum_台北.csv',\n",
       "  '../result/merge_flower_price\\\\Chrysanthemum_台南.csv',\n",
       "  '../result/merge_flower_price\\\\Chrysanthemum_彰化.csv',\n",
       "  '../result/merge_flower_price\\\\Chrysanthemum_高雄.csv'],\n",
       " ['../result/merge_flower_price\\\\Eustoma_台中.csv',\n",
       "  '../result/merge_flower_price\\\\Eustoma_台北.csv',\n",
       "  '../result/merge_flower_price\\\\Eustoma_台南.csv',\n",
       "  '../result/merge_flower_price\\\\Eustoma_彰化.csv',\n",
       "  '../result/merge_flower_price\\\\Eustoma_高雄.csv'],\n",
       " ['../result/merge_flower_price\\\\OrientalLily_台中.csv',\n",
       "  '../result/merge_flower_price\\\\OrientalLily_台北.csv',\n",
       "  '../result/merge_flower_price\\\\OrientalLily_台南.csv',\n",
       "  '../result/merge_flower_price\\\\OrientalLily_彰化.csv',\n",
       "  '../result/merge_flower_price\\\\OrientalLily_高雄.csv'],\n",
       " ['../result/merge_flower_price\\\\Rose_台中.csv',\n",
       "  '../result/merge_flower_price\\\\Rose_台北.csv',\n",
       "  '../result/merge_flower_price\\\\Rose_台南.csv',\n",
       "  '../result/merge_flower_price\\\\Rose_彰化.csv',\n",
       "  '../result/merge_flower_price\\\\Rose_高雄.csv']]"
      ]
     },
     "execution_count": 2,
     "metadata": {},
     "output_type": "execute_result"
    }
   ],
   "source": [
    "# seting 讀取檔案\n",
    "import os, glob\n",
    "import numpy as np\n",
    "import pandas as pd\n",
    "from datetime import date, time, datetime\n",
    "from datetime import timedelta\n",
    "\n",
    "fn_list = glob.glob(\"../result/merge_flower_price/*台北.csv\")\n",
    "flowers =[]\n",
    "for fn in fn_list:\n",
    "    flowers.append(fn.split(\"\\\\\")[-1].split(\"_\")[0])\n",
    "# flowers\n",
    "datasets =[]\n",
    "for f in flowers:\n",
    "    key_word = \"../result/merge_flower_price/\" + f +\"*.csv\"\n",
    "    datasets.append(glob.glob(key_word))\n",
    "datasets\n",
    "# print(fn_list)\n",
    "# fn = fn_list[4]\n"
   ]
  },
  {
   "cell_type": "code",
   "execution_count": 5,
   "metadata": {},
   "outputs": [],
   "source": [
    "def merge_all_market(fn_list):\n",
    "    df_list = []\n",
    "    for fn in fn_list:\n",
    "        df_list.append(pd.read_csv(fn, \n",
    "                                   names=[\"date\", \"market\", \"price\", \"count\", \"year\", \"week\"],\n",
    "                                   encoding=\"utf-8\"))\n",
    "    len(df_list)\n",
    "    df_new = df_list[0].append([df_list[1],df_list[2],df_list[3],df_list[4]])\n",
    "    df_new = df_new.reset_index()\n",
    "    df_new = df_new.drop(columns=\"index\")\n",
    "    df_m_by_date = df_new.copy()\n",
    "    df_m_by_date[\"flower\"] = flower\n",
    "    arr = np.array(df_new)\n",
    "    freq = df_new[\"date\"].value_counts()\n",
    "    all_date = df_new[\"date\"].drop_duplicates()\n",
    "#     null_data = df.iloc[df[\"date\"].index.isnull()]\n",
    "    merge_data = []\n",
    "    c = [\"date\", \"avg_price\", \"total_count\", \"year\", \"week\"]\n",
    "    for d in all_date:\n",
    "    #     day_data =[]\n",
    "        sub_data = arr[arr[:,0]==d,:]\n",
    "        d_count = sum(sub_data[:,3])\n",
    "        d_avg = round(sum(sub_data[:,3]*sub_data[:,2])/d_count,3)\n",
    "#         print(sub_data)\n",
    "\n",
    "        day_data =[sub_data[0,0], d_avg, d_count, sub_data[0,4], sub_data[0,5]]\n",
    "        merge_data.append(day_data)\n",
    "    df_m = pd.DataFrame(merge_data, columns=c)\n",
    "    df_m[\"flower\"] = flower\n",
    "    return df_m, df_m_by_date"
   ]
  },
  {
   "cell_type": "code",
   "execution_count": 6,
   "metadata": {},
   "outputs": [
    {
     "name": "stdout",
     "output_type": "stream",
     "text": [
      "data saved Anthurium\n",
      "data saved Chrysanthemum\n",
      "data saved Eustoma\n",
      "data saved OrientalLily\n",
      "data saved Rose\n"
     ]
    }
   ],
   "source": [
    "for i in range(len(datasets)):\n",
    "    dataset = datasets[i]\n",
    "#     print(dataset)\n",
    "    flower = flowers[i]\n",
    "    df_result, df_by_day = merge_all_market(dataset)\n",
    "    fn_save = \"../result/merge_flower_allmarket_price/merge_\" + flower + \".csv\"\n",
    "    df_result.to_csv(fn_save, index=False, encoding=\"utf-8\")\n",
    "    fn_save = \"../result/merge_flower_allmarket_price/mongo_up_\" + flower + \".csv\"\n",
    "    df_result.to_csv(fn_save, index=False, encoding=\"utf-8\", header=False)\n",
    "    fn_save = \"../result/merge_flower_price_by_day/\" + flower + \".csv\"\n",
    "    df_by_day.to_csv(fn_save, index=False, encoding=\"utf-8\")\n",
    "    print(\"data saved\", flower)\n"
   ]
  },
  {
   "cell_type": "code",
   "execution_count": null,
   "metadata": {},
   "outputs": [],
   "source": [
    "df_result"
   ]
  },
  {
   "cell_type": "code",
   "execution_count": null,
   "metadata": {
    "scrolled": true
   },
   "outputs": [],
   "source": [
    "df_by_day"
   ]
  },
  {
   "cell_type": "code",
   "execution_count": null,
   "metadata": {},
   "outputs": [],
   "source": [
    "import matplotlib.pyplot as plt\n",
    "plt.plot(df.index.to_list(), df[\"avg_price\"])\n",
    "plt.show()"
   ]
  }
 ],
 "metadata": {
  "kernelspec": {
   "display_name": "Python 3",
   "language": "python",
   "name": "python3"
  },
  "language_info": {
   "codemirror_mode": {
    "name": "ipython",
    "version": 3
   },
   "file_extension": ".py",
   "mimetype": "text/x-python",
   "name": "python",
   "nbconvert_exporter": "python",
   "pygments_lexer": "ipython3",
   "version": "3.6.0"
  }
 },
 "nbformat": 4,
 "nbformat_minor": 2
}
