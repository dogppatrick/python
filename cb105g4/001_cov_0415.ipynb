{
 "cells": [
  {
   "cell_type": "code",
   "execution_count": 1,
   "metadata": {},
   "outputs": [],
   "source": [
    "# seting up \n",
    "import os, glob\n",
    "import numpy as np\n",
    "import pandas as pd\n",
    "\n",
    "fn_list = glob.glob(\"*.csv\")\n",
    "fn = fn_list[0]"
   ]
  },
  {
   "cell_type": "code",
   "execution_count": 2,
   "metadata": {},
   "outputs": [
    {
     "name": "stdout",
     "output_type": "stream",
     "text": [
      "111777\n",
      "0 日期\n",
      "1 市場\n",
      "2 產品\n",
      "3 最高價\n",
      "4 上價\n",
      "5 中價\n",
      "6 下價\n",
      "7 平均價\n",
      "8 增減%\n",
      "9 交易量\n",
      "10 增減%.1\n",
      "11 殘貨量\n"
     ]
    }
   ],
   "source": [
    "# 讀取檔案 先檢視檔案格式 將常用的變數先列出\n",
    "df = pd.read_csv(fn, encoding=\"utf-8\")\n",
    "df\n",
    "# 總行數\n",
    "nraw = df.shape[0]\n",
    "# 個別欄位名稱\n",
    "c = df.columns.tolist()\n",
    "print(nraw)\n",
    "for i in range(len(c)):\n",
    "    print(i, c[i])"
   ]
  },
  {
   "cell_type": "code",
   "execution_count": 3,
   "metadata": {
    "scrolled": true
   },
   "outputs": [
    {
     "data": {
      "text/plain": [
       "['日期', '市場', '產品', '最高價', '上價', '中價', '下價', '平均價', '交易量']"
      ]
     },
     "execution_count": 3,
     "metadata": {},
     "output_type": "execute_result"
    }
   ],
   "source": [
    "df = pd.read_csv(fn, encoding=\"utf-8\")\n",
    "# 刪除不使用的資料 \n",
    "df = df.drop([\"增減%\",\"增減%.1\",\"殘貨量\"], axis=1)\n",
    "# 總行數 update\n",
    "nraw = df.shape[0]\n",
    "# 個別欄位名稱 update\n",
    "c = df.columns.tolist()\n",
    "c"
   ]
  },
  {
   "cell_type": "code",
   "execution_count": 4,
   "metadata": {},
   "outputs": [
    {
     "name": "stdout",
     "output_type": "stream",
     "text": [
      "市場\n",
      "105 台北花市    32852\n",
      "800 高雄市場    20802\n",
      "400 台中市場    20282\n",
      "700 台南市場    19550\n",
      "514 彰化市場    18286\n",
      "Name: 市場, dtype: int64\n",
      "====\n",
      "Empty DataFrame\n",
      "Columns: [日期, 市場, 產品, 最高價, 上價, 中價, 下價, 平均價, 交易量]\n",
      "Index: []\n",
      "=====\n",
      "產品\n",
      "FU442 洋桔梗 雙瓣粉        6852\n",
      "FU478 洋桔梗 羅西娜紫       6413\n",
      "FU462 洋桔梗 雙瓣白        6321\n",
      "FU402 洋桔梗 雙瓣(混色)     6134\n",
      "FU449 洋桔梗 艾瑞娜彩粉      5443\n",
      "FU480 洋桔梗 順風紫        5306\n",
      "FU458 洋桔梗 艾瑞娜綠       5167\n",
      "FU472 洋桔梗 雙瓣紫        5017\n",
      "FU453 洋桔梗 雙瓣綠        4357\n",
      "FU457 洋桔梗 順風綠        4310\n",
      "FU000 洋桔梗            4077\n",
      "FU572 洋桔梗 雙瓣白紫邊      3833\n",
      "FU575 洋桔梗 海之波        3805\n",
      "FU452 洋吉梗 雙瓣彩藍       3513\n",
      "FU441 洋桔梗 順風粉        3104\n",
      "FU415 洋桔梗 艾瑞娜桃       2937\n",
      "FU562 洋桔梗 珍妮白        2823\n",
      "FU446 洋桔梗 艾瑞娜粉       2412\n",
      "FU432 洋桔梗 雙瓣黃        2327\n",
      "FU274 洋桔梗 莫內馬林白紫     2146\n",
      "FU481 洋桔梗 卡門紫        2034\n",
      "FU469 洋桔梗 皇后白        1833\n",
      "FU451 洋桔梗 順風杏粉       1768\n",
      "FU459 洋桔梗 琥珀綠        1710\n",
      "FU448 洋桔梗 克萊麗        1610\n",
      "FU450 洋桔梗 新喜彩粉       1466\n",
      "FU412 洋桔梗 雙瓣紅        1401\n",
      "FU542 洋桔梗 雙瓣白粉邊      1231\n",
      "FU477 洋桔梗 羅西娜薰衣草紫    1173\n",
      "FU463 洋桔梗 小羅莎白       1133\n",
      "                     ... \n",
      "FU443 洋桔梗 羅莎彩粉        184\n",
      "FU455 洋桔梗 羅西娜綠        153\n",
      "FU544 洋桔梗 鑽石白粉        131\n",
      "FU561 洋桔梗 凜白          129\n",
      "FU444 洋桔梗 羅西娜彩粉        78\n",
      "FU272 洋桔梗 彼得2號白紫       70\n",
      "FU414 洋桔梗 露娜美桃         59\n",
      "FU454 洋桔梗 羅莎綠          57\n",
      "FU553 洋桔梗 羅西娜彩藍        51\n",
      "FU466 洋桔梗 超級神奇白        48\n",
      "FU434 洋桔梗 奶油泡芙         43\n",
      "FU465 洋桔梗 神奇白          33\n",
      "FU142 洋桔梗 可愛粉          31\n",
      "FU131 洋桔梗 單瓣黃          27\n",
      "FU468 洋桔梗 石中劍白1        24\n",
      "FU172 洋桔梗 可愛紫          19\n",
      "FU512 洋桔梗 雙瓣白紅邊        16\n",
      "FU456 洋桔梗 吉美1號綠        14\n",
      "FU445 洋桔梗 禮儀淺粉         12\n",
      "FU476 洋桔梗 羅莎紫          11\n",
      "FU413 洋桔梗 蝴蠂櫻紅          9\n",
      "FU573 洋桔梗 神奇白紫          6\n",
      "FU211 洋桔梗 單瓣白紅邊         5\n",
      "FU241 洋桔梗 單瓣白粉邊         4\n",
      "FU479 洋桔梗 波卡            3\n",
      "FU161 洋桔梗 單瓣白           2\n",
      "FU151 洋吉梗 單瓣彩藍          1\n",
      "FU273 洋桔梗 北斗星白紫         1\n",
      "FU152 洋桔梗 單瓣綠           1\n",
      "FU474 洋桔梗 國王紫           1\n",
      "Name: 產品, Length: 76, dtype: int64\n",
      "====\n",
      "Empty DataFrame\n",
      "Columns: [日期, 市場, 產品, 最高價, 上價, 中價, 下價, 平均價, 交易量]\n",
      "Index: []\n",
      "=====\n"
     ]
    }
   ],
   "source": [
    "# 檢視資料內容 類別變相次數分配(順便檢查有沒有key錯的資料)\n",
    "for colum in ['市場', '產品']:\n",
    "    freq = df[colum].value_counts()\n",
    "    dist_value = df[colum].drop_duplicates()\n",
    "    null_data = df.iloc[df[colum].index.isnull()]\n",
    "    print(colum)\n",
    "    print(freq)\n",
    "#     print(dist_value)\n",
    "    print(\"====\")\n",
    "    print(null_data)\n",
    "    print(\"=====\")"
   ]
  },
  {
   "cell_type": "code",
   "execution_count": 5,
   "metadata": {},
   "outputs": [
    {
     "name": "stdout",
     "output_type": "stream",
     "text": [
      "25367 ['nan']\n",
      "47778 ['nan']\n",
      "70354 ['nan']\n",
      "91426 ['nan']\n",
      "111776 ['nan']\n"
     ]
    }
   ],
   "source": [
    "flo_name = np.array(df[\"產品\"])\n",
    "# 將要刪除的index 放進去\n",
    "ind_to_delete=[]\n",
    "# n = 10\n",
    "n = len(flo_name)\n",
    "for i in range(n):\n",
    "    data = str(flo_name[i]).split(\" \")\n",
    "#     print(data)\n",
    "    if len(data)<3:\n",
    "        ind_to_delete.append(i)\n",
    "#         print(i, data)\n",
    "# 刪除有問題的資料 (是小計的那行\n",
    "df = df.drop(ind_to_delete,axis=0)\n",
    "df.reset_index(drop=True)\n",
    "nraw = df.shape[0]"
   ]
  },
  {
   "cell_type": "code",
   "execution_count": 12,
   "metadata": {},
   "outputs": [],
   "source": [
    "# # 使用 np array 修改資料 檢查資料是否有不一致  FU152 洋桔梗 單瓣綠 FU152有前後不一致名詞\n",
    "# flo_name = np.array(df[\"產品\"])\n",
    "# err_code = []\n",
    "# err_cn =[]\n",
    "# # n = 100\n",
    "# dict_flo = {}\n",
    "# n = len(flo_name)\n",
    "# for i in range(n):\n",
    "#     (f_code, f_n, f_cn) = str(flo_name[i]).split(\" \")\n",
    "# #     print(f_code, f_n, f_cn)\n",
    "#     if f_code in dict_flo:\n",
    "# #         已經登入的f_code 中有不同的f_cn\n",
    "#         if f_cn!= dict_flo[f_code]:\n",
    "#             err_code.append((f_code, dict_flo[f_code], f_cn))\n",
    "#             err_cn.append(f_cn)\n",
    "#             print(f_cn)\n",
    "#     else:\n",
    "#         dict_flo[f_code] = f_cn\n",
    "# 檢查沒問題"
   ]
  },
  {
   "cell_type": "code",
   "execution_count": 13,
   "metadata": {},
   "outputs": [
    {
     "data": {
      "text/plain": [
       "111772"
      ]
     },
     "execution_count": 13,
     "metadata": {},
     "output_type": "execute_result"
    }
   ],
   "source": [
    "nraw"
   ]
  }
 ],
 "metadata": {
  "kernelspec": {
   "display_name": "Python 3",
   "language": "python",
   "name": "python3"
  },
  "language_info": {
   "codemirror_mode": {
    "name": "ipython",
    "version": 3
   },
   "file_extension": ".py",
   "mimetype": "text/x-python",
   "name": "python",
   "nbconvert_exporter": "python",
   "pygments_lexer": "ipython3",
   "version": "3.6.7"
  }
 },
 "nbformat": 4,
 "nbformat_minor": 2
}
