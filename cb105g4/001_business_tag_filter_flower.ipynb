{
 "cells": [
  {
   "cell_type": "code",
   "execution_count": null,
   "metadata": {},
   "outputs": [
    {
     "name": "stdout",
     "output_type": "stream",
     "text": [
      "E:\\python\\cb105g4\n",
      "['data_source\\\\全國營業(稅籍)登記(停業)資料集.csv', 'data_source\\\\全國營業(稅籍)登記(停業以外之非營業中)資料集.csv', 'data_source\\\\全國營業(稅籍)登記資料集.csv']\n"
     ]
    }
   ],
   "source": [
    "import glob\n",
    "import os\n",
    "path = os.path.abspath(\"\")\n",
    "print(path)\n",
    "fn_list = glob.glob(\"data_source/*.*\")\n",
    "print(fn_list)\n",
    "fn_to_save = [\"fc_die.csv\", \"fc_may_die.csv\", \"fc_live.csv\"]\n",
    "# edit info :\t 31-MAR-19\n",
    "# data_source\\全國營業(稅籍)登記(停業)資料集.csv to fc_die.csv done\n",
    "# edit info :\t 01-MAR-19\n",
    "# data_source\\全國營業(稅籍)登記(停業以外之非營業中)資料集.csv to fc_may_die.csv done\n",
    "# edit info :\t 31-MAR-19\n",
    "# data_source\\全國營業(稅籍)登記資料集.csv to fc_live.csv done"
   ]
  },
  {
   "cell_type": "code",
   "execution_count": 39,
   "metadata": {},
   "outputs": [
    {
     "name": "stdout",
     "output_type": "stream",
     "text": [
      "delet exist data\n",
      "edit info :\t 31-MAR-19,,,,,,,,,,,,,,,\n",
      "\n",
      "data_source\\全國營業(稅籍)登記(停業)資料集.csv to fc_die.csv done\n",
      "delet exist data\n",
      "edit info :\t 01-MAR-19,,,,,,,,,,,,,,\n",
      "\n",
      "data_source\\全國營業(稅籍)登記(停業以外之非營業中)資料集.csv to fc_may_die.csv done\n",
      "delet exist data\n",
      "edit info :\t 31-MAR-19,,,,,,,,,,,,,,,\n",
      "\n",
      "data_source\\全國營業(稅籍)登記資料集.csv to fc_live.csv done\n"
     ]
    }
   ],
   "source": [
    "# loading  save append count\n",
    "c = 0\n",
    "find_list = [\"花店\", \"花卉\", \"鮮花\", \"盆栽\", \"園藝\"]\n",
    "for q in range(len(fn_list)):\n",
    "    data_w = \"\"\n",
    "    fn_load = path + \"/\" + fn_list[q]\n",
    "    fn_save = path + \"/\" + fn_to_save[q]\n",
    "#     delete data if exist\n",
    "    if os.path.exists(fn_save):\n",
    "        os.remove(fn_save)\n",
    "        print(\"delet exist data\")\n",
    "    with open(fn_load, \"r\", encoding=\"utf-8\") as f:\n",
    "        data = f.readline()\n",
    "    #     add title\n",
    "        data_w = data_w + data\n",
    "        data = f.readline()\n",
    "        print(\"edit info :\\t\", data)\n",
    "        while data != \"\":\n",
    "            data = f.readline()\n",
    "            if any(item in data for item in find_list):\n",
    "                data_w = data_w + data\n",
    "                c = c + 1\n",
    "\n",
    "            if ((c+1) % 100000) == 0:\n",
    "                with open(fn_save, \"a\", encoding=\"utf-8\") as fr:\n",
    "                    fr.write(data_w)\n",
    "                    data_w = \"\"\n",
    "                    print(\"data_saved\")\n",
    "        with open(fn_save, \"a\", encoding=\"utf-8\") as fr:\n",
    "            fr.write(data_w)\n",
    "    print(fn_list[q], \"to\", fn_to_save[q], \"done\")\n"
   ]
  }
 ],
 "metadata": {
  "kernelspec": {
   "display_name": "Python 3",
   "language": "python",
   "name": "python3"
  },
  "language_info": {
   "codemirror_mode": {
    "name": "ipython",
    "version": 3
   },
   "file_extension": ".py",
   "mimetype": "text/x-python",
   "name": "python",
   "nbconvert_exporter": "python",
   "pygments_lexer": "ipython3",
   "version": "3.6.0"
  }
 },
 "nbformat": 4,
 "nbformat_minor": 2
}
