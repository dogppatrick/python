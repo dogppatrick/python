{
 "cells": [
  {
   "cell_type": "code",
   "execution_count": 15,
   "metadata": {},
   "outputs": [
    {
     "name": "stdout",
     "output_type": "stream",
     "text": [
      "467480 updated\n",
      "C0F9L0 updated\n",
      "C0K490 updated\n",
      "C0X060 updated\n"
     ]
    }
   ],
   "source": [
    "import pandas as pd\n",
    "import numpy as np\n",
    "from glob import glob\n",
    "# 指定要更新的資料夾\n",
    "st_list = [\"467480\", \"C0F9L0\", \"C0K490\", \"C0X060\"]\n",
    "# 更新的天氣資訊放的位置\n",
    "p_dir = \"../raw_weather/weather_update_0531/\"\n",
    "# 主要天氣資訊放的位置\n",
    "main_weather_dir = \"../result/merge_weather/\"\n",
    "def merge_weatherdata(p_dir,station_name):\n",
    "#     p_dir = fn_l[0]\n",
    "    data_file = glob(p_dir + \"//*\"+ station_name +\"*.csv\")\n",
    "#     station_name = p_dir.split(\"\\\\\")[-1]\n",
    "    df_all = pd.DataFrame()\n",
    "    n = len(data_file)\n",
    "    for i in range(n):\n",
    "        fn_load = data_file[i]\n",
    "        df_tmp = pd.read_csv(fn_load,encoding=\"utf-8\", \n",
    "                             names=['Date', 'Temperature', 'T.Max', 'T.Min', 'Precp', \n",
    "                                    'RH', 'StnPres', 'WS', 'WSGust'])\n",
    "        if i ==0:\n",
    "            df_all = df_tmp\n",
    "        else:\n",
    "            df_all = df_all.append(df_tmp)\n",
    "    df_all = df_all.reset_index()\n",
    "    df_all = df_all.drop(columns=\"index\")\n",
    "    df_all = df_all.dropna(axis=0)\n",
    "    return df_all\n",
    "\n",
    "st_list = [\"467480\", \"C0F9L0\", \"C0K490\", \"C0X060\"]\n",
    "p_dir = \"../raw_weather/weather_update_0531/\"\n",
    "for station_name in st_list:\n",
    "    update_data  = merge_weatherdata(p_dir,station_name)\n",
    "    main_data_fn = glob(main_weather_dir+ \"*\" +station_name+\"*.csv\")[0]\n",
    "    main_data = pd.read_csv(main_data_fn)\n",
    "    merger_data  = main_data.append(update_data)\n",
    "    merger_data  = merger_data.drop_duplicates(subset=\"Date\")\n",
    "    merger_data  = merger_data.sort_values(by=['Date'])\n",
    "    main_data_fn = main_data_fn.replace(\".csv\",\"\") + \".csv\"\n",
    "    merger_data.to_csv(main_data_fn,encoding=\"utf-8\", index=False)\n",
    "    print(station_name, \"updated\")"
   ]
  },
  {
   "cell_type": "code",
   "execution_count": 14,
   "metadata": {},
   "outputs": [
    {
     "data": {
      "text/plain": [
       "(1419, 9)"
      ]
     },
     "execution_count": 14,
     "metadata": {},
     "output_type": "execute_result"
    }
   ],
   "source": [
    "merger_data.shape"
   ]
  },
  {
   "cell_type": "code",
   "execution_count": 7,
   "metadata": {},
   "outputs": [
    {
     "name": "stdout",
     "output_type": "stream",
     "text": [
      "(2332, 9)\n"
     ]
    },
    {
     "data": {
      "text/plain": [
       "(1977, 9)"
      ]
     },
     "execution_count": 7,
     "metadata": {},
     "output_type": "execute_result"
    }
   ],
   "source": []
  },
  {
   "cell_type": "code",
   "execution_count": 3,
   "metadata": {},
   "outputs": [
    {
     "name": "stdout",
     "output_type": "stream",
     "text": [
      "467480 updated\n",
      "C0F9L0 updated\n",
      "C0K490 updated\n",
      "C0X060 updated\n"
     ]
    }
   ],
   "source": [
    "# for fn in fn_l:\n",
    "# #     得到新的合併表格\n",
    "#     update_data = merge_weatherdata(fn)\n",
    "# #     取得站名\n",
    "#     statation_name = fn.split(\"_\")[-1]\n",
    "# #     用站名去找要更新的主資料\n",
    "#     main_data_fn = glob(\"../result/merge_weather/*\" +statation_name+\"*.csv\")[0]\n",
    "#     main_data = pd.read_csv(main_data_fn)\n",
    "# #     把更新資料黏上去 distinct\n",
    "#     merger_data  = main_data.append(update_data)\n",
    "#     merger_data.drop_duplicates(subset=\"Date\")\n",
    "# #     完成\n",
    "#     merger_data.to_csv(main_data_fn,encoding=\"utf-8\", index=False)\n",
    "#     print(statation_name, \"updated\")"
   ]
  },
  {
   "cell_type": "code",
   "execution_count": 2,
   "metadata": {},
   "outputs": [
    {
     "name": "stdout",
     "output_type": "stream",
     "text": [
      "\n"
     ]
    }
   ],
   "source": []
  },
  {
   "cell_type": "code",
   "execution_count": 4,
   "metadata": {},
   "outputs": [],
   "source": [
    "# df = pd.DataFrame()\n",
    "# df[\"id\"] = [1,1,2,3,5,4,4]\n",
    "# df[\"value\"] = [0,1,2,3,4,5,6]\n",
    "# print(df, df.drop_duplicates(subset=\"id\"))"
   ]
  },
  {
   "cell_type": "code",
   "execution_count": 22,
   "metadata": {},
   "outputs": [
    {
     "data": {
      "text/html": [
       "<div>\n",
       "<style scoped>\n",
       "    .dataframe tbody tr th:only-of-type {\n",
       "        vertical-align: middle;\n",
       "    }\n",
       "\n",
       "    .dataframe tbody tr th {\n",
       "        vertical-align: top;\n",
       "    }\n",
       "\n",
       "    .dataframe thead th {\n",
       "        text-align: right;\n",
       "    }\n",
       "</style>\n",
       "<table border=\"1\" class=\"dataframe\">\n",
       "  <thead>\n",
       "    <tr style=\"text-align: right;\">\n",
       "      <th></th>\n",
       "      <th>Date</th>\n",
       "      <th>Temperature</th>\n",
       "      <th>T.Max</th>\n",
       "      <th>T.Min</th>\n",
       "      <th>Precp</th>\n",
       "      <th>RH</th>\n",
       "      <th>StnPres</th>\n",
       "      <th>WS</th>\n",
       "      <th>WSGust</th>\n",
       "    </tr>\n",
       "  </thead>\n",
       "  <tbody>\n",
       "    <tr>\n",
       "      <th>138</th>\n",
       "      <td>2019-05-27</td>\n",
       "      <td>26.7</td>\n",
       "      <td>29.8</td>\n",
       "      <td>24.6</td>\n",
       "      <td>2.5</td>\n",
       "      <td>89.0</td>\n",
       "      <td>1009.0</td>\n",
       "      <td>0.8</td>\n",
       "      <td>6.9</td>\n",
       "    </tr>\n",
       "    <tr>\n",
       "      <th>139</th>\n",
       "      <td>2019-05-28</td>\n",
       "      <td>26.5</td>\n",
       "      <td>31.5</td>\n",
       "      <td>23.8</td>\n",
       "      <td>2.0</td>\n",
       "      <td>89.0</td>\n",
       "      <td>1009.2</td>\n",
       "      <td>1.6</td>\n",
       "      <td>6.1</td>\n",
       "    </tr>\n",
       "    <tr>\n",
       "      <th>140</th>\n",
       "      <td>2019-05-29</td>\n",
       "      <td>24.9</td>\n",
       "      <td>30.5</td>\n",
       "      <td>22.1</td>\n",
       "      <td>0.0</td>\n",
       "      <td>82.0</td>\n",
       "      <td>1009.4</td>\n",
       "      <td>2.4</td>\n",
       "      <td>7.3</td>\n",
       "    </tr>\n",
       "    <tr>\n",
       "      <th>141</th>\n",
       "      <td>2019-05-30</td>\n",
       "      <td>25.9</td>\n",
       "      <td>30.9</td>\n",
       "      <td>21.2</td>\n",
       "      <td>0.0</td>\n",
       "      <td>78.0</td>\n",
       "      <td>1009.7</td>\n",
       "      <td>1.8</td>\n",
       "      <td>6.6</td>\n",
       "    </tr>\n",
       "    <tr>\n",
       "      <th>142</th>\n",
       "      <td>2019-05-31</td>\n",
       "      <td>25.4</td>\n",
       "      <td>29.8</td>\n",
       "      <td>22.3</td>\n",
       "      <td>1.0</td>\n",
       "      <td>85.0</td>\n",
       "      <td>1009.3</td>\n",
       "      <td>1.6</td>\n",
       "      <td>6.7</td>\n",
       "    </tr>\n",
       "  </tbody>\n",
       "</table>\n",
       "</div>"
      ],
      "text/plain": [
       "           Date  Temperature  T.Max  T.Min  Precp    RH  StnPres   WS  WSGust\n",
       "138  2019-05-27         26.7   29.8   24.6    2.5  89.0   1009.0  0.8     6.9\n",
       "139  2019-05-28         26.5   31.5   23.8    2.0  89.0   1009.2  1.6     6.1\n",
       "140  2019-05-29         24.9   30.5   22.1    0.0  82.0   1009.4  2.4     7.3\n",
       "141  2019-05-30         25.9   30.9   21.2    0.0  78.0   1009.7  1.8     6.6\n",
       "142  2019-05-31         25.4   29.8   22.3    1.0  85.0   1009.3  1.6     6.7"
      ]
     },
     "execution_count": 22,
     "metadata": {},
     "output_type": "execute_result"
    }
   ],
   "source": []
  }
 ],
 "metadata": {
  "kernelspec": {
   "display_name": "Python 3",
   "language": "python",
   "name": "python3"
  },
  "language_info": {
   "codemirror_mode": {
    "name": "ipython",
    "version": 3
   },
   "file_extension": ".py",
   "mimetype": "text/x-python",
   "name": "python",
   "nbconvert_exporter": "python",
   "pygments_lexer": "ipython3",
   "version": "3.6.0"
  }
 },
 "nbformat": 4,
 "nbformat_minor": 2
}
