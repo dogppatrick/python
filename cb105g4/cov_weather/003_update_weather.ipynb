{
 "cells": [
  {
   "cell_type": "code",
   "execution_count": 2,
   "metadata": {},
   "outputs": [
    {
     "data": {
      "text/plain": [
       "['../raw_weather/weather_update_0523\\\\Weather_467480',\n",
       " '../raw_weather/weather_update_0523\\\\Weather_C0F9L0',\n",
       " '../raw_weather/weather_update_0523\\\\Weather_C0K490',\n",
       " '../raw_weather/weather_update_0523\\\\Weather_C0X060']"
      ]
     },
     "execution_count": 2,
     "metadata": {},
     "output_type": "execute_result"
    }
   ],
   "source": [
    "import pandas as pd\n",
    "import numpy as np\n",
    "from glob import glob\n",
    "fn_l = glob(\"../raw_weather/weather_update_0523/*_*\")\n",
    "fn_l"
   ]
  },
  {
   "cell_type": "code",
   "execution_count": 20,
   "metadata": {},
   "outputs": [],
   "source": [
    "def merge_weatherdata(p_dir):\n",
    "#     p_dir = fn_l[0]\n",
    "    data_file = glob(p_dir + \"//*\")\n",
    "    station_name = p_dir.split(\"\\\\\")[-1]\n",
    "    df_all = pd.DataFrame()\n",
    "    n = len(data_file)\n",
    "    for i in range(n):\n",
    "        fn_load = data_file[i]\n",
    "        df_tmp = pd.read_csv(fn_load,encoding=\"utf-8\", \n",
    "                             names=['Date', 'Temperature', 'T.Max', 'T.Min', 'Precp', \n",
    "                                    'RH', 'StnPres', 'WS', 'WSGust'])\n",
    "        if i ==0:\n",
    "            df_all = df_tmp\n",
    "        else:\n",
    "            df_all = df_all.append(df_tmp)\n",
    "    df_all = df_all.reset_index()\n",
    "    df_all = df_all.drop(columns=\"index\")\n",
    "    df_all = df_all.dropna(axis=0)\n",
    "    return df_all\n"
   ]
  },
  {
   "cell_type": "code",
   "execution_count": 33,
   "metadata": {},
   "outputs": [],
   "source": [
    "up_d = merge_weatherdata(fn_l[0])\n",
    "old_d = pd.read_csv(\"../result/merge_weather/467480_嘉義.csv\")\n",
    "merg_d  = old_d.append(up_d)\n",
    "merg_d.drop_duplicates(subset=\"Date\")\n",
    "merg_d.to_csv(\"merge0527.csv\",encoding=\"utf-8\")"
   ]
  },
  {
   "cell_type": "code",
   "execution_count": 48,
   "metadata": {},
   "outputs": [
    {
     "name": "stdout",
     "output_type": "stream",
     "text": [
      "467480 updated\n",
      "C0F9L0 updated\n",
      "C0K490 updated\n",
      "C0X060 updated\n"
     ]
    }
   ],
   "source": [
    "for fn in fn_l:\n",
    "    update_data = merge_weatherdata(fn)\n",
    "    statation_name = fn.split(\"_\")[-1]\n",
    "    main_data_fn = glob(\"../result/merge_weather/*\" +statation_name+\"*.csv\")[0]\n",
    "    main_data = pd.read_csv(main_data_fn)\n",
    "    merger_data  = main_data.append(update_data)\n",
    "    merger_data.drop_duplicates(subset=\"Date\")\n",
    "    merger_data.to_csv(main_data_fn,encoding=\"utf-8\")\n",
    "    print(statation_name, \"updated\")"
   ]
  },
  {
   "cell_type": "code",
   "execution_count": 44,
   "metadata": {},
   "outputs": [
    {
     "data": {
      "text/plain": [
       "'../result/merge_weather\\\\467480_嘉義.csv'"
      ]
     },
     "execution_count": 44,
     "metadata": {},
     "output_type": "execute_result"
    }
   ],
   "source": []
  },
  {
   "cell_type": "code",
   "execution_count": 36,
   "metadata": {},
   "outputs": [],
   "source": [
    "# df = pd.DataFrame()\n",
    "# df[\"id\"] = [1,1,2,3,5,4,4]\n",
    "# df[\"value\"] = [0,1,2,3,4,5,6]\n",
    "# print(df, df.drop_duplicates(subset=\"id\"))"
   ]
  },
  {
   "cell_type": "code",
   "execution_count": null,
   "metadata": {},
   "outputs": [],
   "source": []
  }
 ],
 "metadata": {
  "kernelspec": {
   "display_name": "Python 3",
   "language": "python",
   "name": "python3"
  },
  "language_info": {
   "codemirror_mode": {
    "name": "ipython",
    "version": 3
   },
   "file_extension": ".py",
   "mimetype": "text/x-python",
   "name": "python",
   "nbconvert_exporter": "python",
   "pygments_lexer": "ipython3",
   "version": "3.6.0"
  }
 },
 "nbformat": 4,
 "nbformat_minor": 2
}
