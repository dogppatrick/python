{
 "cells": [
  {
   "cell_type": "code",
   "execution_count": 1,
   "metadata": {},
   "outputs": [],
   "source": [
    "weather_flower = {\"Anthurium\":[\"C0V360_內門\", \"C0X060_下營\"],\n",
    "                  \"Chrysanthemum\":[\"C0K490_古坑\"],\n",
    "                  \"Eustoma\":[\"467480_嘉義\", \"C0G650_員林\"],\n",
    "                  \"OrientalLily\":[\"C0F9L0_后里\"],\n",
    "                  \"Rose\":[\"C0H960_草屯\", \"C0R590_里港\"]}"
   ]
  },
  {
   "cell_type": "code",
   "execution_count": 2,
   "metadata": {},
   "outputs": [
    {
     "data": {
      "text/plain": [
       "['../raw_weather\\\\467480_嘉義',\n",
       " '../raw_weather\\\\C0F9L0_后里',\n",
       " '../raw_weather\\\\C0G650_員林',\n",
       " '../raw_weather\\\\C0H960_草屯',\n",
       " '../raw_weather\\\\C0K490_古坑',\n",
       " '../raw_weather\\\\C0R590_里港',\n",
       " '../raw_weather\\\\C0V360_內門',\n",
       " '../raw_weather\\\\C0X060_下營']"
      ]
     },
     "execution_count": 2,
     "metadata": {},
     "output_type": "execute_result"
    }
   ],
   "source": [
    "import pandas as pd\n",
    "import numpy as np\n",
    "from glob import glob\n",
    "fn_l = glob(\"../raw_weather/*_*\")\n",
    "fn_l = fn_l[:-1]\n",
    "fn_l"
   ]
  },
  {
   "cell_type": "code",
   "execution_count": 7,
   "metadata": {},
   "outputs": [],
   "source": [
    "def merge_weatherdata(p_dir):\n",
    "#     p_dir = fn_l[0]\n",
    "    data_file = glob(p_dir + \"/*\")\n",
    "    station_name = p_dir.split(\"\\\\\")[-1]\n",
    "    df_all = pd.DataFrame\n",
    "    left_col = ['Date', 'Temperature', 'T.Max', 'T.Min', 'Precp', 'RH', 'StnPres', 'WS', 'WSGust']\n",
    "    n = len(data_file)\n",
    "    for i in range(n):\n",
    "        fn_load = data_file[i]\n",
    "        df_tmp = pd.read_csv(fn_load,encoding=\"utf-8\")\n",
    "        df_tmp = df_tmp[left_col]\n",
    "        if i ==0:\n",
    "            df_all = df_tmp\n",
    "        else:\n",
    "            df_all = df_all.append(df_tmp)\n",
    "    df_all = df_all.reset_index()\n",
    "    df_all = df_all.drop(columns=\"index\")\n",
    "    df_all = df_all.dropna(axis=0)\n",
    "    df_all.to_csv(station_name+\".csv\", encoding=\"utf-8\", index=False)\n",
    "    print(\"data_saved\", station_name)"
   ]
  },
  {
   "cell_type": "code",
   "execution_count": 8,
   "metadata": {},
   "outputs": [
    {
     "name": "stdout",
     "output_type": "stream",
     "text": [
      "data_saved 467480_嘉義\n",
      "data_saved C0F9L0_后里\n",
      "data_saved C0G650_員林\n",
      "data_saved C0H960_草屯\n",
      "data_saved C0K490_古坑\n",
      "data_saved C0R590_里港\n",
      "data_saved C0V360_內門\n",
      "data_saved C0X060_下營\n"
     ]
    }
   ],
   "source": [
    "for p_dir in fn_l:\n",
    "    merge_weatherdata(p_dir)"
   ]
  }
 ],
 "metadata": {
  "kernelspec": {
   "display_name": "Python 3",
   "language": "python",
   "name": "python3"
  },
  "language_info": {
   "codemirror_mode": {
    "name": "ipython",
    "version": 3
   },
   "file_extension": ".py",
   "mimetype": "text/x-python",
   "name": "python",
   "nbconvert_exporter": "python",
   "pygments_lexer": "ipython3",
   "version": "3.6.0"
  }
 },
 "nbformat": 4,
 "nbformat_minor": 2
}
